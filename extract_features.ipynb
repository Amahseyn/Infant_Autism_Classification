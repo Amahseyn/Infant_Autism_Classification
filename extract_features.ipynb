{
 "cells": [
  {
   "cell_type": "code",
   "execution_count": 9,
   "metadata": {},
   "outputs": [
    {
     "name": "stderr",
     "output_type": "stream",
     "text": [
      "/home/mio/anaconda3/envs/tfvoice/lib/python3.10/site-packages/librosa/core/spectrum.py:266: UserWarning: n_fft=1024 is too large for input signal of length=963\n",
      "  warnings.warn(\n"
     ]
    }
   ],
   "source": [
    "import librosa\n",
    "\n",
    "import os\n",
    "\n",
    "file_name = \"/home/mio/Documents/code/Infant_Autism_Classification/data/data/Raw_and_cleaned_cry_data/Sounds/original/ASD1/2.wav\"\n",
    "audio, sample_rate = librosa.load(file_name) \n",
    "mfccs = librosa.feature.mfcc(y=audio, sr=sample_rate, n_mfcc=40)\n",
    "\n",
    "\n",
    "chroma = librosa.feature.chroma_stft(y=audio, sr=sample_rate)\n",
    "\n",
    "mel = librosa.feature.melspectrogram(y=audio, sr=sample_rate)\n",
    "\n",
    "contrast = librosa.feature.spectral_contrast(y=audio, sr=sample_rate)\n",
    "\n",
    "\n",
    "tonnetz = librosa.feature.tonnetz(y=librosa.effects.harmonic(audio), sr=sample_rate)\n"
   ]
  },
  {
   "cell_type": "code",
   "execution_count": 1,
   "metadata": {},
   "outputs": [
    {
     "name": "stderr",
     "output_type": "stream",
     "text": [
      "/home/mio/anaconda3/envs/tfvoice/lib/python3.10/site-packages/librosa/core/spectrum.py:266: UserWarning: n_fft=1024 is too large for input signal of length=513\n",
      "  warnings.warn(\n",
      "/home/mio/anaconda3/envs/tfvoice/lib/python3.10/site-packages/librosa/core/spectrum.py:266: UserWarning: n_fft=1024 is too large for input signal of length=513\n",
      "  warnings.warn(\n",
      "/home/mio/anaconda3/envs/tfvoice/lib/python3.10/site-packages/librosa/core/spectrum.py:266: UserWarning: n_fft=1024 is too large for input signal of length=783\n",
      "  warnings.warn(\n",
      "/home/mio/anaconda3/envs/tfvoice/lib/python3.10/site-packages/librosa/core/spectrum.py:266: UserWarning: n_fft=1024 is too large for input signal of length=392\n",
      "  warnings.warn(\n"
     ]
    },
    {
     "name": "stdout",
     "output_type": "stream",
     "text": [
      "Features extracted and saved to data/cleaned/ASD12/2_8_features.txt\n"
     ]
    },
    {
     "name": "stderr",
     "output_type": "stream",
     "text": [
      "/home/mio/anaconda3/envs/tfvoice/lib/python3.10/site-packages/librosa/core/spectrum.py:266: UserWarning: n_fft=1024 is too large for input signal of length=196\n",
      "  warnings.warn(\n"
     ]
    },
    {
     "name": "stdout",
     "output_type": "stream",
     "text": [
      "Features extracted and saved to data/cleaned/ASD12/2_9_features.txt\n"
     ]
    },
    {
     "name": "stderr",
     "output_type": "stream",
     "text": [
      "/home/mio/anaconda3/envs/tfvoice/lib/python3.10/site-packages/librosa/core/spectrum.py:266: UserWarning: n_fft=1024 is too large for input signal of length=518\n",
      "  warnings.warn(\n",
      "/home/mio/anaconda3/envs/tfvoice/lib/python3.10/site-packages/librosa/core/spectrum.py:266: UserWarning: n_fft=1024 is too large for input signal of length=259\n",
      "  warnings.warn(\n"
     ]
    },
    {
     "name": "stdout",
     "output_type": "stream",
     "text": [
      "Features extracted and saved to data/cleaned/ASD12/2_5_features.txt\n",
      "Features extracted and saved to data/cleaned/ASD12/1_1_features.txt\n"
     ]
    },
    {
     "name": "stderr",
     "output_type": "stream",
     "text": [
      "/home/mio/anaconda3/envs/tfvoice/lib/python3.10/site-packages/librosa/core/spectrum.py:266: UserWarning: n_fft=1024 is too large for input signal of length=749\n",
      "  warnings.warn(\n",
      "/home/mio/anaconda3/envs/tfvoice/lib/python3.10/site-packages/librosa/core/spectrum.py:266: UserWarning: n_fft=1024 is too large for input signal of length=375\n",
      "  warnings.warn(\n",
      "/home/mio/anaconda3/envs/tfvoice/lib/python3.10/site-packages/librosa/core/spectrum.py:266: UserWarning: n_fft=1024 is too large for input signal of length=188\n",
      "  warnings.warn(\n"
     ]
    },
    {
     "name": "stdout",
     "output_type": "stream",
     "text": [
      "Features extracted and saved to data/cleaned/ASD12/2_13_features.txt\n"
     ]
    },
    {
     "name": "stderr",
     "output_type": "stream",
     "text": [
      "/home/mio/anaconda3/envs/tfvoice/lib/python3.10/site-packages/librosa/core/spectrum.py:266: UserWarning: n_fft=1024 is too large for input signal of length=539\n",
      "  warnings.warn(\n",
      "/home/mio/anaconda3/envs/tfvoice/lib/python3.10/site-packages/librosa/core/spectrum.py:266: UserWarning: n_fft=1024 is too large for input signal of length=270\n",
      "  warnings.warn(\n"
     ]
    },
    {
     "name": "stdout",
     "output_type": "stream",
     "text": [
      "Features extracted and saved to data/cleaned/ASD12/2_4_features.txt\n"
     ]
    },
    {
     "name": "stderr",
     "output_type": "stream",
     "text": [
      "/home/mio/anaconda3/envs/tfvoice/lib/python3.10/site-packages/librosa/core/spectrum.py:266: UserWarning: n_fft=1024 is too large for input signal of length=564\n",
      "  warnings.warn(\n"
     ]
    },
    {
     "name": "stdout",
     "output_type": "stream",
     "text": [
      "Features extracted and saved to data/cleaned/ASD12/1_2_features.txt\n"
     ]
    },
    {
     "name": "stderr",
     "output_type": "stream",
     "text": [
      "/home/mio/anaconda3/envs/tfvoice/lib/python3.10/site-packages/librosa/core/spectrum.py:266: UserWarning: n_fft=1024 is too large for input signal of length=640\n",
      "  warnings.warn(\n",
      "/home/mio/anaconda3/envs/tfvoice/lib/python3.10/site-packages/librosa/core/spectrum.py:266: UserWarning: n_fft=1024 is too large for input signal of length=320\n",
      "  warnings.warn(\n"
     ]
    },
    {
     "name": "stdout",
     "output_type": "stream",
     "text": [
      "Features extracted and saved to data/cleaned/ASD12/2_3_features.txt\n"
     ]
    },
    {
     "name": "stderr",
     "output_type": "stream",
     "text": [
      "/home/mio/anaconda3/envs/tfvoice/lib/python3.10/site-packages/librosa/core/spectrum.py:266: UserWarning: n_fft=1024 is too large for input signal of length=739\n",
      "  warnings.warn(\n",
      "/home/mio/anaconda3/envs/tfvoice/lib/python3.10/site-packages/librosa/core/spectrum.py:266: UserWarning: n_fft=1024 is too large for input signal of length=370\n",
      "  warnings.warn(\n",
      "/home/mio/anaconda3/envs/tfvoice/lib/python3.10/site-packages/librosa/core/spectrum.py:266: UserWarning: n_fft=1024 is too large for input signal of length=185\n",
      "  warnings.warn(\n"
     ]
    },
    {
     "name": "stdout",
     "output_type": "stream",
     "text": [
      "Features extracted and saved to data/cleaned/ASD12/2_1_features.txt\n"
     ]
    },
    {
     "name": "stderr",
     "output_type": "stream",
     "text": [
      "/home/mio/anaconda3/envs/tfvoice/lib/python3.10/site-packages/librosa/core/spectrum.py:266: UserWarning: n_fft=1024 is too large for input signal of length=700\n",
      "  warnings.warn(\n",
      "/home/mio/anaconda3/envs/tfvoice/lib/python3.10/site-packages/librosa/core/spectrum.py:266: UserWarning: n_fft=1024 is too large for input signal of length=350\n",
      "  warnings.warn(\n",
      "/home/mio/anaconda3/envs/tfvoice/lib/python3.10/site-packages/librosa/core/spectrum.py:266: UserWarning: n_fft=1024 is too large for input signal of length=175\n",
      "  warnings.warn(\n"
     ]
    },
    {
     "name": "stdout",
     "output_type": "stream",
     "text": [
      "Features extracted and saved to data/cleaned/ASD12/2_7_features.txt\n"
     ]
    },
    {
     "name": "stderr",
     "output_type": "stream",
     "text": [
      "/home/mio/anaconda3/envs/tfvoice/lib/python3.10/site-packages/librosa/core/spectrum.py:266: UserWarning: n_fft=1024 is too large for input signal of length=777\n",
      "  warnings.warn(\n",
      "/home/mio/anaconda3/envs/tfvoice/lib/python3.10/site-packages/librosa/core/spectrum.py:266: UserWarning: n_fft=1024 is too large for input signal of length=389\n",
      "  warnings.warn(\n",
      "/home/mio/anaconda3/envs/tfvoice/lib/python3.10/site-packages/librosa/core/spectrum.py:266: UserWarning: n_fft=1024 is too large for input signal of length=195\n",
      "  warnings.warn(\n"
     ]
    },
    {
     "name": "stdout",
     "output_type": "stream",
     "text": [
      "Features extracted and saved to data/cleaned/ASD12/2_2_features.txt\n"
     ]
    },
    {
     "name": "stderr",
     "output_type": "stream",
     "text": [
      "/home/mio/anaconda3/envs/tfvoice/lib/python3.10/site-packages/librosa/core/spectrum.py:266: UserWarning: n_fft=1024 is too large for input signal of length=985\n",
      "  warnings.warn(\n",
      "/home/mio/anaconda3/envs/tfvoice/lib/python3.10/site-packages/librosa/core/spectrum.py:266: UserWarning: n_fft=1024 is too large for input signal of length=493\n",
      "  warnings.warn(\n",
      "/home/mio/anaconda3/envs/tfvoice/lib/python3.10/site-packages/librosa/core/spectrum.py:266: UserWarning: n_fft=1024 is too large for input signal of length=247\n",
      "  warnings.warn(\n",
      "/home/mio/anaconda3/envs/tfvoice/lib/python3.10/site-packages/librosa/core/spectrum.py:266: UserWarning: n_fft=1024 is too large for input signal of length=124\n",
      "  warnings.warn(\n"
     ]
    },
    {
     "name": "stdout",
     "output_type": "stream",
     "text": [
      "Features extracted and saved to data/cleaned/ASD12/2_10_features.txt\n"
     ]
    },
    {
     "name": "stderr",
     "output_type": "stream",
     "text": [
      "/home/mio/anaconda3/envs/tfvoice/lib/python3.10/site-packages/librosa/core/spectrum.py:266: UserWarning: n_fft=1024 is too large for input signal of length=686\n",
      "  warnings.warn(\n",
      "/home/mio/anaconda3/envs/tfvoice/lib/python3.10/site-packages/librosa/core/spectrum.py:266: UserWarning: n_fft=1024 is too large for input signal of length=343\n",
      "  warnings.warn(\n"
     ]
    },
    {
     "name": "stdout",
     "output_type": "stream",
     "text": [
      "Features extracted and saved to data/cleaned/ASD12/1_4_features.txt\n"
     ]
    },
    {
     "name": "stderr",
     "output_type": "stream",
     "text": [
      "/home/mio/anaconda3/envs/tfvoice/lib/python3.10/site-packages/librosa/core/spectrum.py:266: UserWarning: n_fft=1024 is too large for input signal of length=713\n",
      "  warnings.warn(\n",
      "/home/mio/anaconda3/envs/tfvoice/lib/python3.10/site-packages/librosa/core/spectrum.py:266: UserWarning: n_fft=1024 is too large for input signal of length=357\n",
      "  warnings.warn(\n",
      "/home/mio/anaconda3/envs/tfvoice/lib/python3.10/site-packages/librosa/core/spectrum.py:266: UserWarning: n_fft=1024 is too large for input signal of length=179\n",
      "  warnings.warn(\n"
     ]
    },
    {
     "name": "stdout",
     "output_type": "stream",
     "text": [
      "Features extracted and saved to data/cleaned/ASD12/2_11_features.txt\n"
     ]
    },
    {
     "name": "stderr",
     "output_type": "stream",
     "text": [
      "/home/mio/anaconda3/envs/tfvoice/lib/python3.10/site-packages/librosa/core/spectrum.py:266: UserWarning: n_fft=1024 is too large for input signal of length=516\n",
      "  warnings.warn(\n"
     ]
    },
    {
     "name": "stdout",
     "output_type": "stream",
     "text": [
      "Features extracted and saved to data/cleaned/ASD12/2_12_features.txt\n"
     ]
    },
    {
     "name": "stderr",
     "output_type": "stream",
     "text": [
      "/home/mio/anaconda3/envs/tfvoice/lib/python3.10/site-packages/librosa/core/spectrum.py:266: UserWarning: n_fft=1024 is too large for input signal of length=955\n",
      "  warnings.warn(\n",
      "/home/mio/anaconda3/envs/tfvoice/lib/python3.10/site-packages/librosa/core/spectrum.py:266: UserWarning: n_fft=1024 is too large for input signal of length=478\n",
      "  warnings.warn(\n"
     ]
    },
    {
     "name": "stdout",
     "output_type": "stream",
     "text": [
      "Features extracted and saved to data/cleaned/ASD12/1_3_features.txt\n"
     ]
    },
    {
     "name": "stderr",
     "output_type": "stream",
     "text": [
      "/home/mio/anaconda3/envs/tfvoice/lib/python3.10/site-packages/librosa/core/spectrum.py:266: UserWarning: n_fft=1024 is too large for input signal of length=764\n",
      "  warnings.warn(\n",
      "/home/mio/anaconda3/envs/tfvoice/lib/python3.10/site-packages/librosa/core/spectrum.py:266: UserWarning: n_fft=1024 is too large for input signal of length=382\n",
      "  warnings.warn(\n",
      "/home/mio/anaconda3/envs/tfvoice/lib/python3.10/site-packages/librosa/core/spectrum.py:266: UserWarning: n_fft=1024 is too large for input signal of length=191\n",
      "  warnings.warn(\n"
     ]
    },
    {
     "name": "stdout",
     "output_type": "stream",
     "text": [
      "Features extracted and saved to data/cleaned/ASD12/2_6_features.txt\n"
     ]
    },
    {
     "name": "stderr",
     "output_type": "stream",
     "text": [
      "/home/mio/anaconda3/envs/tfvoice/lib/python3.10/site-packages/librosa/core/spectrum.py:266: UserWarning: n_fft=1024 is too large for input signal of length=745\n",
      "  warnings.warn(\n",
      "/home/mio/anaconda3/envs/tfvoice/lib/python3.10/site-packages/librosa/core/spectrum.py:266: UserWarning: n_fft=1024 is too large for input signal of length=373\n",
      "  warnings.warn(\n",
      "/home/mio/anaconda3/envs/tfvoice/lib/python3.10/site-packages/librosa/core/spectrum.py:266: UserWarning: n_fft=1024 is too large for input signal of length=187\n",
      "  warnings.warn(\n"
     ]
    },
    {
     "name": "stdout",
     "output_type": "stream",
     "text": [
      "Features extracted and saved to data/cleaned/ASD12/2_14_features.txt\n"
     ]
    },
    {
     "name": "stderr",
     "output_type": "stream",
     "text": [
      "/home/mio/anaconda3/envs/tfvoice/lib/python3.10/site-packages/librosa/core/spectrum.py:266: UserWarning: n_fft=1024 is too large for input signal of length=930\n",
      "  warnings.warn(\n",
      "/home/mio/anaconda3/envs/tfvoice/lib/python3.10/site-packages/librosa/core/spectrum.py:266: UserWarning: n_fft=1024 is too large for input signal of length=465\n",
      "  warnings.warn(\n",
      "/home/mio/anaconda3/envs/tfvoice/lib/python3.10/site-packages/librosa/core/spectrum.py:266: UserWarning: n_fft=1024 is too large for input signal of length=233\n",
      "  warnings.warn(\n"
     ]
    },
    {
     "name": "stdout",
     "output_type": "stream",
     "text": [
      "Features extracted and saved to data/cleaned/TD29/4_4_features.txt\n"
     ]
    },
    {
     "name": "stderr",
     "output_type": "stream",
     "text": [
      "/home/mio/anaconda3/envs/tfvoice/lib/python3.10/site-packages/librosa/core/spectrum.py:266: UserWarning: n_fft=1024 is too large for input signal of length=894\n",
      "  warnings.warn(\n",
      "/home/mio/anaconda3/envs/tfvoice/lib/python3.10/site-packages/librosa/core/spectrum.py:266: UserWarning: n_fft=1024 is too large for input signal of length=447\n",
      "  warnings.warn(\n",
      "/home/mio/anaconda3/envs/tfvoice/lib/python3.10/site-packages/librosa/core/spectrum.py:266: UserWarning: n_fft=1024 is too large for input signal of length=224\n",
      "  warnings.warn(\n"
     ]
    },
    {
     "name": "stdout",
     "output_type": "stream",
     "text": [
      "Features extracted and saved to data/cleaned/TD29/1_1_features.txt\n"
     ]
    },
    {
     "name": "stderr",
     "output_type": "stream",
     "text": [
      "/home/mio/anaconda3/envs/tfvoice/lib/python3.10/site-packages/librosa/core/spectrum.py:266: UserWarning: n_fft=1024 is too large for input signal of length=759\n",
      "  warnings.warn(\n",
      "/home/mio/anaconda3/envs/tfvoice/lib/python3.10/site-packages/librosa/core/spectrum.py:266: UserWarning: n_fft=1024 is too large for input signal of length=380\n",
      "  warnings.warn(\n",
      "/home/mio/anaconda3/envs/tfvoice/lib/python3.10/site-packages/librosa/core/spectrum.py:266: UserWarning: n_fft=1024 is too large for input signal of length=190\n",
      "  warnings.warn(\n"
     ]
    },
    {
     "name": "stdout",
     "output_type": "stream",
     "text": [
      "Features extracted and saved to data/cleaned/TD29/4_1_features.txt\n"
     ]
    },
    {
     "name": "stderr",
     "output_type": "stream",
     "text": [
      "/home/mio/anaconda3/envs/tfvoice/lib/python3.10/site-packages/librosa/core/spectrum.py:266: UserWarning: n_fft=1024 is too large for input signal of length=537\n",
      "  warnings.warn(\n",
      "/home/mio/anaconda3/envs/tfvoice/lib/python3.10/site-packages/librosa/core/spectrum.py:266: UserWarning: n_fft=1024 is too large for input signal of length=269\n",
      "  warnings.warn(\n",
      "/home/mio/anaconda3/envs/tfvoice/lib/python3.10/site-packages/librosa/core/spectrum.py:266: UserWarning: n_fft=1024 is too large for input signal of length=135\n",
      "  warnings.warn(\n"
     ]
    },
    {
     "name": "stdout",
     "output_type": "stream",
     "text": [
      "Features extracted and saved to data/cleaned/TD29/3_1_features.txt\n"
     ]
    },
    {
     "name": "stderr",
     "output_type": "stream",
     "text": [
      "/home/mio/anaconda3/envs/tfvoice/lib/python3.10/site-packages/librosa/core/spectrum.py:266: UserWarning: n_fft=1024 is too large for input signal of length=629\n",
      "  warnings.warn(\n",
      "/home/mio/anaconda3/envs/tfvoice/lib/python3.10/site-packages/librosa/core/spectrum.py:266: UserWarning: n_fft=1024 is too large for input signal of length=315\n",
      "  warnings.warn(\n"
     ]
    },
    {
     "name": "stdout",
     "output_type": "stream",
     "text": [
      "Features extracted and saved to data/cleaned/TD29/2_4_features.txt\n"
     ]
    },
    {
     "name": "stderr",
     "output_type": "stream",
     "text": [
      "/home/mio/anaconda3/envs/tfvoice/lib/python3.10/site-packages/librosa/core/spectrum.py:266: UserWarning: n_fft=1024 is too large for input signal of length=601\n",
      "  warnings.warn(\n",
      "/home/mio/anaconda3/envs/tfvoice/lib/python3.10/site-packages/librosa/core/spectrum.py:266: UserWarning: n_fft=1024 is too large for input signal of length=301\n",
      "  warnings.warn(\n"
     ]
    },
    {
     "name": "stdout",
     "output_type": "stream",
     "text": [
      "Features extracted and saved to data/cleaned/TD29/4_2_features.txt\n"
     ]
    },
    {
     "name": "stderr",
     "output_type": "stream",
     "text": [
      "/home/mio/anaconda3/envs/tfvoice/lib/python3.10/site-packages/librosa/core/spectrum.py:266: UserWarning: n_fft=1024 is too large for input signal of length=762\n",
      "  warnings.warn(\n",
      "/home/mio/anaconda3/envs/tfvoice/lib/python3.10/site-packages/librosa/core/spectrum.py:266: UserWarning: n_fft=1024 is too large for input signal of length=381\n",
      "  warnings.warn(\n"
     ]
    },
    {
     "name": "stdout",
     "output_type": "stream",
     "text": [
      "Features extracted and saved to data/cleaned/TD29/4_6_features.txt\n"
     ]
    },
    {
     "name": "stderr",
     "output_type": "stream",
     "text": [
      "/home/mio/anaconda3/envs/tfvoice/lib/python3.10/site-packages/librosa/core/spectrum.py:266: UserWarning: n_fft=1024 is too large for input signal of length=532\n",
      "  warnings.warn(\n",
      "/home/mio/anaconda3/envs/tfvoice/lib/python3.10/site-packages/librosa/core/spectrum.py:266: UserWarning: n_fft=1024 is too large for input signal of length=266\n",
      "  warnings.warn(\n",
      "/home/mio/anaconda3/envs/tfvoice/lib/python3.10/site-packages/librosa/core/spectrum.py:266: UserWarning: n_fft=1024 is too large for input signal of length=133\n",
      "  warnings.warn(\n"
     ]
    },
    {
     "name": "stdout",
     "output_type": "stream",
     "text": [
      "Features extracted and saved to data/cleaned/TD29/1_2_features.txt\n"
     ]
    },
    {
     "name": "stderr",
     "output_type": "stream",
     "text": [
      "/home/mio/anaconda3/envs/tfvoice/lib/python3.10/site-packages/librosa/core/spectrum.py:266: UserWarning: n_fft=1024 is too large for input signal of length=647\n",
      "  warnings.warn(\n",
      "/home/mio/anaconda3/envs/tfvoice/lib/python3.10/site-packages/librosa/core/spectrum.py:266: UserWarning: n_fft=1024 is too large for input signal of length=324\n",
      "  warnings.warn(\n",
      "/home/mio/anaconda3/envs/tfvoice/lib/python3.10/site-packages/librosa/core/spectrum.py:266: UserWarning: n_fft=1024 is too large for input signal of length=162\n",
      "  warnings.warn(\n"
     ]
    },
    {
     "name": "stdout",
     "output_type": "stream",
     "text": [
      "Features extracted and saved to data/cleaned/TD29/2_3_features.txt\n"
     ]
    },
    {
     "name": "stderr",
     "output_type": "stream",
     "text": [
      "/home/mio/anaconda3/envs/tfvoice/lib/python3.10/site-packages/librosa/core/spectrum.py:266: UserWarning: n_fft=1024 is too large for input signal of length=1004\n",
      "  warnings.warn(\n",
      "/home/mio/anaconda3/envs/tfvoice/lib/python3.10/site-packages/librosa/core/spectrum.py:266: UserWarning: n_fft=1024 is too large for input signal of length=502\n",
      "  warnings.warn(\n",
      "/home/mio/anaconda3/envs/tfvoice/lib/python3.10/site-packages/librosa/core/spectrum.py:266: UserWarning: n_fft=1024 is too large for input signal of length=251\n",
      "  warnings.warn(\n"
     ]
    },
    {
     "name": "stdout",
     "output_type": "stream",
     "text": [
      "Features extracted and saved to data/cleaned/TD29/2_1_features.txt\n"
     ]
    },
    {
     "name": "stderr",
     "output_type": "stream",
     "text": [
      "/home/mio/anaconda3/envs/tfvoice/lib/python3.10/site-packages/librosa/core/spectrum.py:266: UserWarning: n_fft=1024 is too large for input signal of length=531\n",
      "  warnings.warn(\n"
     ]
    },
    {
     "name": "stdout",
     "output_type": "stream",
     "text": [
      "Features extracted and saved to data/cleaned/TD29/4_3_features.txt\n"
     ]
    },
    {
     "name": "stderr",
     "output_type": "stream",
     "text": [
      "/home/mio/anaconda3/envs/tfvoice/lib/python3.10/site-packages/librosa/core/spectrum.py:266: UserWarning: n_fft=1024 is too large for input signal of length=562\n",
      "  warnings.warn(\n"
     ]
    },
    {
     "name": "stdout",
     "output_type": "stream",
     "text": [
      "Features extracted and saved to data/cleaned/TD29/2_2_features.txt\n"
     ]
    },
    {
     "name": "stderr",
     "output_type": "stream",
     "text": [
      "/home/mio/anaconda3/envs/tfvoice/lib/python3.10/site-packages/librosa/core/spectrum.py:266: UserWarning: n_fft=1024 is too large for input signal of length=579\n",
      "  warnings.warn(\n",
      "/home/mio/anaconda3/envs/tfvoice/lib/python3.10/site-packages/librosa/core/spectrum.py:266: UserWarning: n_fft=1024 is too large for input signal of length=290\n",
      "  warnings.warn(\n"
     ]
    },
    {
     "name": "stdout",
     "output_type": "stream",
     "text": [
      "Features extracted and saved to data/cleaned/TD29/4_5_features.txt\n"
     ]
    },
    {
     "name": "stderr",
     "output_type": "stream",
     "text": [
      "/home/mio/anaconda3/envs/tfvoice/lib/python3.10/site-packages/librosa/core/spectrum.py:266: UserWarning: n_fft=1024 is too large for input signal of length=873\n",
      "  warnings.warn(\n",
      "/home/mio/anaconda3/envs/tfvoice/lib/python3.10/site-packages/librosa/core/spectrum.py:266: UserWarning: n_fft=1024 is too large for input signal of length=437\n",
      "  warnings.warn(\n",
      "/home/mio/anaconda3/envs/tfvoice/lib/python3.10/site-packages/librosa/core/spectrum.py:266: UserWarning: n_fft=1024 is too large for input signal of length=219\n",
      "  warnings.warn(\n"
     ]
    },
    {
     "name": "stdout",
     "output_type": "stream",
     "text": [
      "Features extracted and saved to data/cleaned/TD29/3_2_features.txt\n"
     ]
    },
    {
     "name": "stderr",
     "output_type": "stream",
     "text": [
      "/home/mio/anaconda3/envs/tfvoice/lib/python3.10/site-packages/librosa/core/spectrum.py:266: UserWarning: n_fft=1024 is too large for input signal of length=927\n",
      "  warnings.warn(\n",
      "/home/mio/anaconda3/envs/tfvoice/lib/python3.10/site-packages/librosa/core/spectrum.py:266: UserWarning: n_fft=1024 is too large for input signal of length=464\n",
      "  warnings.warn(\n",
      "/home/mio/anaconda3/envs/tfvoice/lib/python3.10/site-packages/librosa/core/spectrum.py:266: UserWarning: n_fft=1024 is too large for input signal of length=232\n",
      "  warnings.warn(\n"
     ]
    },
    {
     "name": "stdout",
     "output_type": "stream",
     "text": [
      "Features extracted and saved to data/cleaned/TD29/3_3_features.txt\n"
     ]
    },
    {
     "name": "stderr",
     "output_type": "stream",
     "text": [
      "/home/mio/anaconda3/envs/tfvoice/lib/python3.10/site-packages/librosa/core/spectrum.py:266: UserWarning: n_fft=1024 is too large for input signal of length=603\n",
      "  warnings.warn(\n",
      "/home/mio/anaconda3/envs/tfvoice/lib/python3.10/site-packages/librosa/core/spectrum.py:266: UserWarning: n_fft=1024 is too large for input signal of length=302\n",
      "  warnings.warn(\n"
     ]
    },
    {
     "name": "stdout",
     "output_type": "stream",
     "text": [
      "Features extracted and saved to data/cleaned/TD29/1_3_features.txt\n"
     ]
    },
    {
     "name": "stderr",
     "output_type": "stream",
     "text": [
      "/home/mio/anaconda3/envs/tfvoice/lib/python3.10/site-packages/librosa/core/spectrum.py:266: UserWarning: n_fft=1024 is too large for input signal of length=693\n",
      "  warnings.warn(\n",
      "/home/mio/anaconda3/envs/tfvoice/lib/python3.10/site-packages/librosa/core/spectrum.py:266: UserWarning: n_fft=1024 is too large for input signal of length=347\n",
      "  warnings.warn(\n",
      "/home/mio/anaconda3/envs/tfvoice/lib/python3.10/site-packages/librosa/core/spectrum.py:266: UserWarning: n_fft=1024 is too large for input signal of length=174\n",
      "  warnings.warn(\n"
     ]
    },
    {
     "name": "stdout",
     "output_type": "stream",
     "text": [
      "Features extracted and saved to data/cleaned/TD16/1_1_features.txt\n"
     ]
    },
    {
     "name": "stderr",
     "output_type": "stream",
     "text": [
      "/home/mio/anaconda3/envs/tfvoice/lib/python3.10/site-packages/librosa/core/spectrum.py:266: UserWarning: n_fft=1024 is too large for input signal of length=577\n",
      "  warnings.warn(\n",
      "/home/mio/anaconda3/envs/tfvoice/lib/python3.10/site-packages/librosa/core/spectrum.py:266: UserWarning: n_fft=1024 is too large for input signal of length=289\n",
      "  warnings.warn(\n",
      "/home/mio/anaconda3/envs/tfvoice/lib/python3.10/site-packages/librosa/core/spectrum.py:266: UserWarning: n_fft=1024 is too large for input signal of length=145\n",
      "  warnings.warn(\n"
     ]
    },
    {
     "name": "stdout",
     "output_type": "stream",
     "text": [
      "Features extracted and saved to data/cleaned/TD16/1_2_features.txt\n"
     ]
    },
    {
     "name": "stderr",
     "output_type": "stream",
     "text": [
      "/home/mio/anaconda3/envs/tfvoice/lib/python3.10/site-packages/librosa/core/spectrum.py:266: UserWarning: n_fft=1024 is too large for input signal of length=621\n",
      "  warnings.warn(\n"
     ]
    },
    {
     "name": "stdout",
     "output_type": "stream",
     "text": [
      "Features extracted and saved to data/cleaned/TD16/1_3_features.txt\n"
     ]
    },
    {
     "name": "stderr",
     "output_type": "stream",
     "text": [
      "/home/mio/anaconda3/envs/tfvoice/lib/python3.10/site-packages/librosa/core/spectrum.py:266: UserWarning: n_fft=1024 is too large for input signal of length=741\n",
      "  warnings.warn(\n",
      "/home/mio/anaconda3/envs/tfvoice/lib/python3.10/site-packages/librosa/core/spectrum.py:266: UserWarning: n_fft=1024 is too large for input signal of length=371\n",
      "  warnings.warn(\n"
     ]
    },
    {
     "name": "stdout",
     "output_type": "stream",
     "text": [
      "Features extracted and saved to data/cleaned/TD14/2_8_features.txt\n"
     ]
    },
    {
     "name": "stderr",
     "output_type": "stream",
     "text": [
      "/home/mio/anaconda3/envs/tfvoice/lib/python3.10/site-packages/librosa/core/spectrum.py:266: UserWarning: n_fft=1024 is too large for input signal of length=641\n",
      "  warnings.warn(\n",
      "/home/mio/anaconda3/envs/tfvoice/lib/python3.10/site-packages/librosa/core/spectrum.py:266: UserWarning: n_fft=1024 is too large for input signal of length=321\n",
      "  warnings.warn(\n",
      "/home/mio/anaconda3/envs/tfvoice/lib/python3.10/site-packages/librosa/core/spectrum.py:266: UserWarning: n_fft=1024 is too large for input signal of length=161\n",
      "  warnings.warn(\n"
     ]
    },
    {
     "name": "stdout",
     "output_type": "stream",
     "text": [
      "Features extracted and saved to data/cleaned/TD14/2_9_features.txt\n"
     ]
    },
    {
     "name": "stderr",
     "output_type": "stream",
     "text": [
      "/home/mio/anaconda3/envs/tfvoice/lib/python3.10/site-packages/librosa/core/spectrum.py:266: UserWarning: n_fft=1024 is too large for input signal of length=663\n",
      "  warnings.warn(\n",
      "/home/mio/anaconda3/envs/tfvoice/lib/python3.10/site-packages/librosa/core/spectrum.py:266: UserWarning: n_fft=1024 is too large for input signal of length=332\n",
      "  warnings.warn(\n",
      "/home/mio/anaconda3/envs/tfvoice/lib/python3.10/site-packages/librosa/core/spectrum.py:266: UserWarning: n_fft=1024 is too large for input signal of length=166\n",
      "  warnings.warn(\n"
     ]
    },
    {
     "name": "stdout",
     "output_type": "stream",
     "text": [
      "Features extracted and saved to data/cleaned/TD14/2_5_features.txt\n"
     ]
    },
    {
     "name": "stderr",
     "output_type": "stream",
     "text": [
      "/home/mio/anaconda3/envs/tfvoice/lib/python3.10/site-packages/librosa/core/spectrum.py:266: UserWarning: n_fft=1024 is too large for input signal of length=951\n",
      "  warnings.warn(\n",
      "/home/mio/anaconda3/envs/tfvoice/lib/python3.10/site-packages/librosa/core/spectrum.py:266: UserWarning: n_fft=1024 is too large for input signal of length=476\n",
      "  warnings.warn(\n",
      "/home/mio/anaconda3/envs/tfvoice/lib/python3.10/site-packages/librosa/core/spectrum.py:266: UserWarning: n_fft=1024 is too large for input signal of length=238\n",
      "  warnings.warn(\n"
     ]
    },
    {
     "name": "stdout",
     "output_type": "stream",
     "text": [
      "Features extracted and saved to data/cleaned/TD14/2_4_features.txt\n"
     ]
    },
    {
     "name": "stderr",
     "output_type": "stream",
     "text": [
      "/home/mio/anaconda3/envs/tfvoice/lib/python3.10/site-packages/librosa/core/spectrum.py:266: UserWarning: n_fft=1024 is too large for input signal of length=652\n",
      "  warnings.warn(\n"
     ]
    },
    {
     "name": "stdout",
     "output_type": "stream",
     "text": [
      "Features extracted and saved to data/cleaned/TD14/2_3_features.txt\n"
     ]
    },
    {
     "name": "stderr",
     "output_type": "stream",
     "text": [
      "/home/mio/anaconda3/envs/tfvoice/lib/python3.10/site-packages/librosa/core/spectrum.py:266: UserWarning: n_fft=1024 is too large for input signal of length=730\n",
      "  warnings.warn(\n",
      "/home/mio/anaconda3/envs/tfvoice/lib/python3.10/site-packages/librosa/core/spectrum.py:266: UserWarning: n_fft=1024 is too large for input signal of length=365\n",
      "  warnings.warn(\n"
     ]
    },
    {
     "name": "stdout",
     "output_type": "stream",
     "text": [
      "Features extracted and saved to data/cleaned/TD14/2_1_features.txt\n"
     ]
    },
    {
     "name": "stderr",
     "output_type": "stream",
     "text": [
      "/home/mio/anaconda3/envs/tfvoice/lib/python3.10/site-packages/librosa/core/spectrum.py:266: UserWarning: n_fft=1024 is too large for input signal of length=987\n",
      "  warnings.warn(\n",
      "/home/mio/anaconda3/envs/tfvoice/lib/python3.10/site-packages/librosa/core/spectrum.py:266: UserWarning: n_fft=1024 is too large for input signal of length=494\n",
      "  warnings.warn(\n"
     ]
    },
    {
     "name": "stdout",
     "output_type": "stream",
     "text": [
      "Features extracted and saved to data/cleaned/TD14/2_7_features.txt\n",
      "Features extracted and saved to data/cleaned/TD14/2_2_features.txt\n"
     ]
    },
    {
     "name": "stderr",
     "output_type": "stream",
     "text": [
      "/home/mio/anaconda3/envs/tfvoice/lib/python3.10/site-packages/librosa/core/spectrum.py:266: UserWarning: n_fft=1024 is too large for input signal of length=785\n",
      "  warnings.warn(\n",
      "/home/mio/anaconda3/envs/tfvoice/lib/python3.10/site-packages/librosa/core/spectrum.py:266: UserWarning: n_fft=1024 is too large for input signal of length=393\n",
      "  warnings.warn(\n",
      "/home/mio/anaconda3/envs/tfvoice/lib/python3.10/site-packages/librosa/core/spectrum.py:266: UserWarning: n_fft=1024 is too large for input signal of length=197\n",
      "  warnings.warn(\n"
     ]
    },
    {
     "name": "stdout",
     "output_type": "stream",
     "text": [
      "Features extracted and saved to data/cleaned/TD14/2_6_features.txt\n"
     ]
    },
    {
     "name": "stderr",
     "output_type": "stream",
     "text": [
      "/home/mio/anaconda3/envs/tfvoice/lib/python3.10/site-packages/librosa/core/spectrum.py:266: UserWarning: n_fft=1024 is too large for input signal of length=781\n",
      "  warnings.warn(\n",
      "/home/mio/anaconda3/envs/tfvoice/lib/python3.10/site-packages/librosa/core/spectrum.py:266: UserWarning: n_fft=1024 is too large for input signal of length=391\n",
      "  warnings.warn(\n"
     ]
    },
    {
     "name": "stdout",
     "output_type": "stream",
     "text": [
      "Features extracted and saved to data/cleaned/TD25/2_5_features.txt\n"
     ]
    },
    {
     "name": "stderr",
     "output_type": "stream",
     "text": [
      "/home/mio/anaconda3/envs/tfvoice/lib/python3.10/site-packages/librosa/core/spectrum.py:266: UserWarning: n_fft=1024 is too large for input signal of length=662\n",
      "  warnings.warn(\n"
     ]
    },
    {
     "name": "stdout",
     "output_type": "stream",
     "text": [
      "Features extracted and saved to data/cleaned/TD25/2_4_features.txt\n"
     ]
    },
    {
     "name": "stderr",
     "output_type": "stream",
     "text": [
      "/home/mio/anaconda3/envs/tfvoice/lib/python3.10/site-packages/librosa/core/spectrum.py:266: UserWarning: n_fft=1024 is too large for input signal of length=809\n",
      "  warnings.warn(\n",
      "/home/mio/anaconda3/envs/tfvoice/lib/python3.10/site-packages/librosa/core/spectrum.py:266: UserWarning: n_fft=1024 is too large for input signal of length=405\n",
      "  warnings.warn(\n"
     ]
    },
    {
     "name": "stdout",
     "output_type": "stream",
     "text": [
      "Features extracted and saved to data/cleaned/TD25/2_3_features.txt\n",
      "Features extracted and saved to data/cleaned/TD25/2_1_features.txt\n"
     ]
    },
    {
     "name": "stderr",
     "output_type": "stream",
     "text": [
      "/home/mio/anaconda3/envs/tfvoice/lib/python3.10/site-packages/librosa/core/spectrum.py:266: UserWarning: n_fft=1024 is too large for input signal of length=972\n",
      "  warnings.warn(\n",
      "/home/mio/anaconda3/envs/tfvoice/lib/python3.10/site-packages/librosa/core/spectrum.py:266: UserWarning: n_fft=1024 is too large for input signal of length=486\n",
      "  warnings.warn(\n"
     ]
    },
    {
     "name": "stdout",
     "output_type": "stream",
     "text": [
      "Features extracted and saved to data/cleaned/TD25/2_2_features.txt\n"
     ]
    },
    {
     "name": "stderr",
     "output_type": "stream",
     "text": [
      "/home/mio/anaconda3/envs/tfvoice/lib/python3.10/site-packages/librosa/core/spectrum.py:266: UserWarning: n_fft=1024 is too large for input signal of length=282\n",
      "  warnings.warn(\n",
      "/home/mio/anaconda3/envs/tfvoice/lib/python3.10/site-packages/librosa/core/spectrum.py:266: UserWarning: n_fft=1024 is too large for input signal of length=141\n",
      "  warnings.warn(\n"
     ]
    },
    {
     "name": "stdout",
     "output_type": "stream",
     "text": [
      "Features extracted and saved to data/cleaned/TD13/1_5_features.txt\n"
     ]
    },
    {
     "name": "stderr",
     "output_type": "stream",
     "text": [
      "/home/mio/anaconda3/envs/tfvoice/lib/python3.10/site-packages/librosa/core/spectrum.py:266: UserWarning: n_fft=1024 is too large for input signal of length=616\n",
      "  warnings.warn(\n",
      "/home/mio/anaconda3/envs/tfvoice/lib/python3.10/site-packages/librosa/core/spectrum.py:266: UserWarning: n_fft=1024 is too large for input signal of length=308\n",
      "  warnings.warn(\n"
     ]
    },
    {
     "name": "stdout",
     "output_type": "stream",
     "text": [
      "Features extracted and saved to data/cleaned/TD13/1_1_features.txt\n"
     ]
    },
    {
     "name": "stderr",
     "output_type": "stream",
     "text": [
      "/home/mio/anaconda3/envs/tfvoice/lib/python3.10/site-packages/librosa/core/spectrum.py:266: UserWarning: n_fft=1024 is too large for input signal of length=1006\n",
      "  warnings.warn(\n",
      "/home/mio/anaconda3/envs/tfvoice/lib/python3.10/site-packages/librosa/core/spectrum.py:266: UserWarning: n_fft=1024 is too large for input signal of length=503\n",
      "  warnings.warn(\n",
      "/home/mio/anaconda3/envs/tfvoice/lib/python3.10/site-packages/librosa/core/spectrum.py:266: UserWarning: n_fft=1024 is too large for input signal of length=252\n",
      "  warnings.warn(\n",
      "/home/mio/anaconda3/envs/tfvoice/lib/python3.10/site-packages/librosa/core/spectrum.py:266: UserWarning: n_fft=1024 is too large for input signal of length=126\n",
      "  warnings.warn(\n"
     ]
    },
    {
     "name": "stdout",
     "output_type": "stream",
     "text": [
      "Features extracted and saved to data/cleaned/TD13/1_7_features.txt\n"
     ]
    },
    {
     "name": "stderr",
     "output_type": "stream",
     "text": [
      "/home/mio/anaconda3/envs/tfvoice/lib/python3.10/site-packages/librosa/core/spectrum.py:266: UserWarning: n_fft=1024 is too large for input signal of length=853\n",
      "  warnings.warn(\n",
      "/home/mio/anaconda3/envs/tfvoice/lib/python3.10/site-packages/librosa/core/spectrum.py:266: UserWarning: n_fft=1024 is too large for input signal of length=427\n",
      "  warnings.warn(\n",
      "/home/mio/anaconda3/envs/tfvoice/lib/python3.10/site-packages/librosa/core/spectrum.py:266: UserWarning: n_fft=1024 is too large for input signal of length=214\n",
      "  warnings.warn(\n"
     ]
    },
    {
     "name": "stdout",
     "output_type": "stream",
     "text": [
      "Features extracted and saved to data/cleaned/TD13/1_2_features.txt\n"
     ]
    },
    {
     "name": "stderr",
     "output_type": "stream",
     "text": [
      "/home/mio/anaconda3/envs/tfvoice/lib/python3.10/site-packages/librosa/core/spectrum.py:266: UserWarning: n_fft=1024 is too large for input signal of length=677\n",
      "  warnings.warn(\n",
      "/home/mio/anaconda3/envs/tfvoice/lib/python3.10/site-packages/librosa/core/spectrum.py:266: UserWarning: n_fft=1024 is too large for input signal of length=339\n",
      "  warnings.warn(\n"
     ]
    },
    {
     "name": "stdout",
     "output_type": "stream",
     "text": [
      "Features extracted and saved to data/cleaned/TD13/1_6_features.txt\n"
     ]
    },
    {
     "name": "stderr",
     "output_type": "stream",
     "text": [
      "/home/mio/anaconda3/envs/tfvoice/lib/python3.10/site-packages/librosa/core/spectrum.py:266: UserWarning: n_fft=1024 is too large for input signal of length=666\n",
      "  warnings.warn(\n",
      "/home/mio/anaconda3/envs/tfvoice/lib/python3.10/site-packages/librosa/core/spectrum.py:266: UserWarning: n_fft=1024 is too large for input signal of length=333\n",
      "  warnings.warn(\n",
      "/home/mio/anaconda3/envs/tfvoice/lib/python3.10/site-packages/librosa/core/spectrum.py:266: UserWarning: n_fft=1024 is too large for input signal of length=167\n",
      "  warnings.warn(\n"
     ]
    },
    {
     "name": "stdout",
     "output_type": "stream",
     "text": [
      "Features extracted and saved to data/cleaned/TD13/1_4_features.txt\n"
     ]
    },
    {
     "name": "stderr",
     "output_type": "stream",
     "text": [
      "/home/mio/anaconda3/envs/tfvoice/lib/python3.10/site-packages/librosa/core/spectrum.py:266: UserWarning: n_fft=1024 is too large for input signal of length=658\n",
      "  warnings.warn(\n",
      "/home/mio/anaconda3/envs/tfvoice/lib/python3.10/site-packages/librosa/core/spectrum.py:266: UserWarning: n_fft=1024 is too large for input signal of length=329\n",
      "  warnings.warn(\n",
      "/home/mio/anaconda3/envs/tfvoice/lib/python3.10/site-packages/librosa/core/spectrum.py:266: UserWarning: n_fft=1024 is too large for input signal of length=165\n",
      "  warnings.warn(\n"
     ]
    },
    {
     "name": "stdout",
     "output_type": "stream",
     "text": [
      "Features extracted and saved to data/cleaned/TD13/1_3_features.txt\n"
     ]
    },
    {
     "name": "stderr",
     "output_type": "stream",
     "text": [
      "/home/mio/anaconda3/envs/tfvoice/lib/python3.10/site-packages/librosa/core/spectrum.py:266: UserWarning: n_fft=1024 is too large for input signal of length=530\n",
      "  warnings.warn(\n",
      "/home/mio/anaconda3/envs/tfvoice/lib/python3.10/site-packages/librosa/core/spectrum.py:266: UserWarning: n_fft=1024 is too large for input signal of length=265\n",
      "  warnings.warn(\n"
     ]
    },
    {
     "name": "stdout",
     "output_type": "stream",
     "text": [
      "Features extracted and saved to data/cleaned/ASD3/50010_39_features.txt\n"
     ]
    },
    {
     "name": "stderr",
     "output_type": "stream",
     "text": [
      "/home/mio/anaconda3/envs/tfvoice/lib/python3.10/site-packages/librosa/core/spectrum.py:266: UserWarning: n_fft=1024 is too large for input signal of length=685\n",
      "  warnings.warn(\n",
      "/home/mio/anaconda3/envs/tfvoice/lib/python3.10/site-packages/librosa/core/spectrum.py:266: UserWarning: n_fft=1024 is too large for input signal of length=172\n",
      "  warnings.warn(\n"
     ]
    },
    {
     "name": "stdout",
     "output_type": "stream",
     "text": [
      "Features extracted and saved to data/cleaned/ASD3/50010_14_features.txt\n"
     ]
    },
    {
     "name": "stderr",
     "output_type": "stream",
     "text": [
      "/home/mio/anaconda3/envs/tfvoice/lib/python3.10/site-packages/librosa/core/spectrum.py:266: UserWarning: n_fft=1024 is too large for input signal of length=802\n",
      "  warnings.warn(\n",
      "/home/mio/anaconda3/envs/tfvoice/lib/python3.10/site-packages/librosa/core/spectrum.py:266: UserWarning: n_fft=1024 is too large for input signal of length=401\n",
      "  warnings.warn(\n",
      "/home/mio/anaconda3/envs/tfvoice/lib/python3.10/site-packages/librosa/core/spectrum.py:266: UserWarning: n_fft=1024 is too large for input signal of length=201\n",
      "  warnings.warn(\n"
     ]
    },
    {
     "name": "stdout",
     "output_type": "stream",
     "text": [
      "Features extracted and saved to data/cleaned/ASD3/50010_5_features.txt\n"
     ]
    },
    {
     "name": "stderr",
     "output_type": "stream",
     "text": [
      "/home/mio/anaconda3/envs/tfvoice/lib/python3.10/site-packages/librosa/core/spectrum.py:266: UserWarning: n_fft=1024 is too large for input signal of length=835\n",
      "  warnings.warn(\n",
      "/home/mio/anaconda3/envs/tfvoice/lib/python3.10/site-packages/librosa/core/spectrum.py:266: UserWarning: n_fft=1024 is too large for input signal of length=418\n",
      "  warnings.warn(\n",
      "/home/mio/anaconda3/envs/tfvoice/lib/python3.10/site-packages/librosa/core/spectrum.py:266: UserWarning: n_fft=1024 is too large for input signal of length=209\n",
      "  warnings.warn(\n"
     ]
    },
    {
     "name": "stdout",
     "output_type": "stream",
     "text": [
      "Features extracted and saved to data/cleaned/ASD3/50010_20_features.txt\n",
      "Features extracted and saved to data/cleaned/ASD3/50010_31_features.txt\n"
     ]
    },
    {
     "name": "stderr",
     "output_type": "stream",
     "text": [
      "/home/mio/anaconda3/envs/tfvoice/lib/python3.10/site-packages/librosa/core/spectrum.py:266: UserWarning: n_fft=1024 is too large for input signal of length=842\n",
      "  warnings.warn(\n",
      "/home/mio/anaconda3/envs/tfvoice/lib/python3.10/site-packages/librosa/core/spectrum.py:266: UserWarning: n_fft=1024 is too large for input signal of length=421\n",
      "  warnings.warn(\n",
      "/home/mio/anaconda3/envs/tfvoice/lib/python3.10/site-packages/librosa/core/spectrum.py:266: UserWarning: n_fft=1024 is too large for input signal of length=211\n",
      "  warnings.warn(\n"
     ]
    },
    {
     "name": "stdout",
     "output_type": "stream",
     "text": [
      "Features extracted and saved to data/cleaned/TD12/1_5_features.txt\n"
     ]
    },
    {
     "name": "stderr",
     "output_type": "stream",
     "text": [
      "/home/mio/anaconda3/envs/tfvoice/lib/python3.10/site-packages/librosa/core/spectrum.py:266: UserWarning: n_fft=1024 is too large for input signal of length=673\n",
      "  warnings.warn(\n",
      "/home/mio/anaconda3/envs/tfvoice/lib/python3.10/site-packages/librosa/core/spectrum.py:266: UserWarning: n_fft=1024 is too large for input signal of length=337\n",
      "  warnings.warn(\n",
      "/home/mio/anaconda3/envs/tfvoice/lib/python3.10/site-packages/librosa/core/spectrum.py:266: UserWarning: n_fft=1024 is too large for input signal of length=169\n",
      "  warnings.warn(\n"
     ]
    },
    {
     "name": "stdout",
     "output_type": "stream",
     "text": [
      "Features extracted and saved to data/cleaned/TD12/1_1_features.txt\n"
     ]
    },
    {
     "name": "stderr",
     "output_type": "stream",
     "text": [
      "/home/mio/anaconda3/envs/tfvoice/lib/python3.10/site-packages/librosa/core/spectrum.py:266: UserWarning: n_fft=1024 is too large for input signal of length=536\n",
      "  warnings.warn(\n",
      "/home/mio/anaconda3/envs/tfvoice/lib/python3.10/site-packages/librosa/core/spectrum.py:266: UserWarning: n_fft=1024 is too large for input signal of length=268\n",
      "  warnings.warn(\n"
     ]
    },
    {
     "name": "stdout",
     "output_type": "stream",
     "text": [
      "Features extracted and saved to data/cleaned/TD12/1_7_features.txt\n"
     ]
    },
    {
     "name": "stderr",
     "output_type": "stream",
     "text": [
      "/home/mio/anaconda3/envs/tfvoice/lib/python3.10/site-packages/librosa/core/spectrum.py:266: UserWarning: n_fft=1024 is too large for input signal of length=726\n",
      "  warnings.warn(\n",
      "/home/mio/anaconda3/envs/tfvoice/lib/python3.10/site-packages/librosa/core/spectrum.py:266: UserWarning: n_fft=1024 is too large for input signal of length=363\n",
      "  warnings.warn(\n",
      "/home/mio/anaconda3/envs/tfvoice/lib/python3.10/site-packages/librosa/core/spectrum.py:266: UserWarning: n_fft=1024 is too large for input signal of length=182\n",
      "  warnings.warn(\n"
     ]
    },
    {
     "name": "stdout",
     "output_type": "stream",
     "text": [
      "Features extracted and saved to data/cleaned/TD12/1_2_features.txt\n"
     ]
    },
    {
     "name": "stderr",
     "output_type": "stream",
     "text": [
      "/home/mio/anaconda3/envs/tfvoice/lib/python3.10/site-packages/librosa/core/spectrum.py:266: UserWarning: n_fft=1024 is too large for input signal of length=852\n",
      "  warnings.warn(\n",
      "/home/mio/anaconda3/envs/tfvoice/lib/python3.10/site-packages/librosa/core/spectrum.py:266: UserWarning: n_fft=1024 is too large for input signal of length=426\n",
      "  warnings.warn(\n"
     ]
    },
    {
     "name": "stdout",
     "output_type": "stream",
     "text": [
      "Features extracted and saved to data/cleaned/TD12/1_6_features.txt\n"
     ]
    },
    {
     "name": "stderr",
     "output_type": "stream",
     "text": [
      "/home/mio/anaconda3/envs/tfvoice/lib/python3.10/site-packages/librosa/core/spectrum.py:266: UserWarning: n_fft=1024 is too large for input signal of length=558\n",
      "  warnings.warn(\n",
      "/home/mio/anaconda3/envs/tfvoice/lib/python3.10/site-packages/librosa/core/spectrum.py:266: UserWarning: n_fft=1024 is too large for input signal of length=279\n",
      "  warnings.warn(\n"
     ]
    },
    {
     "name": "stdout",
     "output_type": "stream",
     "text": [
      "Features extracted and saved to data/cleaned/TD12/1_4_features.txt\n"
     ]
    },
    {
     "name": "stderr",
     "output_type": "stream",
     "text": [
      "/home/mio/anaconda3/envs/tfvoice/lib/python3.10/site-packages/librosa/core/spectrum.py:266: UserWarning: n_fft=1024 is too large for input signal of length=737\n",
      "  warnings.warn(\n",
      "/home/mio/anaconda3/envs/tfvoice/lib/python3.10/site-packages/librosa/core/spectrum.py:266: UserWarning: n_fft=1024 is too large for input signal of length=369\n",
      "  warnings.warn(\n"
     ]
    },
    {
     "name": "stdout",
     "output_type": "stream",
     "text": [
      "Features extracted and saved to data/cleaned/TD12/1_3_features.txt\n",
      "Features extracted and saved to data/cleaned/ASD5/2_8_features.txt\n",
      "Features extracted and saved to data/cleaned/ASD5/2_9_features.txt\n",
      "Features extracted and saved to data/cleaned/ASD5/2_5_features.txt\n"
     ]
    },
    {
     "name": "stderr",
     "output_type": "stream",
     "text": [
      "/home/mio/anaconda3/envs/tfvoice/lib/python3.10/site-packages/librosa/core/spectrum.py:266: UserWarning: n_fft=1024 is too large for input signal of length=820\n",
      "  warnings.warn(\n",
      "/home/mio/anaconda3/envs/tfvoice/lib/python3.10/site-packages/librosa/core/spectrum.py:266: UserWarning: n_fft=1024 is too large for input signal of length=410\n",
      "  warnings.warn(\n"
     ]
    },
    {
     "name": "stdout",
     "output_type": "stream",
     "text": [
      "Features extracted and saved to data/cleaned/ASD5/1_1_features.txt\n"
     ]
    },
    {
     "name": "stderr",
     "output_type": "stream",
     "text": [
      "/home/mio/anaconda3/envs/tfvoice/lib/python3.10/site-packages/librosa/core/spectrum.py:266: UserWarning: n_fft=1024 is too large for input signal of length=743\n",
      "  warnings.warn(\n"
     ]
    },
    {
     "name": "stdout",
     "output_type": "stream",
     "text": [
      "Features extracted and saved to data/cleaned/ASD5/3_1_features.txt\n",
      "Features extracted and saved to data/cleaned/ASD5/2_4_features.txt\n"
     ]
    },
    {
     "name": "stderr",
     "output_type": "stream",
     "text": [
      "/home/mio/anaconda3/envs/tfvoice/lib/python3.10/site-packages/librosa/core/spectrum.py:266: UserWarning: n_fft=1024 is too large for input signal of length=687\n",
      "  warnings.warn(\n"
     ]
    },
    {
     "name": "stdout",
     "output_type": "stream",
     "text": [
      "Features extracted and saved to data/cleaned/ASD5/1_2_features.txt\n"
     ]
    },
    {
     "name": "stderr",
     "output_type": "stream",
     "text": [
      "/home/mio/anaconda3/envs/tfvoice/lib/python3.10/site-packages/librosa/core/spectrum.py:266: UserWarning: n_fft=1024 is too large for input signal of length=877\n",
      "  warnings.warn(\n"
     ]
    },
    {
     "name": "stdout",
     "output_type": "stream",
     "text": [
      "Features extracted and saved to data/cleaned/ASD5/2_3_features.txt\n"
     ]
    },
    {
     "name": "stderr",
     "output_type": "stream",
     "text": [
      "/home/mio/anaconda3/envs/tfvoice/lib/python3.10/site-packages/librosa/core/spectrum.py:266: UserWarning: n_fft=1024 is too large for input signal of length=607\n",
      "  warnings.warn(\n",
      "/home/mio/anaconda3/envs/tfvoice/lib/python3.10/site-packages/librosa/core/spectrum.py:266: UserWarning: n_fft=1024 is too large for input signal of length=304\n",
      "  warnings.warn(\n"
     ]
    },
    {
     "name": "stdout",
     "output_type": "stream",
     "text": [
      "Features extracted and saved to data/cleaned/ASD5/2_1_features.txt\n"
     ]
    },
    {
     "name": "stderr",
     "output_type": "stream",
     "text": [
      "/home/mio/anaconda3/envs/tfvoice/lib/python3.10/site-packages/librosa/core/spectrum.py:266: UserWarning: n_fft=1024 is too large for input signal of length=866\n",
      "  warnings.warn(\n"
     ]
    },
    {
     "name": "stdout",
     "output_type": "stream",
     "text": [
      "Features extracted and saved to data/cleaned/ASD5/2_7_features.txt\n"
     ]
    },
    {
     "name": "stderr",
     "output_type": "stream",
     "text": [
      "/home/mio/anaconda3/envs/tfvoice/lib/python3.10/site-packages/librosa/core/spectrum.py:266: UserWarning: n_fft=1024 is too large for input signal of length=889\n",
      "  warnings.warn(\n",
      "/home/mio/anaconda3/envs/tfvoice/lib/python3.10/site-packages/librosa/core/spectrum.py:266: UserWarning: n_fft=1024 is too large for input signal of length=445\n",
      "  warnings.warn(\n"
     ]
    },
    {
     "name": "stdout",
     "output_type": "stream",
     "text": [
      "Features extracted and saved to data/cleaned/ASD5/2_2_features.txt\n"
     ]
    },
    {
     "name": "stderr",
     "output_type": "stream",
     "text": [
      "/home/mio/anaconda3/envs/tfvoice/lib/python3.10/site-packages/librosa/core/spectrum.py:266: UserWarning: n_fft=1024 is too large for input signal of length=901\n",
      "  warnings.warn(\n",
      "/home/mio/anaconda3/envs/tfvoice/lib/python3.10/site-packages/librosa/core/spectrum.py:266: UserWarning: n_fft=1024 is too large for input signal of length=451\n",
      "  warnings.warn(\n",
      "/home/mio/anaconda3/envs/tfvoice/lib/python3.10/site-packages/librosa/core/spectrum.py:266: UserWarning: n_fft=1024 is too large for input signal of length=226\n",
      "  warnings.warn(\n"
     ]
    },
    {
     "name": "stdout",
     "output_type": "stream",
     "text": [
      "Features extracted and saved to data/cleaned/ASD5/1_4_features.txt\n",
      "Features extracted and saved to data/cleaned/ASD5/1_3_features.txt\n"
     ]
    },
    {
     "name": "stderr",
     "output_type": "stream",
     "text": [
      "/home/mio/anaconda3/envs/tfvoice/lib/python3.10/site-packages/librosa/core/spectrum.py:266: UserWarning: n_fft=1024 is too large for input signal of length=664\n",
      "  warnings.warn(\n"
     ]
    },
    {
     "name": "stdout",
     "output_type": "stream",
     "text": [
      "Features extracted and saved to data/cleaned/ASD5/2_6_features.txt\n"
     ]
    },
    {
     "name": "stderr",
     "output_type": "stream",
     "text": [
      "/home/mio/anaconda3/envs/tfvoice/lib/python3.10/site-packages/librosa/core/spectrum.py:266: UserWarning: n_fft=1024 is too large for input signal of length=1018\n",
      "  warnings.warn(\n",
      "/home/mio/anaconda3/envs/tfvoice/lib/python3.10/site-packages/librosa/core/spectrum.py:266: UserWarning: n_fft=1024 is too large for input signal of length=509\n",
      "  warnings.warn(\n",
      "/home/mio/anaconda3/envs/tfvoice/lib/python3.10/site-packages/librosa/core/spectrum.py:266: UserWarning: n_fft=1024 is too large for input signal of length=255\n",
      "  warnings.warn(\n"
     ]
    },
    {
     "name": "stdout",
     "output_type": "stream",
     "text": [
      "Features extracted and saved to data/cleaned/TD19/1_1_features.txt\n"
     ]
    },
    {
     "name": "stderr",
     "output_type": "stream",
     "text": [
      "/home/mio/anaconda3/envs/tfvoice/lib/python3.10/site-packages/librosa/core/spectrum.py:266: UserWarning: n_fft=1024 is too large for input signal of length=725\n",
      "  warnings.warn(\n"
     ]
    },
    {
     "name": "stdout",
     "output_type": "stream",
     "text": [
      "Features extracted and saved to data/cleaned/TD19/1_2_features.txt\n"
     ]
    },
    {
     "name": "stderr",
     "output_type": "stream",
     "text": [
      "/home/mio/anaconda3/envs/tfvoice/lib/python3.10/site-packages/librosa/core/spectrum.py:266: UserWarning: n_fft=1024 is too large for input signal of length=863\n",
      "  warnings.warn(\n",
      "/home/mio/anaconda3/envs/tfvoice/lib/python3.10/site-packages/librosa/core/spectrum.py:266: UserWarning: n_fft=1024 is too large for input signal of length=432\n",
      "  warnings.warn(\n",
      "/home/mio/anaconda3/envs/tfvoice/lib/python3.10/site-packages/librosa/core/spectrum.py:266: UserWarning: n_fft=1024 is too large for input signal of length=216\n",
      "  warnings.warn(\n",
      "/home/mio/anaconda3/envs/tfvoice/lib/python3.10/site-packages/librosa/core/spectrum.py:266: UserWarning: n_fft=1024 is too large for input signal of length=108\n",
      "  warnings.warn(\n"
     ]
    },
    {
     "name": "stdout",
     "output_type": "stream",
     "text": [
      "Features extracted and saved to data/cleaned/TD19/1_4_features.txt\n"
     ]
    },
    {
     "name": "stderr",
     "output_type": "stream",
     "text": [
      "/home/mio/anaconda3/envs/tfvoice/lib/python3.10/site-packages/librosa/core/spectrum.py:266: UserWarning: n_fft=1024 is too large for input signal of length=582\n",
      "  warnings.warn(\n",
      "/home/mio/anaconda3/envs/tfvoice/lib/python3.10/site-packages/librosa/core/spectrum.py:266: UserWarning: n_fft=1024 is too large for input signal of length=291\n",
      "  warnings.warn(\n"
     ]
    },
    {
     "name": "stdout",
     "output_type": "stream",
     "text": [
      "Features extracted and saved to data/cleaned/TD19/1_3_features.txt\n"
     ]
    },
    {
     "name": "stderr",
     "output_type": "stream",
     "text": [
      "/home/mio/anaconda3/envs/tfvoice/lib/python3.10/site-packages/librosa/core/spectrum.py:266: UserWarning: n_fft=1024 is too large for input signal of length=880\n",
      "  warnings.warn(\n",
      "/home/mio/anaconda3/envs/tfvoice/lib/python3.10/site-packages/librosa/core/spectrum.py:266: UserWarning: n_fft=1024 is too large for input signal of length=440\n",
      "  warnings.warn(\n"
     ]
    },
    {
     "name": "stdout",
     "output_type": "stream",
     "text": [
      "Features extracted and saved to data/cleaned/TD3/1_1_features.txt\n"
     ]
    },
    {
     "name": "stderr",
     "output_type": "stream",
     "text": [
      "/home/mio/anaconda3/envs/tfvoice/lib/python3.10/site-packages/librosa/core/spectrum.py:266: UserWarning: n_fft=1024 is too large for input signal of length=960\n",
      "  warnings.warn(\n",
      "/home/mio/anaconda3/envs/tfvoice/lib/python3.10/site-packages/librosa/core/spectrum.py:266: UserWarning: n_fft=1024 is too large for input signal of length=480\n",
      "  warnings.warn(\n"
     ]
    },
    {
     "name": "stdout",
     "output_type": "stream",
     "text": [
      "Features extracted and saved to data/cleaned/TD3/3_1_features.txt\n"
     ]
    },
    {
     "name": "stderr",
     "output_type": "stream",
     "text": [
      "/home/mio/anaconda3/envs/tfvoice/lib/python3.10/site-packages/librosa/core/spectrum.py:266: UserWarning: n_fft=1024 is too large for input signal of length=521\n",
      "  warnings.warn(\n",
      "/home/mio/anaconda3/envs/tfvoice/lib/python3.10/site-packages/librosa/core/spectrum.py:266: UserWarning: n_fft=1024 is too large for input signal of length=261\n",
      "  warnings.warn(\n"
     ]
    },
    {
     "name": "stdout",
     "output_type": "stream",
     "text": [
      "Features extracted and saved to data/cleaned/TD1/3_5_features.txt\n"
     ]
    },
    {
     "name": "stderr",
     "output_type": "stream",
     "text": [
      "/home/mio/anaconda3/envs/tfvoice/lib/python3.10/site-packages/librosa/core/spectrum.py:266: UserWarning: n_fft=1024 is too large for input signal of length=654\n",
      "  warnings.warn(\n",
      "/home/mio/anaconda3/envs/tfvoice/lib/python3.10/site-packages/librosa/core/spectrum.py:266: UserWarning: n_fft=1024 is too large for input signal of length=327\n",
      "  warnings.warn(\n"
     ]
    },
    {
     "name": "stdout",
     "output_type": "stream",
     "text": [
      "Features extracted and saved to data/cleaned/TD1/1_1_features.txt\n",
      "Features extracted and saved to data/cleaned/TD1/4_1_features.txt\n"
     ]
    },
    {
     "name": "stderr",
     "output_type": "stream",
     "text": [
      "/home/mio/anaconda3/envs/tfvoice/lib/python3.10/site-packages/librosa/core/spectrum.py:266: UserWarning: n_fft=1024 is too large for input signal of length=559\n",
      "  warnings.warn(\n",
      "/home/mio/anaconda3/envs/tfvoice/lib/python3.10/site-packages/librosa/core/spectrum.py:266: UserWarning: n_fft=1024 is too large for input signal of length=280\n",
      "  warnings.warn(\n"
     ]
    },
    {
     "name": "stdout",
     "output_type": "stream",
     "text": [
      "Features extracted and saved to data/cleaned/TD1/3_1_features.txt\n"
     ]
    },
    {
     "name": "stderr",
     "output_type": "stream",
     "text": [
      "/home/mio/anaconda3/envs/tfvoice/lib/python3.10/site-packages/librosa/core/spectrum.py:266: UserWarning: n_fft=1024 is too large for input signal of length=545\n",
      "  warnings.warn(\n",
      "/home/mio/anaconda3/envs/tfvoice/lib/python3.10/site-packages/librosa/core/spectrum.py:266: UserWarning: n_fft=1024 is too large for input signal of length=273\n",
      "  warnings.warn(\n"
     ]
    },
    {
     "name": "stdout",
     "output_type": "stream",
     "text": [
      "Features extracted and saved to data/cleaned/TD1/4_2_features.txt\n"
     ]
    },
    {
     "name": "stderr",
     "output_type": "stream",
     "text": [
      "/home/mio/anaconda3/envs/tfvoice/lib/python3.10/site-packages/librosa/core/spectrum.py:266: UserWarning: n_fft=1024 is too large for input signal of length=655\n",
      "  warnings.warn(\n"
     ]
    },
    {
     "name": "stdout",
     "output_type": "stream",
     "text": [
      "Features extracted and saved to data/cleaned/TD1/2_1_features.txt\n",
      "Features extracted and saved to data/cleaned/TD1/3_6_features.txt\n"
     ]
    },
    {
     "name": "stderr",
     "output_type": "stream",
     "text": [
      "/home/mio/anaconda3/envs/tfvoice/lib/python3.10/site-packages/librosa/core/spectrum.py:266: UserWarning: n_fft=1024 is too large for input signal of length=694\n",
      "  warnings.warn(\n"
     ]
    },
    {
     "name": "stdout",
     "output_type": "stream",
     "text": [
      "Features extracted and saved to data/cleaned/TD1/4_3_features.txt\n",
      "Features extracted and saved to data/cleaned/TD1/3_4_features.txt\n"
     ]
    },
    {
     "name": "stderr",
     "output_type": "stream",
     "text": [
      "/home/mio/anaconda3/envs/tfvoice/lib/python3.10/site-packages/librosa/core/spectrum.py:266: UserWarning: n_fft=1024 is too large for input signal of length=917\n",
      "  warnings.warn(\n",
      "/home/mio/anaconda3/envs/tfvoice/lib/python3.10/site-packages/librosa/core/spectrum.py:266: UserWarning: n_fft=1024 is too large for input signal of length=459\n",
      "  warnings.warn(\n",
      "/home/mio/anaconda3/envs/tfvoice/lib/python3.10/site-packages/librosa/core/spectrum.py:266: UserWarning: n_fft=1024 is too large for input signal of length=230\n",
      "  warnings.warn(\n"
     ]
    },
    {
     "name": "stdout",
     "output_type": "stream",
     "text": [
      "Features extracted and saved to data/cleaned/TD1/3_2_features.txt\n"
     ]
    },
    {
     "name": "stderr",
     "output_type": "stream",
     "text": [
      "/home/mio/anaconda3/envs/tfvoice/lib/python3.10/site-packages/librosa/core/spectrum.py:266: UserWarning: n_fft=1024 is too large for input signal of length=780\n",
      "  warnings.warn(\n"
     ]
    },
    {
     "name": "stdout",
     "output_type": "stream",
     "text": [
      "Features extracted and saved to data/cleaned/TD1/3_3_features.txt\n"
     ]
    },
    {
     "name": "stderr",
     "output_type": "stream",
     "text": [
      "/home/mio/anaconda3/envs/tfvoice/lib/python3.10/site-packages/librosa/core/spectrum.py:266: UserWarning: n_fft=1024 is too large for input signal of length=637\n",
      "  warnings.warn(\n",
      "/home/mio/anaconda3/envs/tfvoice/lib/python3.10/site-packages/librosa/core/spectrum.py:266: UserWarning: n_fft=1024 is too large for input signal of length=319\n",
      "  warnings.warn(\n",
      "/home/mio/anaconda3/envs/tfvoice/lib/python3.10/site-packages/librosa/core/spectrum.py:266: UserWarning: n_fft=1024 is too large for input signal of length=160\n",
      "  warnings.warn(\n"
     ]
    },
    {
     "name": "stdout",
     "output_type": "stream",
     "text": [
      "Features extracted and saved to data/cleaned/ASD4/hir_18_1_features.txt\n"
     ]
    },
    {
     "name": "stderr",
     "output_type": "stream",
     "text": [
      "/home/mio/anaconda3/envs/tfvoice/lib/python3.10/site-packages/librosa/core/spectrum.py:266: UserWarning: n_fft=1024 is too large for input signal of length=239\n",
      "  warnings.warn(\n"
     ]
    },
    {
     "name": "stdout",
     "output_type": "stream",
     "text": [
      "Features extracted and saved to data/cleaned/ASD4/Sound1_features.txt\n"
     ]
    },
    {
     "name": "stderr",
     "output_type": "stream",
     "text": [
      "/home/mio/anaconda3/envs/tfvoice/lib/python3.10/site-packages/librosa/core/spectrum.py:266: UserWarning: n_fft=1024 is too large for input signal of length=695\n",
      "  warnings.warn(\n",
      "/home/mio/anaconda3/envs/tfvoice/lib/python3.10/site-packages/librosa/core/spectrum.py:266: UserWarning: n_fft=1024 is too large for input signal of length=348\n",
      "  warnings.warn(\n"
     ]
    },
    {
     "name": "stdout",
     "output_type": "stream",
     "text": [
      "Features extracted and saved to data/cleaned/ASD4/Sound11_features.txt\n",
      "Features extracted and saved to data/cleaned/ASD4/Sound23_features.txt\n"
     ]
    },
    {
     "name": "stderr",
     "output_type": "stream",
     "text": [
      "/home/mio/anaconda3/envs/tfvoice/lib/python3.10/site-packages/librosa/core/spectrum.py:266: UserWarning: n_fft=1024 is too large for input signal of length=999\n",
      "  warnings.warn(\n",
      "/home/mio/anaconda3/envs/tfvoice/lib/python3.10/site-packages/librosa/core/spectrum.py:266: UserWarning: n_fft=1024 is too large for input signal of length=500\n",
      "  warnings.warn(\n",
      "/home/mio/anaconda3/envs/tfvoice/lib/python3.10/site-packages/librosa/core/spectrum.py:266: UserWarning: n_fft=1024 is too large for input signal of length=250\n",
      "  warnings.warn(\n"
     ]
    },
    {
     "name": "stdout",
     "output_type": "stream",
     "text": [
      "Features extracted and saved to data/cleaned/ASD4/Sound19_features.txt\n"
     ]
    },
    {
     "name": "stderr",
     "output_type": "stream",
     "text": [
      "/home/mio/anaconda3/envs/tfvoice/lib/python3.10/site-packages/librosa/core/spectrum.py:266: UserWarning: n_fft=1024 is too large for input signal of length=642\n",
      "  warnings.warn(\n"
     ]
    },
    {
     "name": "stdout",
     "output_type": "stream",
     "text": [
      "Features extracted and saved to data/cleaned/ASD4/Sound16_features.txt\n"
     ]
    },
    {
     "name": "stderr",
     "output_type": "stream",
     "text": [
      "/home/mio/anaconda3/envs/tfvoice/lib/python3.10/site-packages/librosa/core/spectrum.py:266: UserWarning: n_fft=1024 is too large for input signal of length=979\n",
      "  warnings.warn(\n",
      "/home/mio/anaconda3/envs/tfvoice/lib/python3.10/site-packages/librosa/core/spectrum.py:266: UserWarning: n_fft=1024 is too large for input signal of length=490\n",
      "  warnings.warn(\n",
      "/home/mio/anaconda3/envs/tfvoice/lib/python3.10/site-packages/librosa/core/spectrum.py:266: UserWarning: n_fft=1024 is too large for input signal of length=245\n",
      "  warnings.warn(\n",
      "/home/mio/anaconda3/envs/tfvoice/lib/python3.10/site-packages/librosa/core/spectrum.py:266: UserWarning: n_fft=1024 is too large for input signal of length=123\n",
      "  warnings.warn(\n"
     ]
    },
    {
     "name": "stdout",
     "output_type": "stream",
     "text": [
      "Features extracted and saved to data/cleaned/ASD4/Sound3_features.txt\n",
      "Features extracted and saved to data/cleaned/ASD4/Sound4_features.txt\n"
     ]
    },
    {
     "name": "stderr",
     "output_type": "stream",
     "text": [
      "/home/mio/anaconda3/envs/tfvoice/lib/python3.10/site-packages/librosa/core/spectrum.py:266: UserWarning: n_fft=1024 is too large for input signal of length=976\n",
      "  warnings.warn(\n",
      "/home/mio/anaconda3/envs/tfvoice/lib/python3.10/site-packages/librosa/core/spectrum.py:266: UserWarning: n_fft=1024 is too large for input signal of length=488\n",
      "  warnings.warn(\n",
      "/home/mio/anaconda3/envs/tfvoice/lib/python3.10/site-packages/librosa/core/spectrum.py:266: UserWarning: n_fft=1024 is too large for input signal of length=244\n",
      "  warnings.warn(\n",
      "/home/mio/anaconda3/envs/tfvoice/lib/python3.10/site-packages/librosa/core/spectrum.py:266: UserWarning: n_fft=1024 is too large for input signal of length=122\n",
      "  warnings.warn(\n"
     ]
    },
    {
     "name": "stdout",
     "output_type": "stream",
     "text": [
      "Features extracted and saved to data/cleaned/ASD4/Sound14_features.txt\n",
      "Features extracted and saved to data/cleaned/ASD4/Sound20_features.txt\n"
     ]
    },
    {
     "name": "stderr",
     "output_type": "stream",
     "text": [
      "/home/mio/anaconda3/envs/tfvoice/lib/python3.10/site-packages/librosa/core/spectrum.py:266: UserWarning: n_fft=1024 is too large for input signal of length=733\n",
      "  warnings.warn(\n",
      "/home/mio/anaconda3/envs/tfvoice/lib/python3.10/site-packages/librosa/core/spectrum.py:266: UserWarning: n_fft=1024 is too large for input signal of length=367\n",
      "  warnings.warn(\n"
     ]
    },
    {
     "name": "stdout",
     "output_type": "stream",
     "text": [
      "Features extracted and saved to data/cleaned/ASD4/Sound18_features.txt\n"
     ]
    },
    {
     "name": "stderr",
     "output_type": "stream",
     "text": [
      "/home/mio/anaconda3/envs/tfvoice/lib/python3.10/site-packages/librosa/core/spectrum.py:266: UserWarning: n_fft=1024 is too large for input signal of length=740\n",
      "  warnings.warn(\n"
     ]
    },
    {
     "name": "stdout",
     "output_type": "stream",
     "text": [
      "Features extracted and saved to data/cleaned/ASD4/Sound6_features.txt\n"
     ]
    },
    {
     "name": "stderr",
     "output_type": "stream",
     "text": [
      "/home/mio/anaconda3/envs/tfvoice/lib/python3.10/site-packages/librosa/core/spectrum.py:266: UserWarning: n_fft=1024 is too large for input signal of length=864\n",
      "  warnings.warn(\n"
     ]
    },
    {
     "name": "stdout",
     "output_type": "stream",
     "text": [
      "Features extracted and saved to data/cleaned/ASD4/Sound17_features.txt\n",
      "Features extracted and saved to data/cleaned/ASD22/1_1_features.txt\n"
     ]
    },
    {
     "name": "stderr",
     "output_type": "stream",
     "text": [
      "/home/mio/anaconda3/envs/tfvoice/lib/python3.10/site-packages/librosa/core/spectrum.py:266: UserWarning: n_fft=1024 is too large for input signal of length=779\n",
      "  warnings.warn(\n",
      "/home/mio/anaconda3/envs/tfvoice/lib/python3.10/site-packages/librosa/core/spectrum.py:266: UserWarning: n_fft=1024 is too large for input signal of length=390\n",
      "  warnings.warn(\n"
     ]
    },
    {
     "name": "stdout",
     "output_type": "stream",
     "text": [
      "Features extracted and saved to data/cleaned/ASD22/2_1_features.txt\n"
     ]
    },
    {
     "name": "stderr",
     "output_type": "stream",
     "text": [
      "/home/mio/anaconda3/envs/tfvoice/lib/python3.10/site-packages/librosa/core/spectrum.py:266: UserWarning: n_fft=1024 is too large for input signal of length=585\n",
      "  warnings.warn(\n"
     ]
    },
    {
     "name": "stdout",
     "output_type": "stream",
     "text": [
      "Features extracted and saved to data/cleaned/TD27/1_5_features.txt\n"
     ]
    },
    {
     "name": "stderr",
     "output_type": "stream",
     "text": [
      "/home/mio/anaconda3/envs/tfvoice/lib/python3.10/site-packages/librosa/core/spectrum.py:266: UserWarning: n_fft=1024 is too large for input signal of length=870\n",
      "  warnings.warn(\n",
      "/home/mio/anaconda3/envs/tfvoice/lib/python3.10/site-packages/librosa/core/spectrum.py:266: UserWarning: n_fft=1024 is too large for input signal of length=435\n",
      "  warnings.warn(\n",
      "/home/mio/anaconda3/envs/tfvoice/lib/python3.10/site-packages/librosa/core/spectrum.py:266: UserWarning: n_fft=1024 is too large for input signal of length=218\n",
      "  warnings.warn(\n",
      "/home/mio/anaconda3/envs/tfvoice/lib/python3.10/site-packages/librosa/core/spectrum.py:266: UserWarning: n_fft=1024 is too large for input signal of length=109\n",
      "  warnings.warn(\n"
     ]
    },
    {
     "name": "stdout",
     "output_type": "stream",
     "text": [
      "Features extracted and saved to data/cleaned/TD27/1_1_features.txt\n"
     ]
    },
    {
     "name": "stderr",
     "output_type": "stream",
     "text": [
      "/home/mio/anaconda3/envs/tfvoice/lib/python3.10/site-packages/librosa/core/spectrum.py:266: UserWarning: n_fft=1024 is too large for input signal of length=760\n",
      "  warnings.warn(\n"
     ]
    },
    {
     "name": "stdout",
     "output_type": "stream",
     "text": [
      "Features extracted and saved to data/cleaned/TD27/1_2_features.txt\n",
      "Features extracted and saved to data/cleaned/TD27/1_4_features.txt\n",
      "Features extracted and saved to data/cleaned/TD27/1_3_features.txt\n"
     ]
    },
    {
     "name": "stderr",
     "output_type": "stream",
     "text": [
      "/home/mio/anaconda3/envs/tfvoice/lib/python3.10/site-packages/librosa/core/spectrum.py:266: UserWarning: n_fft=1024 is too large for input signal of length=767\n",
      "  warnings.warn(\n",
      "/home/mio/anaconda3/envs/tfvoice/lib/python3.10/site-packages/librosa/core/spectrum.py:266: UserWarning: n_fft=1024 is too large for input signal of length=384\n",
      "  warnings.warn(\n",
      "/home/mio/anaconda3/envs/tfvoice/lib/python3.10/site-packages/librosa/core/spectrum.py:266: UserWarning: n_fft=1024 is too large for input signal of length=192\n",
      "  warnings.warn(\n"
     ]
    },
    {
     "name": "stdout",
     "output_type": "stream",
     "text": [
      "Features extracted and saved to data/cleaned/TD22/1_1_features.txt\n",
      "Features extracted and saved to data/cleaned/TD22/1_2_features.txt\n"
     ]
    },
    {
     "name": "stderr",
     "output_type": "stream",
     "text": [
      "/home/mio/anaconda3/envs/tfvoice/lib/python3.10/site-packages/librosa/core/spectrum.py:266: UserWarning: n_fft=1024 is too large for input signal of length=130\n",
      "  warnings.warn(\n"
     ]
    },
    {
     "name": "stdout",
     "output_type": "stream",
     "text": [
      "Features extracted and saved to data/cleaned/TD22/1_4_features.txt\n"
     ]
    },
    {
     "name": "stderr",
     "output_type": "stream",
     "text": [
      "/home/mio/anaconda3/envs/tfvoice/lib/python3.10/site-packages/librosa/core/spectrum.py:266: UserWarning: n_fft=1024 is too large for input signal of length=542\n",
      "  warnings.warn(\n",
      "/home/mio/anaconda3/envs/tfvoice/lib/python3.10/site-packages/librosa/core/spectrum.py:266: UserWarning: n_fft=1024 is too large for input signal of length=271\n",
      "  warnings.warn(\n"
     ]
    },
    {
     "name": "stdout",
     "output_type": "stream",
     "text": [
      "Features extracted and saved to data/cleaned/TD22/1_3_features.txt\n"
     ]
    },
    {
     "name": "stderr",
     "output_type": "stream",
     "text": [
      "/home/mio/anaconda3/envs/tfvoice/lib/python3.10/site-packages/librosa/core/spectrum.py:266: UserWarning: n_fft=1024 is too large for input signal of length=1007\n",
      "  warnings.warn(\n",
      "/home/mio/anaconda3/envs/tfvoice/lib/python3.10/site-packages/librosa/core/spectrum.py:266: UserWarning: n_fft=1024 is too large for input signal of length=504\n",
      "  warnings.warn(\n"
     ]
    },
    {
     "name": "stdout",
     "output_type": "stream",
     "text": [
      "Features extracted and saved to data/cleaned/ASD25/1_5_features.txt\n"
     ]
    },
    {
     "name": "stderr",
     "output_type": "stream",
     "text": [
      "/home/mio/anaconda3/envs/tfvoice/lib/python3.10/site-packages/librosa/core/spectrum.py:266: UserWarning: n_fft=1024 is too large for input signal of length=1005\n",
      "  warnings.warn(\n"
     ]
    },
    {
     "name": "stdout",
     "output_type": "stream",
     "text": [
      "Features extracted and saved to data/cleaned/ASD25/2_5_features.txt\n"
     ]
    },
    {
     "name": "stderr",
     "output_type": "stream",
     "text": [
      "/home/mio/anaconda3/envs/tfvoice/lib/python3.10/site-packages/librosa/core/spectrum.py:266: UserWarning: n_fft=1024 is too large for input signal of length=659\n",
      "  warnings.warn(\n"
     ]
    },
    {
     "name": "stdout",
     "output_type": "stream",
     "text": [
      "Features extracted and saved to data/cleaned/ASD25/1_1_features.txt\n"
     ]
    },
    {
     "name": "stderr",
     "output_type": "stream",
     "text": [
      "/home/mio/anaconda3/envs/tfvoice/lib/python3.10/site-packages/librosa/core/spectrum.py:266: UserWarning: n_fft=1024 is too large for input signal of length=854\n",
      "  warnings.warn(\n"
     ]
    },
    {
     "name": "stdout",
     "output_type": "stream",
     "text": [
      "Features extracted and saved to data/cleaned/ASD25/3_1_features.txt\n"
     ]
    },
    {
     "name": "stderr",
     "output_type": "stream",
     "text": [
      "/home/mio/anaconda3/envs/tfvoice/lib/python3.10/site-packages/librosa/core/spectrum.py:266: UserWarning: n_fft=1024 is too large for input signal of length=887\n",
      "  warnings.warn(\n",
      "/home/mio/anaconda3/envs/tfvoice/lib/python3.10/site-packages/librosa/core/spectrum.py:266: UserWarning: n_fft=1024 is too large for input signal of length=444\n",
      "  warnings.warn(\n",
      "/home/mio/anaconda3/envs/tfvoice/lib/python3.10/site-packages/librosa/core/spectrum.py:266: UserWarning: n_fft=1024 is too large for input signal of length=222\n",
      "  warnings.warn(\n"
     ]
    },
    {
     "name": "stdout",
     "output_type": "stream",
     "text": [
      "Features extracted and saved to data/cleaned/ASD25/2_4_features.txt\n"
     ]
    },
    {
     "name": "stderr",
     "output_type": "stream",
     "text": [
      "/home/mio/anaconda3/envs/tfvoice/lib/python3.10/site-packages/librosa/core/spectrum.py:266: UserWarning: n_fft=1024 is too large for input signal of length=573\n",
      "  warnings.warn(\n"
     ]
    },
    {
     "name": "stdout",
     "output_type": "stream",
     "text": [
      "Features extracted and saved to data/cleaned/ASD25/1_2_features.txt\n"
     ]
    },
    {
     "name": "stderr",
     "output_type": "stream",
     "text": [
      "/home/mio/anaconda3/envs/tfvoice/lib/python3.10/site-packages/librosa/core/spectrum.py:266: UserWarning: n_fft=1024 is too large for input signal of length=544\n",
      "  warnings.warn(\n",
      "/home/mio/anaconda3/envs/tfvoice/lib/python3.10/site-packages/librosa/core/spectrum.py:266: UserWarning: n_fft=1024 is too large for input signal of length=272\n",
      "  warnings.warn(\n",
      "/home/mio/anaconda3/envs/tfvoice/lib/python3.10/site-packages/librosa/core/spectrum.py:266: UserWarning: n_fft=1024 is too large for input signal of length=136\n",
      "  warnings.warn(\n"
     ]
    },
    {
     "name": "stdout",
     "output_type": "stream",
     "text": [
      "Features extracted and saved to data/cleaned/ASD25/2_3_features.txt\n"
     ]
    },
    {
     "name": "stderr",
     "output_type": "stream",
     "text": [
      "/home/mio/anaconda3/envs/tfvoice/lib/python3.10/site-packages/librosa/core/spectrum.py:266: UserWarning: n_fft=1024 is too large for input signal of length=551\n",
      "  warnings.warn(\n"
     ]
    },
    {
     "name": "stdout",
     "output_type": "stream",
     "text": [
      "Features extracted and saved to data/cleaned/ASD25/2_1_features.txt\n"
     ]
    },
    {
     "name": "stderr",
     "output_type": "stream",
     "text": [
      "/home/mio/anaconda3/envs/tfvoice/lib/python3.10/site-packages/librosa/core/spectrum.py:266: UserWarning: n_fft=1024 is too large for input signal of length=667\n",
      "  warnings.warn(\n",
      "/home/mio/anaconda3/envs/tfvoice/lib/python3.10/site-packages/librosa/core/spectrum.py:266: UserWarning: n_fft=1024 is too large for input signal of length=334\n",
      "  warnings.warn(\n"
     ]
    },
    {
     "name": "stdout",
     "output_type": "stream",
     "text": [
      "Features extracted and saved to data/cleaned/ASD25/2_2_features.txt\n"
     ]
    },
    {
     "name": "stderr",
     "output_type": "stream",
     "text": [
      "/home/mio/anaconda3/envs/tfvoice/lib/python3.10/site-packages/librosa/core/spectrum.py:266: UserWarning: n_fft=1024 is too large for input signal of length=656\n",
      "  warnings.warn(\n",
      "/home/mio/anaconda3/envs/tfvoice/lib/python3.10/site-packages/librosa/core/spectrum.py:266: UserWarning: n_fft=1024 is too large for input signal of length=328\n",
      "  warnings.warn(\n"
     ]
    },
    {
     "name": "stdout",
     "output_type": "stream",
     "text": [
      "Features extracted and saved to data/cleaned/ASD25/1_6_features.txt\n"
     ]
    },
    {
     "name": "stderr",
     "output_type": "stream",
     "text": [
      "/home/mio/anaconda3/envs/tfvoice/lib/python3.10/site-packages/librosa/core/spectrum.py:266: UserWarning: n_fft=1024 is too large for input signal of length=721\n",
      "  warnings.warn(\n",
      "/home/mio/anaconda3/envs/tfvoice/lib/python3.10/site-packages/librosa/core/spectrum.py:266: UserWarning: n_fft=1024 is too large for input signal of length=361\n",
      "  warnings.warn(\n",
      "/home/mio/anaconda3/envs/tfvoice/lib/python3.10/site-packages/librosa/core/spectrum.py:266: UserWarning: n_fft=1024 is too large for input signal of length=181\n",
      "  warnings.warn(\n"
     ]
    },
    {
     "name": "stdout",
     "output_type": "stream",
     "text": [
      "Features extracted and saved to data/cleaned/ASD25/1_4_features.txt\n"
     ]
    },
    {
     "name": "stderr",
     "output_type": "stream",
     "text": [
      "/home/mio/anaconda3/envs/tfvoice/lib/python3.10/site-packages/librosa/core/spectrum.py:266: UserWarning: n_fft=1024 is too large for input signal of length=692\n",
      "  warnings.warn(\n",
      "/home/mio/anaconda3/envs/tfvoice/lib/python3.10/site-packages/librosa/core/spectrum.py:266: UserWarning: n_fft=1024 is too large for input signal of length=346\n",
      "  warnings.warn(\n"
     ]
    },
    {
     "name": "stdout",
     "output_type": "stream",
     "text": [
      "Features extracted and saved to data/cleaned/ASD25/1_3_features.txt\n"
     ]
    },
    {
     "name": "stderr",
     "output_type": "stream",
     "text": [
      "/home/mio/anaconda3/envs/tfvoice/lib/python3.10/site-packages/librosa/core/spectrum.py:266: UserWarning: n_fft=1024 is too large for input signal of length=793\n",
      "  warnings.warn(\n",
      "/home/mio/anaconda3/envs/tfvoice/lib/python3.10/site-packages/librosa/core/spectrum.py:266: UserWarning: n_fft=1024 is too large for input signal of length=397\n",
      "  warnings.warn(\n",
      "/home/mio/anaconda3/envs/tfvoice/lib/python3.10/site-packages/librosa/core/spectrum.py:266: UserWarning: n_fft=1024 is too large for input signal of length=199\n",
      "  warnings.warn(\n"
     ]
    },
    {
     "name": "stdout",
     "output_type": "stream",
     "text": [
      "Features extracted and saved to data/cleaned/TD5/1_1_features.txt\n"
     ]
    },
    {
     "name": "stderr",
     "output_type": "stream",
     "text": [
      "/home/mio/anaconda3/envs/tfvoice/lib/python3.10/site-packages/librosa/core/spectrum.py:266: UserWarning: n_fft=1024 is too large for input signal of length=586\n",
      "  warnings.warn(\n",
      "/home/mio/anaconda3/envs/tfvoice/lib/python3.10/site-packages/librosa/core/spectrum.py:266: UserWarning: n_fft=1024 is too large for input signal of length=293\n",
      "  warnings.warn(\n"
     ]
    },
    {
     "name": "stdout",
     "output_type": "stream",
     "text": [
      "Features extracted and saved to data/cleaned/TD5/1_2_features.txt\n"
     ]
    },
    {
     "name": "stderr",
     "output_type": "stream",
     "text": [
      "/home/mio/anaconda3/envs/tfvoice/lib/python3.10/site-packages/librosa/core/spectrum.py:266: UserWarning: n_fft=1024 is too large for input signal of length=828\n",
      "  warnings.warn(\n",
      "/home/mio/anaconda3/envs/tfvoice/lib/python3.10/site-packages/librosa/core/spectrum.py:266: UserWarning: n_fft=1024 is too large for input signal of length=414\n",
      "  warnings.warn(\n"
     ]
    },
    {
     "name": "stdout",
     "output_type": "stream",
     "text": [
      "Features extracted and saved to data/cleaned/TD5/1_3_features.txt\n"
     ]
    },
    {
     "name": "stderr",
     "output_type": "stream",
     "text": [
      "/home/mio/anaconda3/envs/tfvoice/lib/python3.10/site-packages/librosa/core/spectrum.py:266: UserWarning: n_fft=1024 is too large for input signal of length=965\n",
      "  warnings.warn(\n",
      "/home/mio/anaconda3/envs/tfvoice/lib/python3.10/site-packages/librosa/core/spectrum.py:266: UserWarning: n_fft=1024 is too large for input signal of length=483\n",
      "  warnings.warn(\n",
      "/home/mio/anaconda3/envs/tfvoice/lib/python3.10/site-packages/librosa/core/spectrum.py:266: UserWarning: n_fft=1024 is too large for input signal of length=242\n",
      "  warnings.warn(\n"
     ]
    },
    {
     "name": "stdout",
     "output_type": "stream",
     "text": [
      "Features extracted and saved to data/cleaned/TD11/1_1_features.txt\n"
     ]
    },
    {
     "name": "stderr",
     "output_type": "stream",
     "text": [
      "/home/mio/anaconda3/envs/tfvoice/lib/python3.10/site-packages/librosa/core/spectrum.py:266: UserWarning: n_fft=1024 is too large for input signal of length=950\n",
      "  warnings.warn(\n",
      "/home/mio/anaconda3/envs/tfvoice/lib/python3.10/site-packages/librosa/core/spectrum.py:266: UserWarning: n_fft=1024 is too large for input signal of length=475\n",
      "  warnings.warn(\n",
      "/home/mio/anaconda3/envs/tfvoice/lib/python3.10/site-packages/librosa/core/spectrum.py:266: UserWarning: n_fft=1024 is too large for input signal of length=119\n",
      "  warnings.warn(\n"
     ]
    },
    {
     "name": "stdout",
     "output_type": "stream",
     "text": [
      "Features extracted and saved to data/cleaned/TD11/1_2_features.txt\n",
      "Features extracted and saved to data/cleaned/TD11/1_4_features.txt\n"
     ]
    },
    {
     "name": "stderr",
     "output_type": "stream",
     "text": [
      "/home/mio/anaconda3/envs/tfvoice/lib/python3.10/site-packages/librosa/core/spectrum.py:266: UserWarning: n_fft=1024 is too large for input signal of length=547\n",
      "  warnings.warn(\n",
      "/home/mio/anaconda3/envs/tfvoice/lib/python3.10/site-packages/librosa/core/spectrum.py:266: UserWarning: n_fft=1024 is too large for input signal of length=274\n",
      "  warnings.warn(\n",
      "/home/mio/anaconda3/envs/tfvoice/lib/python3.10/site-packages/librosa/core/spectrum.py:266: UserWarning: n_fft=1024 is too large for input signal of length=137\n",
      "  warnings.warn(\n"
     ]
    },
    {
     "name": "stdout",
     "output_type": "stream",
     "text": [
      "Features extracted and saved to data/cleaned/TD11/1-5_features.txt\n",
      "Features extracted and saved to data/cleaned/TD11/1_3_features.txt\n"
     ]
    },
    {
     "name": "stderr",
     "output_type": "stream",
     "text": [
      "/home/mio/anaconda3/envs/tfvoice/lib/python3.10/site-packages/librosa/core/spectrum.py:266: UserWarning: n_fft=1024 is too large for input signal of length=653\n",
      "  warnings.warn(\n"
     ]
    },
    {
     "name": "stdout",
     "output_type": "stream",
     "text": [
      "Features extracted and saved to data/cleaned/ASD18/1_1_features.txt\n",
      "Features extracted and saved to data/cleaned/ASD18/2_1_features.txt\n"
     ]
    },
    {
     "name": "stderr",
     "output_type": "stream",
     "text": [
      "/home/mio/anaconda3/envs/tfvoice/lib/python3.10/site-packages/librosa/core/spectrum.py:266: UserWarning: n_fft=1024 is too large for input signal of length=618\n",
      "  warnings.warn(\n",
      "/home/mio/anaconda3/envs/tfvoice/lib/python3.10/site-packages/librosa/core/spectrum.py:266: UserWarning: n_fft=1024 is too large for input signal of length=309\n",
      "  warnings.warn(\n",
      "/home/mio/anaconda3/envs/tfvoice/lib/python3.10/site-packages/librosa/core/spectrum.py:266: UserWarning: n_fft=1024 is too large for input signal of length=155\n",
      "  warnings.warn(\n"
     ]
    },
    {
     "name": "stdout",
     "output_type": "stream",
     "text": [
      "Features extracted and saved to data/cleaned/ASD15/1_1_features.txt\n"
     ]
    },
    {
     "name": "stderr",
     "output_type": "stream",
     "text": [
      "/home/mio/anaconda3/envs/tfvoice/lib/python3.10/site-packages/librosa/core/spectrum.py:266: UserWarning: n_fft=1024 is too large for input signal of length=909\n",
      "  warnings.warn(\n",
      "/home/mio/anaconda3/envs/tfvoice/lib/python3.10/site-packages/librosa/core/spectrum.py:266: UserWarning: n_fft=1024 is too large for input signal of length=455\n",
      "  warnings.warn(\n",
      "/home/mio/anaconda3/envs/tfvoice/lib/python3.10/site-packages/librosa/core/spectrum.py:266: UserWarning: n_fft=1024 is too large for input signal of length=228\n",
      "  warnings.warn(\n",
      "/home/mio/anaconda3/envs/tfvoice/lib/python3.10/site-packages/librosa/core/spectrum.py:266: UserWarning: n_fft=1024 is too large for input signal of length=114\n",
      "  warnings.warn(\n"
     ]
    },
    {
     "name": "stdout",
     "output_type": "stream",
     "text": [
      "Features extracted and saved to data/cleaned/ASD15/2_4_features.txt\n"
     ]
    },
    {
     "name": "stderr",
     "output_type": "stream",
     "text": [
      "/home/mio/anaconda3/envs/tfvoice/lib/python3.10/site-packages/librosa/core/spectrum.py:266: UserWarning: n_fft=1024 is too large for input signal of length=1013\n",
      "  warnings.warn(\n",
      "/home/mio/anaconda3/envs/tfvoice/lib/python3.10/site-packages/librosa/core/spectrum.py:266: UserWarning: n_fft=1024 is too large for input signal of length=507\n",
      "  warnings.warn(\n",
      "/home/mio/anaconda3/envs/tfvoice/lib/python3.10/site-packages/librosa/core/spectrum.py:266: UserWarning: n_fft=1024 is too large for input signal of length=254\n",
      "  warnings.warn(\n",
      "/home/mio/anaconda3/envs/tfvoice/lib/python3.10/site-packages/librosa/core/spectrum.py:266: UserWarning: n_fft=1024 is too large for input signal of length=127\n",
      "  warnings.warn(\n"
     ]
    },
    {
     "name": "stdout",
     "output_type": "stream",
     "text": [
      "Features extracted and saved to data/cleaned/ASD15/2_3_features.txt\n"
     ]
    },
    {
     "name": "stderr",
     "output_type": "stream",
     "text": [
      "/home/mio/anaconda3/envs/tfvoice/lib/python3.10/site-packages/librosa/core/spectrum.py:266: UserWarning: n_fft=1024 is too large for input signal of length=929\n",
      "  warnings.warn(\n"
     ]
    },
    {
     "name": "stdout",
     "output_type": "stream",
     "text": [
      "Features extracted and saved to data/cleaned/ASD15/2_1_features.txt\n"
     ]
    },
    {
     "name": "stderr",
     "output_type": "stream",
     "text": [
      "/home/mio/anaconda3/envs/tfvoice/lib/python3.10/site-packages/librosa/core/spectrum.py:266: UserWarning: n_fft=1024 is too large for input signal of length=933\n",
      "  warnings.warn(\n",
      "/home/mio/anaconda3/envs/tfvoice/lib/python3.10/site-packages/librosa/core/spectrum.py:266: UserWarning: n_fft=1024 is too large for input signal of length=467\n",
      "  warnings.warn(\n",
      "/home/mio/anaconda3/envs/tfvoice/lib/python3.10/site-packages/librosa/core/spectrum.py:266: UserWarning: n_fft=1024 is too large for input signal of length=234\n",
      "  warnings.warn(\n"
     ]
    },
    {
     "name": "stdout",
     "output_type": "stream",
     "text": [
      "Features extracted and saved to data/cleaned/ASD15/2_2_features.txt\n"
     ]
    },
    {
     "name": "stderr",
     "output_type": "stream",
     "text": [
      "/home/mio/anaconda3/envs/tfvoice/lib/python3.10/site-packages/librosa/core/spectrum.py:266: UserWarning: n_fft=1024 is too large for input signal of length=554\n",
      "  warnings.warn(\n",
      "/home/mio/anaconda3/envs/tfvoice/lib/python3.10/site-packages/librosa/core/spectrum.py:266: UserWarning: n_fft=1024 is too large for input signal of length=277\n",
      "  warnings.warn(\n",
      "/home/mio/anaconda3/envs/tfvoice/lib/python3.10/site-packages/librosa/core/spectrum.py:266: UserWarning: n_fft=1024 is too large for input signal of length=139\n",
      "  warnings.warn(\n"
     ]
    },
    {
     "name": "stdout",
     "output_type": "stream",
     "text": [
      "Features extracted and saved to data/cleaned/ASD29/1_5_features.txt\n"
     ]
    },
    {
     "name": "stderr",
     "output_type": "stream",
     "text": [
      "/home/mio/anaconda3/envs/tfvoice/lib/python3.10/site-packages/librosa/core/spectrum.py:266: UserWarning: n_fft=1024 is too large for input signal of length=947\n",
      "  warnings.warn(\n",
      "/home/mio/anaconda3/envs/tfvoice/lib/python3.10/site-packages/librosa/core/spectrum.py:266: UserWarning: n_fft=1024 is too large for input signal of length=474\n",
      "  warnings.warn(\n",
      "/home/mio/anaconda3/envs/tfvoice/lib/python3.10/site-packages/librosa/core/spectrum.py:266: UserWarning: n_fft=1024 is too large for input signal of length=237\n",
      "  warnings.warn(\n"
     ]
    },
    {
     "name": "stdout",
     "output_type": "stream",
     "text": [
      "Features extracted and saved to data/cleaned/ASD29/1_1_features.txt\n"
     ]
    },
    {
     "name": "stderr",
     "output_type": "stream",
     "text": [
      "/home/mio/anaconda3/envs/tfvoice/lib/python3.10/site-packages/librosa/core/spectrum.py:266: UserWarning: n_fft=1024 is too large for input signal of length=754\n",
      "  warnings.warn(\n",
      "/home/mio/anaconda3/envs/tfvoice/lib/python3.10/site-packages/librosa/core/spectrum.py:266: UserWarning: n_fft=1024 is too large for input signal of length=377\n",
      "  warnings.warn(\n",
      "/home/mio/anaconda3/envs/tfvoice/lib/python3.10/site-packages/librosa/core/spectrum.py:266: UserWarning: n_fft=1024 is too large for input signal of length=189\n",
      "  warnings.warn(\n"
     ]
    },
    {
     "name": "stdout",
     "output_type": "stream",
     "text": [
      "Features extracted and saved to data/cleaned/ASD29/1_7_features.txt\n",
      "Features extracted and saved to data/cleaned/ASD29/4_1_features.txt\n",
      "Features extracted and saved to data/cleaned/ASD29/1_2_features.txt\n"
     ]
    },
    {
     "name": "stderr",
     "output_type": "stream",
     "text": [
      "/home/mio/anaconda3/envs/tfvoice/lib/python3.10/site-packages/librosa/core/spectrum.py:266: UserWarning: n_fft=1024 is too large for input signal of length=1001\n",
      "  warnings.warn(\n",
      "/home/mio/anaconda3/envs/tfvoice/lib/python3.10/site-packages/librosa/core/spectrum.py:266: UserWarning: n_fft=1024 is too large for input signal of length=501\n",
      "  warnings.warn(\n"
     ]
    },
    {
     "name": "stdout",
     "output_type": "stream",
     "text": [
      "Features extracted and saved to data/cleaned/ASD29/1_6_features.txt\n"
     ]
    },
    {
     "name": "stderr",
     "output_type": "stream",
     "text": [
      "/home/mio/anaconda3/envs/tfvoice/lib/python3.10/site-packages/librosa/core/spectrum.py:266: UserWarning: n_fft=1024 is too large for input signal of length=592\n",
      "  warnings.warn(\n",
      "/home/mio/anaconda3/envs/tfvoice/lib/python3.10/site-packages/librosa/core/spectrum.py:266: UserWarning: n_fft=1024 is too large for input signal of length=296\n",
      "  warnings.warn(\n",
      "/home/mio/anaconda3/envs/tfvoice/lib/python3.10/site-packages/librosa/core/spectrum.py:266: UserWarning: n_fft=1024 is too large for input signal of length=148\n",
      "  warnings.warn(\n"
     ]
    },
    {
     "name": "stdout",
     "output_type": "stream",
     "text": [
      "Features extracted and saved to data/cleaned/ASD29/1_4_features.txt\n"
     ]
    },
    {
     "name": "stderr",
     "output_type": "stream",
     "text": [
      "/home/mio/anaconda3/envs/tfvoice/lib/python3.10/site-packages/librosa/core/spectrum.py:266: UserWarning: n_fft=1024 is too large for input signal of length=810\n",
      "  warnings.warn(\n",
      "/home/mio/anaconda3/envs/tfvoice/lib/python3.10/site-packages/librosa/core/spectrum.py:266: UserWarning: n_fft=1024 is too large for input signal of length=203\n",
      "  warnings.warn(\n"
     ]
    },
    {
     "name": "stdout",
     "output_type": "stream",
     "text": [
      "Features extracted and saved to data/cleaned/ASD29/1_3_features.txt\n"
     ]
    },
    {
     "name": "stderr",
     "output_type": "stream",
     "text": [
      "/home/mio/anaconda3/envs/tfvoice/lib/python3.10/site-packages/librosa/core/spectrum.py:266: UserWarning: n_fft=1024 is too large for input signal of length=701\n",
      "  warnings.warn(\n",
      "/home/mio/anaconda3/envs/tfvoice/lib/python3.10/site-packages/librosa/core/spectrum.py:266: UserWarning: n_fft=1024 is too large for input signal of length=351\n",
      "  warnings.warn(\n",
      "/home/mio/anaconda3/envs/tfvoice/lib/python3.10/site-packages/librosa/core/spectrum.py:266: UserWarning: n_fft=1024 is too large for input signal of length=176\n",
      "  warnings.warn(\n"
     ]
    },
    {
     "name": "stdout",
     "output_type": "stream",
     "text": [
      "Features extracted and saved to data/cleaned/TD10/1_1_features.txt\n"
     ]
    },
    {
     "name": "stderr",
     "output_type": "stream",
     "text": [
      "/home/mio/anaconda3/envs/tfvoice/lib/python3.10/site-packages/librosa/core/spectrum.py:266: UserWarning: n_fft=1024 is too large for input signal of length=988\n",
      "  warnings.warn(\n"
     ]
    },
    {
     "name": "stdout",
     "output_type": "stream",
     "text": [
      "Features extracted and saved to data/cleaned/TD10/1_2_features.txt\n"
     ]
    },
    {
     "name": "stderr",
     "output_type": "stream",
     "text": [
      "/home/mio/anaconda3/envs/tfvoice/lib/python3.10/site-packages/librosa/core/spectrum.py:266: UserWarning: n_fft=1024 is too large for input signal of length=890\n",
      "  warnings.warn(\n",
      "/home/mio/anaconda3/envs/tfvoice/lib/python3.10/site-packages/librosa/core/spectrum.py:266: UserWarning: n_fft=1024 is too large for input signal of length=223\n",
      "  warnings.warn(\n"
     ]
    },
    {
     "name": "stdout",
     "output_type": "stream",
     "text": [
      "Features extracted and saved to data/cleaned/TD7/1_1_features.txt\n",
      "Features extracted and saved to data/cleaned/TD7/1_2_features.txt\n"
     ]
    },
    {
     "name": "stderr",
     "output_type": "stream",
     "text": [
      "/home/mio/anaconda3/envs/tfvoice/lib/python3.10/site-packages/librosa/core/spectrum.py:266: UserWarning: n_fft=1024 is too large for input signal of length=523\n",
      "  warnings.warn(\n",
      "/home/mio/anaconda3/envs/tfvoice/lib/python3.10/site-packages/librosa/core/spectrum.py:266: UserWarning: n_fft=1024 is too large for input signal of length=262\n",
      "  warnings.warn(\n"
     ]
    },
    {
     "name": "stdout",
     "output_type": "stream",
     "text": [
      "Features extracted and saved to data/cleaned/TD7/1_3_features.txt\n",
      "Features extracted and saved to data/cleaned/TD21/1_5_features.txt\n"
     ]
    },
    {
     "name": "stderr",
     "output_type": "stream",
     "text": [
      "/home/mio/anaconda3/envs/tfvoice/lib/python3.10/site-packages/librosa/core/spectrum.py:266: UserWarning: n_fft=1024 is too large for input signal of length=883\n",
      "  warnings.warn(\n"
     ]
    },
    {
     "name": "stdout",
     "output_type": "stream",
     "text": [
      "Features extracted and saved to data/cleaned/TD21/1_1_features.txt\n"
     ]
    },
    {
     "name": "stderr",
     "output_type": "stream",
     "text": [
      "/home/mio/anaconda3/envs/tfvoice/lib/python3.10/site-packages/librosa/core/spectrum.py:266: UserWarning: n_fft=1024 is too large for input signal of length=727\n",
      "  warnings.warn(\n",
      "/home/mio/anaconda3/envs/tfvoice/lib/python3.10/site-packages/librosa/core/spectrum.py:266: UserWarning: n_fft=1024 is too large for input signal of length=364\n",
      "  warnings.warn(\n"
     ]
    },
    {
     "name": "stdout",
     "output_type": "stream",
     "text": [
      "Features extracted and saved to data/cleaned/TD21/1_7_features.txt\n"
     ]
    },
    {
     "name": "stderr",
     "output_type": "stream",
     "text": [
      "/home/mio/anaconda3/envs/tfvoice/lib/python3.10/site-packages/librosa/core/spectrum.py:266: UserWarning: n_fft=1024 is too large for input signal of length=861\n",
      "  warnings.warn(\n",
      "/home/mio/anaconda3/envs/tfvoice/lib/python3.10/site-packages/librosa/core/spectrum.py:266: UserWarning: n_fft=1024 is too large for input signal of length=431\n",
      "  warnings.warn(\n"
     ]
    },
    {
     "name": "stdout",
     "output_type": "stream",
     "text": [
      "Features extracted and saved to data/cleaned/TD21/1_8_features.txt\n"
     ]
    },
    {
     "name": "stderr",
     "output_type": "stream",
     "text": [
      "/home/mio/anaconda3/envs/tfvoice/lib/python3.10/site-packages/librosa/core/spectrum.py:266: UserWarning: n_fft=1024 is too large for input signal of length=173\n",
      "  warnings.warn(\n"
     ]
    },
    {
     "name": "stdout",
     "output_type": "stream",
     "text": [
      "Features extracted and saved to data/cleaned/TD21/1_2_features.txt\n"
     ]
    },
    {
     "name": "stderr",
     "output_type": "stream",
     "text": [
      "/home/mio/anaconda3/envs/tfvoice/lib/python3.10/site-packages/librosa/core/spectrum.py:266: UserWarning: n_fft=1024 is too large for input signal of length=878\n",
      "  warnings.warn(\n",
      "/home/mio/anaconda3/envs/tfvoice/lib/python3.10/site-packages/librosa/core/spectrum.py:266: UserWarning: n_fft=1024 is too large for input signal of length=439\n",
      "  warnings.warn(\n",
      "/home/mio/anaconda3/envs/tfvoice/lib/python3.10/site-packages/librosa/core/spectrum.py:266: UserWarning: n_fft=1024 is too large for input signal of length=220\n",
      "  warnings.warn(\n"
     ]
    },
    {
     "name": "stdout",
     "output_type": "stream",
     "text": [
      "Features extracted and saved to data/cleaned/TD21/2_3_features.txt\n"
     ]
    },
    {
     "name": "stderr",
     "output_type": "stream",
     "text": [
      "/home/mio/anaconda3/envs/tfvoice/lib/python3.10/site-packages/librosa/core/spectrum.py:266: UserWarning: n_fft=1024 is too large for input signal of length=1014\n",
      "  warnings.warn(\n"
     ]
    },
    {
     "name": "stdout",
     "output_type": "stream",
     "text": [
      "Features extracted and saved to data/cleaned/TD21/2_1_features.txt\n"
     ]
    },
    {
     "name": "stderr",
     "output_type": "stream",
     "text": [
      "/home/mio/anaconda3/envs/tfvoice/lib/python3.10/site-packages/librosa/core/spectrum.py:266: UserWarning: n_fft=1024 is too large for input signal of length=968\n",
      "  warnings.warn(\n",
      "/home/mio/anaconda3/envs/tfvoice/lib/python3.10/site-packages/librosa/core/spectrum.py:266: UserWarning: n_fft=1024 is too large for input signal of length=484\n",
      "  warnings.warn(\n"
     ]
    },
    {
     "name": "stdout",
     "output_type": "stream",
     "text": [
      "Features extracted and saved to data/cleaned/TD21/2_2_features.txt\n"
     ]
    },
    {
     "name": "stderr",
     "output_type": "stream",
     "text": [
      "/home/mio/anaconda3/envs/tfvoice/lib/python3.10/site-packages/librosa/core/spectrum.py:266: UserWarning: n_fft=1024 is too large for input signal of length=748\n",
      "  warnings.warn(\n",
      "/home/mio/anaconda3/envs/tfvoice/lib/python3.10/site-packages/librosa/core/spectrum.py:266: UserWarning: n_fft=1024 is too large for input signal of length=374\n",
      "  warnings.warn(\n"
     ]
    },
    {
     "name": "stdout",
     "output_type": "stream",
     "text": [
      "Features extracted and saved to data/cleaned/TD21/1_6_features.txt\n"
     ]
    },
    {
     "name": "stderr",
     "output_type": "stream",
     "text": [
      "/home/mio/anaconda3/envs/tfvoice/lib/python3.10/site-packages/librosa/core/spectrum.py:266: UserWarning: n_fft=1024 is too large for input signal of length=610\n",
      "  warnings.warn(\n",
      "/home/mio/anaconda3/envs/tfvoice/lib/python3.10/site-packages/librosa/core/spectrum.py:266: UserWarning: n_fft=1024 is too large for input signal of length=305\n",
      "  warnings.warn(\n"
     ]
    },
    {
     "name": "stdout",
     "output_type": "stream",
     "text": [
      "Features extracted and saved to data/cleaned/TD21/1_4_features.txt\n"
     ]
    },
    {
     "name": "stderr",
     "output_type": "stream",
     "text": [
      "/home/mio/anaconda3/envs/tfvoice/lib/python3.10/site-packages/librosa/core/spectrum.py:266: UserWarning: n_fft=1024 is too large for input signal of length=679\n",
      "  warnings.warn(\n"
     ]
    },
    {
     "name": "stdout",
     "output_type": "stream",
     "text": [
      "Features extracted and saved to data/cleaned/TD21/1_3_features.txt\n",
      "Features extracted and saved to data/cleaned/TD2/1_5_features.txt\n",
      "Features extracted and saved to data/cleaned/TD2/2_5_features.txt\n"
     ]
    },
    {
     "name": "stderr",
     "output_type": "stream",
     "text": [
      "/home/mio/anaconda3/envs/tfvoice/lib/python3.10/site-packages/librosa/core/spectrum.py:266: UserWarning: n_fft=1024 is too large for input signal of length=589\n",
      "  warnings.warn(\n"
     ]
    },
    {
     "name": "stdout",
     "output_type": "stream",
     "text": [
      "Features extracted and saved to data/cleaned/TD2/1_1_features.txt\n"
     ]
    },
    {
     "name": "stderr",
     "output_type": "stream",
     "text": [
      "/home/mio/anaconda3/envs/tfvoice/lib/python3.10/site-packages/librosa/core/spectrum.py:266: UserWarning: n_fft=1024 is too large for input signal of length=527\n",
      "  warnings.warn(\n",
      "/home/mio/anaconda3/envs/tfvoice/lib/python3.10/site-packages/librosa/core/spectrum.py:266: UserWarning: n_fft=1024 is too large for input signal of length=264\n",
      "  warnings.warn(\n"
     ]
    },
    {
     "name": "stdout",
     "output_type": "stream",
     "text": [
      "Features extracted and saved to data/cleaned/TD2/1_7_features.txt\n"
     ]
    },
    {
     "name": "stderr",
     "output_type": "stream",
     "text": [
      "/home/mio/anaconda3/envs/tfvoice/lib/python3.10/site-packages/librosa/core/spectrum.py:266: UserWarning: n_fft=1024 is too large for input signal of length=524\n",
      "  warnings.warn(\n"
     ]
    },
    {
     "name": "stdout",
     "output_type": "stream",
     "text": [
      "Features extracted and saved to data/cleaned/TD2/2_4_features.txt\n",
      "Features extracted and saved to data/cleaned/TD2/1_2_features.txt\n"
     ]
    },
    {
     "name": "stderr",
     "output_type": "stream",
     "text": [
      "/home/mio/anaconda3/envs/tfvoice/lib/python3.10/site-packages/librosa/core/spectrum.py:266: UserWarning: n_fft=1024 is too large for input signal of length=882\n",
      "  warnings.warn(\n",
      "/home/mio/anaconda3/envs/tfvoice/lib/python3.10/site-packages/librosa/core/spectrum.py:266: UserWarning: n_fft=1024 is too large for input signal of length=441\n",
      "  warnings.warn(\n"
     ]
    },
    {
     "name": "stdout",
     "output_type": "stream",
     "text": [
      "Features extracted and saved to data/cleaned/TD2/2_3_features.txt\n",
      "Features extracted and saved to data/cleaned/TD2/2_1_features.txt\n"
     ]
    },
    {
     "name": "stderr",
     "output_type": "stream",
     "text": [
      "/home/mio/anaconda3/envs/tfvoice/lib/python3.10/site-packages/librosa/core/spectrum.py:266: UserWarning: n_fft=1024 is too large for input signal of length=752\n",
      "  warnings.warn(\n"
     ]
    },
    {
     "name": "stdout",
     "output_type": "stream",
     "text": [
      "Features extracted and saved to data/cleaned/TD2/2_2_features.txt\n"
     ]
    },
    {
     "name": "stderr",
     "output_type": "stream",
     "text": [
      "/home/mio/anaconda3/envs/tfvoice/lib/python3.10/site-packages/librosa/core/spectrum.py:266: UserWarning: n_fft=1024 is too large for input signal of length=689\n",
      "  warnings.warn(\n",
      "/home/mio/anaconda3/envs/tfvoice/lib/python3.10/site-packages/librosa/core/spectrum.py:266: UserWarning: n_fft=1024 is too large for input signal of length=345\n",
      "  warnings.warn(\n"
     ]
    },
    {
     "name": "stdout",
     "output_type": "stream",
     "text": [
      "Features extracted and saved to data/cleaned/TD2/1_6_features.txt\n",
      "Features extracted and saved to data/cleaned/TD2/1_4_features.txt\n"
     ]
    },
    {
     "name": "stderr",
     "output_type": "stream",
     "text": [
      "/home/mio/anaconda3/envs/tfvoice/lib/python3.10/site-packages/librosa/core/spectrum.py:266: UserWarning: n_fft=1024 is too large for input signal of length=855\n",
      "  warnings.warn(\n",
      "/home/mio/anaconda3/envs/tfvoice/lib/python3.10/site-packages/librosa/core/spectrum.py:266: UserWarning: n_fft=1024 is too large for input signal of length=428\n",
      "  warnings.warn(\n"
     ]
    },
    {
     "name": "stdout",
     "output_type": "stream",
     "text": [
      "Features extracted and saved to data/cleaned/TD2/1_3_features.txt\n"
     ]
    },
    {
     "name": "stderr",
     "output_type": "stream",
     "text": [
      "/home/mio/anaconda3/envs/tfvoice/lib/python3.10/site-packages/librosa/core/spectrum.py:266: UserWarning: n_fft=1024 is too large for input signal of length=633\n",
      "  warnings.warn(\n",
      "/home/mio/anaconda3/envs/tfvoice/lib/python3.10/site-packages/librosa/core/spectrum.py:266: UserWarning: n_fft=1024 is too large for input signal of length=317\n",
      "  warnings.warn(\n",
      "/home/mio/anaconda3/envs/tfvoice/lib/python3.10/site-packages/librosa/core/spectrum.py:266: UserWarning: n_fft=1024 is too large for input signal of length=159\n",
      "  warnings.warn(\n"
     ]
    },
    {
     "name": "stdout",
     "output_type": "stream",
     "text": [
      "Features extracted and saved to data/cleaned/ASD2/7_1_features.txt\n",
      "Features extracted and saved to data/cleaned/ASD2/6_1_features.txt\n"
     ]
    },
    {
     "name": "stderr",
     "output_type": "stream",
     "text": [
      "/home/mio/anaconda3/envs/tfvoice/lib/python3.10/site-packages/librosa/core/spectrum.py:266: UserWarning: n_fft=1024 is too large for input signal of length=630\n",
      "  warnings.warn(\n"
     ]
    },
    {
     "name": "stdout",
     "output_type": "stream",
     "text": [
      "Features extracted and saved to data/cleaned/ASD2/5_1_features.txt\n"
     ]
    },
    {
     "name": "stderr",
     "output_type": "stream",
     "text": [
      "/home/mio/anaconda3/envs/tfvoice/lib/python3.10/site-packages/librosa/core/spectrum.py:266: UserWarning: n_fft=1024 is too large for input signal of length=529\n",
      "  warnings.warn(\n"
     ]
    },
    {
     "name": "stdout",
     "output_type": "stream",
     "text": [
      "Features extracted and saved to data/cleaned/ASD26/1_5_features.txt\n",
      "Features extracted and saved to data/cleaned/ASD26/1_1_features.txt\n"
     ]
    },
    {
     "name": "stderr",
     "output_type": "stream",
     "text": [
      "/home/mio/anaconda3/envs/tfvoice/lib/python3.10/site-packages/librosa/core/spectrum.py:266: UserWarning: n_fft=1024 is too large for input signal of length=771\n",
      "  warnings.warn(\n",
      "/home/mio/anaconda3/envs/tfvoice/lib/python3.10/site-packages/librosa/core/spectrum.py:266: UserWarning: n_fft=1024 is too large for input signal of length=386\n",
      "  warnings.warn(\n",
      "/home/mio/anaconda3/envs/tfvoice/lib/python3.10/site-packages/librosa/core/spectrum.py:266: UserWarning: n_fft=1024 is too large for input signal of length=193\n",
      "  warnings.warn(\n",
      "/home/mio/anaconda3/envs/tfvoice/lib/python3.10/site-packages/librosa/core/spectrum.py:266: UserWarning: n_fft=1024 is too large for input signal of length=97\n",
      "  warnings.warn(\n"
     ]
    },
    {
     "name": "stdout",
     "output_type": "stream",
     "text": [
      "Features extracted and saved to data/cleaned/ASD26/1_2_features.txt\n"
     ]
    },
    {
     "name": "stderr",
     "output_type": "stream",
     "text": [
      "/home/mio/anaconda3/envs/tfvoice/lib/python3.10/site-packages/librosa/core/spectrum.py:266: UserWarning: n_fft=1024 is too large for input signal of length=372\n",
      "  warnings.warn(\n",
      "/home/mio/anaconda3/envs/tfvoice/lib/python3.10/site-packages/librosa/core/spectrum.py:266: UserWarning: n_fft=1024 is too large for input signal of length=186\n",
      "  warnings.warn(\n"
     ]
    },
    {
     "name": "stdout",
     "output_type": "stream",
     "text": [
      "Features extracted and saved to data/cleaned/ASD26/1_4_features.txt\n"
     ]
    },
    {
     "name": "stderr",
     "output_type": "stream",
     "text": [
      "/home/mio/anaconda3/envs/tfvoice/lib/python3.10/site-packages/librosa/core/spectrum.py:266: UserWarning: n_fft=1024 is too large for input signal of length=761\n",
      "  warnings.warn(\n"
     ]
    },
    {
     "name": "stdout",
     "output_type": "stream",
     "text": [
      "Features extracted and saved to data/cleaned/ASD26/1_3_features.txt\n"
     ]
    },
    {
     "name": "stderr",
     "output_type": "stream",
     "text": [
      "/home/mio/anaconda3/envs/tfvoice/lib/python3.10/site-packages/librosa/core/spectrum.py:266: UserWarning: n_fft=1024 is too large for input signal of length=900\n",
      "  warnings.warn(\n",
      "/home/mio/anaconda3/envs/tfvoice/lib/python3.10/site-packages/librosa/core/spectrum.py:266: UserWarning: n_fft=1024 is too large for input signal of length=450\n",
      "  warnings.warn(\n",
      "/home/mio/anaconda3/envs/tfvoice/lib/python3.10/site-packages/librosa/core/spectrum.py:266: UserWarning: n_fft=1024 is too large for input signal of length=225\n",
      "  warnings.warn(\n"
     ]
    },
    {
     "name": "stdout",
     "output_type": "stream",
     "text": [
      "Features extracted and saved to data/cleaned/ASD28/1_1_features.txt\n"
     ]
    },
    {
     "name": "stderr",
     "output_type": "stream",
     "text": [
      "/home/mio/anaconda3/envs/tfvoice/lib/python3.10/site-packages/librosa/core/spectrum.py:266: UserWarning: n_fft=1024 is too large for input signal of length=834\n",
      "  warnings.warn(\n",
      "/home/mio/anaconda3/envs/tfvoice/lib/python3.10/site-packages/librosa/core/spectrum.py:266: UserWarning: n_fft=1024 is too large for input signal of length=417\n",
      "  warnings.warn(\n"
     ]
    },
    {
     "name": "stdout",
     "output_type": "stream",
     "text": [
      "Features extracted and saved to data/cleaned/ASD28/1_3_features.txt\n",
      "Features extracted and saved to data/cleaned/ASD16/3_1_features.txt\n"
     ]
    },
    {
     "name": "stderr",
     "output_type": "stream",
     "text": [
      "/home/mio/anaconda3/envs/tfvoice/lib/python3.10/site-packages/librosa/core/spectrum.py:266: UserWarning: n_fft=1024 is too large for input signal of length=680\n",
      "  warnings.warn(\n",
      "/home/mio/anaconda3/envs/tfvoice/lib/python3.10/site-packages/librosa/core/spectrum.py:266: UserWarning: n_fft=1024 is too large for input signal of length=340\n",
      "  warnings.warn(\n"
     ]
    },
    {
     "name": "stdout",
     "output_type": "stream",
     "text": [
      "Features extracted and saved to data/cleaned/ASD16/3_2_features.txt\n",
      "Features extracted and saved to data/cleaned/TD18/1_5_features.txt\n"
     ]
    },
    {
     "name": "stderr",
     "output_type": "stream",
     "text": [
      "/home/mio/anaconda3/envs/tfvoice/lib/python3.10/site-packages/librosa/core/spectrum.py:266: UserWarning: n_fft=1024 is too large for input signal of length=952\n",
      "  warnings.warn(\n"
     ]
    },
    {
     "name": "stdout",
     "output_type": "stream",
     "text": [
      "Features extracted and saved to data/cleaned/TD18/1_1_features.txt\n"
     ]
    },
    {
     "name": "stderr",
     "output_type": "stream",
     "text": [
      "/home/mio/anaconda3/envs/tfvoice/lib/python3.10/site-packages/librosa/core/spectrum.py:266: UserWarning: n_fft=1024 is too large for input signal of length=622\n",
      "  warnings.warn(\n",
      "/home/mio/anaconda3/envs/tfvoice/lib/python3.10/site-packages/librosa/core/spectrum.py:266: UserWarning: n_fft=1024 is too large for input signal of length=311\n",
      "  warnings.warn(\n",
      "/home/mio/anaconda3/envs/tfvoice/lib/python3.10/site-packages/librosa/core/spectrum.py:266: UserWarning: n_fft=1024 is too large for input signal of length=156\n",
      "  warnings.warn(\n"
     ]
    },
    {
     "name": "stdout",
     "output_type": "stream",
     "text": [
      "Features extracted and saved to data/cleaned/TD18/1_2_features.txt\n"
     ]
    },
    {
     "name": "stderr",
     "output_type": "stream",
     "text": [
      "/home/mio/anaconda3/envs/tfvoice/lib/python3.10/site-packages/librosa/core/spectrum.py:266: UserWarning: n_fft=1024 is too large for input signal of length=556\n",
      "  warnings.warn(\n",
      "/home/mio/anaconda3/envs/tfvoice/lib/python3.10/site-packages/librosa/core/spectrum.py:266: UserWarning: n_fft=1024 is too large for input signal of length=278\n",
      "  warnings.warn(\n"
     ]
    },
    {
     "name": "stdout",
     "output_type": "stream",
     "text": [
      "Features extracted and saved to data/cleaned/TD18/1_6_features.txt\n"
     ]
    },
    {
     "name": "stderr",
     "output_type": "stream",
     "text": [
      "/home/mio/anaconda3/envs/tfvoice/lib/python3.10/site-packages/librosa/core/spectrum.py:266: UserWarning: n_fft=1024 is too large for input signal of length=735\n",
      "  warnings.warn(\n",
      "/home/mio/anaconda3/envs/tfvoice/lib/python3.10/site-packages/librosa/core/spectrum.py:266: UserWarning: n_fft=1024 is too large for input signal of length=368\n",
      "  warnings.warn(\n",
      "/home/mio/anaconda3/envs/tfvoice/lib/python3.10/site-packages/librosa/core/spectrum.py:266: UserWarning: n_fft=1024 is too large for input signal of length=184\n",
      "  warnings.warn(\n"
     ]
    },
    {
     "name": "stdout",
     "output_type": "stream",
     "text": [
      "Features extracted and saved to data/cleaned/TD18/1_4_features.txt\n"
     ]
    },
    {
     "name": "stderr",
     "output_type": "stream",
     "text": [
      "/home/mio/anaconda3/envs/tfvoice/lib/python3.10/site-packages/librosa/core/spectrum.py:266: UserWarning: n_fft=1024 is too large for input signal of length=738\n",
      "  warnings.warn(\n"
     ]
    },
    {
     "name": "stdout",
     "output_type": "stream",
     "text": [
      "Features extracted and saved to data/cleaned/TD18/1_3_features.txt\n"
     ]
    },
    {
     "name": "stderr",
     "output_type": "stream",
     "text": [
      "/home/mio/anaconda3/envs/tfvoice/lib/python3.10/site-packages/librosa/core/spectrum.py:266: UserWarning: n_fft=1024 is too large for input signal of length=534\n",
      "  warnings.warn(\n",
      "/home/mio/anaconda3/envs/tfvoice/lib/python3.10/site-packages/librosa/core/spectrum.py:266: UserWarning: n_fft=1024 is too large for input signal of length=267\n",
      "  warnings.warn(\n"
     ]
    },
    {
     "name": "stdout",
     "output_type": "stream",
     "text": [
      "Features extracted and saved to data/cleaned/ASD6/1_1_features.txt\n"
     ]
    },
    {
     "name": "stderr",
     "output_type": "stream",
     "text": [
      "/home/mio/anaconda3/envs/tfvoice/lib/python3.10/site-packages/librosa/core/spectrum.py:266: UserWarning: n_fft=1024 is too large for input signal of length=287\n",
      "  warnings.warn(\n",
      "/home/mio/anaconda3/envs/tfvoice/lib/python3.10/site-packages/librosa/core/spectrum.py:266: UserWarning: n_fft=1024 is too large for input signal of length=144\n",
      "  warnings.warn(\n"
     ]
    },
    {
     "name": "stdout",
     "output_type": "stream",
     "text": [
      "Features extracted and saved to data/cleaned/ASD6/1_2_features.txt\n"
     ]
    },
    {
     "name": "stderr",
     "output_type": "stream",
     "text": [
      "/home/mio/anaconda3/envs/tfvoice/lib/python3.10/site-packages/librosa/core/spectrum.py:266: UserWarning: n_fft=1024 is too large for input signal of length=1020\n",
      "  warnings.warn(\n",
      "/home/mio/anaconda3/envs/tfvoice/lib/python3.10/site-packages/librosa/core/spectrum.py:266: UserWarning: n_fft=1024 is too large for input signal of length=510\n",
      "  warnings.warn(\n",
      "/home/mio/anaconda3/envs/tfvoice/lib/python3.10/site-packages/librosa/core/spectrum.py:266: UserWarning: n_fft=1024 is too large for input signal of length=128\n",
      "  warnings.warn(\n"
     ]
    },
    {
     "name": "stdout",
     "output_type": "stream",
     "text": [
      "Features extracted and saved to data/cleaned/ASD6/2_1_features.txt\n"
     ]
    },
    {
     "name": "stderr",
     "output_type": "stream",
     "text": [
      "/home/mio/anaconda3/envs/tfvoice/lib/python3.10/site-packages/librosa/core/spectrum.py:266: UserWarning: n_fft=1024 is too large for input signal of length=512\n",
      "  warnings.warn(\n",
      "/home/mio/anaconda3/envs/tfvoice/lib/python3.10/site-packages/librosa/core/spectrum.py:266: UserWarning: n_fft=1024 is too large for input signal of length=256\n",
      "  warnings.warn(\n"
     ]
    },
    {
     "name": "stdout",
     "output_type": "stream",
     "text": [
      "Features extracted and saved to data/cleaned/ASD6/1_3_features.txt\n"
     ]
    },
    {
     "name": "stderr",
     "output_type": "stream",
     "text": [
      "/home/mio/anaconda3/envs/tfvoice/lib/python3.10/site-packages/librosa/core/spectrum.py:266: UserWarning: n_fft=1024 is too large for input signal of length=522\n",
      "  warnings.warn(\n",
      "/home/mio/anaconda3/envs/tfvoice/lib/python3.10/site-packages/librosa/core/spectrum.py:266: UserWarning: n_fft=1024 is too large for input signal of length=131\n",
      "  warnings.warn(\n"
     ]
    },
    {
     "name": "stdout",
     "output_type": "stream",
     "text": [
      "Features extracted and saved to data/cleaned/TD31/1_1_features.txt\n"
     ]
    },
    {
     "name": "stderr",
     "output_type": "stream",
     "text": [
      "/home/mio/anaconda3/envs/tfvoice/lib/python3.10/site-packages/librosa/core/spectrum.py:266: UserWarning: n_fft=1024 is too large for input signal of length=442\n",
      "  warnings.warn(\n",
      "/home/mio/anaconda3/envs/tfvoice/lib/python3.10/site-packages/librosa/core/spectrum.py:266: UserWarning: n_fft=1024 is too large for input signal of length=221\n",
      "  warnings.warn(\n",
      "/home/mio/anaconda3/envs/tfvoice/lib/python3.10/site-packages/librosa/core/spectrum.py:266: UserWarning: n_fft=1024 is too large for input signal of length=111\n",
      "  warnings.warn(\n"
     ]
    },
    {
     "name": "stdout",
     "output_type": "stream",
     "text": [
      "Features extracted and saved to data/cleaned/TD31/2_1_features.txt\n"
     ]
    },
    {
     "name": "stderr",
     "output_type": "stream",
     "text": [
      "/home/mio/anaconda3/envs/tfvoice/lib/python3.10/site-packages/librosa/core/spectrum.py:266: UserWarning: n_fft=1024 is too large for input signal of length=872\n",
      "  warnings.warn(\n",
      "/home/mio/anaconda3/envs/tfvoice/lib/python3.10/site-packages/librosa/core/spectrum.py:266: UserWarning: n_fft=1024 is too large for input signal of length=436\n",
      "  warnings.warn(\n"
     ]
    },
    {
     "name": "stdout",
     "output_type": "stream",
     "text": [
      "Features extracted and saved to data/cleaned/ASD20/30_1_features.txt\n"
     ]
    },
    {
     "name": "stderr",
     "output_type": "stream",
     "text": [
      "/home/mio/anaconda3/envs/tfvoice/lib/python3.10/site-packages/librosa/core/spectrum.py:266: UserWarning: n_fft=1024 is too large for input signal of length=812\n",
      "  warnings.warn(\n",
      "/home/mio/anaconda3/envs/tfvoice/lib/python3.10/site-packages/librosa/core/spectrum.py:266: UserWarning: n_fft=1024 is too large for input signal of length=406\n",
      "  warnings.warn(\n"
     ]
    },
    {
     "name": "stdout",
     "output_type": "stream",
     "text": [
      "Features extracted and saved to data/cleaned/ASD20/22_1_features.txt\n"
     ]
    },
    {
     "name": "stderr",
     "output_type": "stream",
     "text": [
      "/home/mio/anaconda3/envs/tfvoice/lib/python3.10/site-packages/librosa/core/spectrum.py:266: UserWarning: n_fft=1024 is too large for input signal of length=850\n",
      "  warnings.warn(\n",
      "/home/mio/anaconda3/envs/tfvoice/lib/python3.10/site-packages/librosa/core/spectrum.py:266: UserWarning: n_fft=1024 is too large for input signal of length=425\n",
      "  warnings.warn(\n",
      "/home/mio/anaconda3/envs/tfvoice/lib/python3.10/site-packages/librosa/core/spectrum.py:266: UserWarning: n_fft=1024 is too large for input signal of length=213\n",
      "  warnings.warn(\n"
     ]
    },
    {
     "name": "stdout",
     "output_type": "stream",
     "text": [
      "Features extracted and saved to data/cleaned/ASD20/21_1_features.txt\n",
      "Features extracted and saved to data/cleaned/ASD20/15_5_features.txt\n"
     ]
    },
    {
     "name": "stderr",
     "output_type": "stream",
     "text": [
      "/home/mio/anaconda3/envs/tfvoice/lib/python3.10/site-packages/librosa/core/spectrum.py:266: UserWarning: n_fft=1024 is too large for input signal of length=1021\n",
      "  warnings.warn(\n",
      "/home/mio/anaconda3/envs/tfvoice/lib/python3.10/site-packages/librosa/core/spectrum.py:266: UserWarning: n_fft=1024 is too large for input signal of length=511\n",
      "  warnings.warn(\n"
     ]
    },
    {
     "name": "stdout",
     "output_type": "stream",
     "text": [
      "Features extracted and saved to data/cleaned/ASD20/12_13_features.txt\n"
     ]
    },
    {
     "name": "stderr",
     "output_type": "stream",
     "text": [
      "/home/mio/anaconda3/envs/tfvoice/lib/python3.10/site-packages/librosa/core/spectrum.py:266: UserWarning: n_fft=1024 is too large for input signal of length=791\n",
      "  warnings.warn(\n",
      "/home/mio/anaconda3/envs/tfvoice/lib/python3.10/site-packages/librosa/core/spectrum.py:266: UserWarning: n_fft=1024 is too large for input signal of length=396\n",
      "  warnings.warn(\n"
     ]
    },
    {
     "name": "stdout",
     "output_type": "stream",
     "text": [
      "Features extracted and saved to data/cleaned/ASD20/12_11_features.txt\n"
     ]
    },
    {
     "name": "stderr",
     "output_type": "stream",
     "text": [
      "/home/mio/anaconda3/envs/tfvoice/lib/python3.10/site-packages/librosa/core/spectrum.py:266: UserWarning: n_fft=1024 is too large for input signal of length=619\n",
      "  warnings.warn(\n",
      "/home/mio/anaconda3/envs/tfvoice/lib/python3.10/site-packages/librosa/core/spectrum.py:266: UserWarning: n_fft=1024 is too large for input signal of length=310\n",
      "  warnings.warn(\n"
     ]
    },
    {
     "name": "stdout",
     "output_type": "stream",
     "text": [
      "Features extracted and saved to data/cleaned/ASD20/24_1_features.txt\n"
     ]
    },
    {
     "name": "stderr",
     "output_type": "stream",
     "text": [
      "/home/mio/anaconda3/envs/tfvoice/lib/python3.10/site-packages/librosa/core/spectrum.py:266: UserWarning: n_fft=1024 is too large for input signal of length=565\n",
      "  warnings.warn(\n",
      "/home/mio/anaconda3/envs/tfvoice/lib/python3.10/site-packages/librosa/core/spectrum.py:266: UserWarning: n_fft=1024 is too large for input signal of length=283\n",
      "  warnings.warn(\n",
      "/home/mio/anaconda3/envs/tfvoice/lib/python3.10/site-packages/librosa/core/spectrum.py:266: UserWarning: n_fft=1024 is too large for input signal of length=142\n",
      "  warnings.warn(\n"
     ]
    },
    {
     "name": "stdout",
     "output_type": "stream",
     "text": [
      "Features extracted and saved to data/cleaned/ASD20/17_9_features.txt\n"
     ]
    },
    {
     "name": "stderr",
     "output_type": "stream",
     "text": [
      "/home/mio/anaconda3/envs/tfvoice/lib/python3.10/site-packages/librosa/core/spectrum.py:266: UserWarning: n_fft=1024 is too large for input signal of length=563\n",
      "  warnings.warn(\n"
     ]
    },
    {
     "name": "stdout",
     "output_type": "stream",
     "text": [
      "Features extracted and saved to data/cleaned/ASD20/17_7_features.txt\n"
     ]
    },
    {
     "name": "stderr",
     "output_type": "stream",
     "text": [
      "/home/mio/anaconda3/envs/tfvoice/lib/python3.10/site-packages/librosa/core/spectrum.py:266: UserWarning: n_fft=1024 is too large for input signal of length=668\n",
      "  warnings.warn(\n"
     ]
    },
    {
     "name": "stdout",
     "output_type": "stream",
     "text": [
      "Features extracted and saved to data/cleaned/ASD20/14_2_features.txt\n"
     ]
    },
    {
     "name": "stderr",
     "output_type": "stream",
     "text": [
      "/home/mio/anaconda3/envs/tfvoice/lib/python3.10/site-packages/librosa/core/spectrum.py:266: UserWarning: n_fft=1024 is too large for input signal of length=593\n",
      "  warnings.warn(\n",
      "/home/mio/anaconda3/envs/tfvoice/lib/python3.10/site-packages/librosa/core/spectrum.py:266: UserWarning: n_fft=1024 is too large for input signal of length=297\n",
      "  warnings.warn(\n"
     ]
    },
    {
     "name": "stdout",
     "output_type": "stream",
     "text": [
      "Features extracted and saved to data/cleaned/ASD20/14_11_features.txt\n"
     ]
    },
    {
     "name": "stderr",
     "output_type": "stream",
     "text": [
      "/home/mio/anaconda3/envs/tfvoice/lib/python3.10/site-packages/librosa/core/spectrum.py:266: UserWarning: n_fft=1024 is too large for input signal of length=704\n",
      "  warnings.warn(\n",
      "/home/mio/anaconda3/envs/tfvoice/lib/python3.10/site-packages/librosa/core/spectrum.py:266: UserWarning: n_fft=1024 is too large for input signal of length=352\n",
      "  warnings.warn(\n"
     ]
    },
    {
     "name": "stdout",
     "output_type": "stream",
     "text": [
      "Features extracted and saved to data/cleaned/ASD20/14_1_features.txt\n"
     ]
    },
    {
     "name": "stderr",
     "output_type": "stream",
     "text": [
      "/home/mio/anaconda3/envs/tfvoice/lib/python3.10/site-packages/librosa/core/spectrum.py:266: UserWarning: n_fft=1024 is too large for input signal of length=570\n",
      "  warnings.warn(\n",
      "/home/mio/anaconda3/envs/tfvoice/lib/python3.10/site-packages/librosa/core/spectrum.py:266: UserWarning: n_fft=1024 is too large for input signal of length=285\n",
      "  warnings.warn(\n",
      "/home/mio/anaconda3/envs/tfvoice/lib/python3.10/site-packages/librosa/core/spectrum.py:266: UserWarning: n_fft=1024 is too large for input signal of length=143\n",
      "  warnings.warn(\n"
     ]
    },
    {
     "name": "stdout",
     "output_type": "stream",
     "text": [
      "Features extracted and saved to data/cleaned/ASD20/14_5_features.txt\n"
     ]
    },
    {
     "name": "stderr",
     "output_type": "stream",
     "text": [
      "/home/mio/anaconda3/envs/tfvoice/lib/python3.10/site-packages/librosa/core/spectrum.py:266: UserWarning: n_fft=1024 is too large for input signal of length=1022\n",
      "  warnings.warn(\n"
     ]
    },
    {
     "name": "stdout",
     "output_type": "stream",
     "text": [
      "Features extracted and saved to data/cleaned/ASD20/14_3_features.txt\n"
     ]
    },
    {
     "name": "stderr",
     "output_type": "stream",
     "text": [
      "/home/mio/anaconda3/envs/tfvoice/lib/python3.10/site-packages/librosa/core/spectrum.py:266: UserWarning: n_fft=1024 is too large for input signal of length=801\n",
      "  warnings.warn(\n"
     ]
    },
    {
     "name": "stdout",
     "output_type": "stream",
     "text": [
      "Features extracted and saved to data/cleaned/ASD20/14_7_features.txt\n"
     ]
    },
    {
     "name": "stderr",
     "output_type": "stream",
     "text": [
      "/home/mio/anaconda3/envs/tfvoice/lib/python3.10/site-packages/librosa/core/spectrum.py:266: UserWarning: n_fft=1024 is too large for input signal of length=528\n",
      "  warnings.warn(\n"
     ]
    },
    {
     "name": "stdout",
     "output_type": "stream",
     "text": [
      "Features extracted and saved to data/cleaned/ASD20/13_3_features.txt\n"
     ]
    },
    {
     "name": "stderr",
     "output_type": "stream",
     "text": [
      "/home/mio/anaconda3/envs/tfvoice/lib/python3.10/site-packages/librosa/core/spectrum.py:266: UserWarning: n_fft=1024 is too large for input signal of length=596\n",
      "  warnings.warn(\n",
      "/home/mio/anaconda3/envs/tfvoice/lib/python3.10/site-packages/librosa/core/spectrum.py:266: UserWarning: n_fft=1024 is too large for input signal of length=298\n",
      "  warnings.warn(\n"
     ]
    },
    {
     "name": "stdout",
     "output_type": "stream",
     "text": [
      "Features extracted and saved to data/cleaned/ASD20/25_2_features.txt\n",
      "Features extracted and saved to data/cleaned/ASD20/17_11_features.txt\n",
      "Features extracted and saved to data/cleaned/ASD20/14_9_features.txt\n"
     ]
    },
    {
     "name": "stderr",
     "output_type": "stream",
     "text": [
      "/home/mio/anaconda3/envs/tfvoice/lib/python3.10/site-packages/librosa/core/spectrum.py:266: UserWarning: n_fft=1024 is too large for input signal of length=715\n",
      "  warnings.warn(\n",
      "/home/mio/anaconda3/envs/tfvoice/lib/python3.10/site-packages/librosa/core/spectrum.py:266: UserWarning: n_fft=1024 is too large for input signal of length=358\n",
      "  warnings.warn(\n"
     ]
    },
    {
     "name": "stdout",
     "output_type": "stream",
     "text": [
      "Features extracted and saved to data/cleaned/TD4/1_5_features.txt\n"
     ]
    },
    {
     "name": "stderr",
     "output_type": "stream",
     "text": [
      "/home/mio/anaconda3/envs/tfvoice/lib/python3.10/site-packages/librosa/core/spectrum.py:266: UserWarning: n_fft=1024 is too large for input signal of length=612\n",
      "  warnings.warn(\n",
      "/home/mio/anaconda3/envs/tfvoice/lib/python3.10/site-packages/librosa/core/spectrum.py:266: UserWarning: n_fft=1024 is too large for input signal of length=306\n",
      "  warnings.warn(\n"
     ]
    },
    {
     "name": "stdout",
     "output_type": "stream",
     "text": [
      "Features extracted and saved to data/cleaned/TD4/1_1_features.txt\n",
      "Features extracted and saved to data/cleaned/TD4/1_2_features.txt\n",
      "Features extracted and saved to data/cleaned/TD4/1_6_features.txt\n",
      "Features extracted and saved to data/cleaned/TD4/1_4_features.txt\n"
     ]
    },
    {
     "name": "stderr",
     "output_type": "stream",
     "text": [
      "/home/mio/anaconda3/envs/tfvoice/lib/python3.10/site-packages/librosa/core/spectrum.py:266: UserWarning: n_fft=1024 is too large for input signal of length=657\n",
      "  warnings.warn(\n"
     ]
    },
    {
     "name": "stdout",
     "output_type": "stream",
     "text": [
      "Features extracted and saved to data/cleaned/TD4/1_3_features.txt\n"
     ]
    },
    {
     "name": "stderr",
     "output_type": "stream",
     "text": [
      "/home/mio/anaconda3/envs/tfvoice/lib/python3.10/site-packages/librosa/core/spectrum.py:266: UserWarning: n_fft=1024 is too large for input signal of length=978\n",
      "  warnings.warn(\n",
      "/home/mio/anaconda3/envs/tfvoice/lib/python3.10/site-packages/librosa/core/spectrum.py:266: UserWarning: n_fft=1024 is too large for input signal of length=489\n",
      "  warnings.warn(\n"
     ]
    },
    {
     "name": "stdout",
     "output_type": "stream",
     "text": [
      "Features extracted and saved to data/cleaned/ASD8/1_1_features.txt\n"
     ]
    },
    {
     "name": "stderr",
     "output_type": "stream",
     "text": [
      "/home/mio/anaconda3/envs/tfvoice/lib/python3.10/site-packages/librosa/core/spectrum.py:266: UserWarning: n_fft=1024 is too large for input signal of length=243\n",
      "  warnings.warn(\n"
     ]
    },
    {
     "name": "stdout",
     "output_type": "stream",
     "text": [
      "Features extracted and saved to data/cleaned/ASD8/1_2_features.txt\n"
     ]
    },
    {
     "name": "stderr",
     "output_type": "stream",
     "text": [
      "/home/mio/anaconda3/envs/tfvoice/lib/python3.10/site-packages/librosa/core/spectrum.py:266: UserWarning: n_fft=1024 is too large for input signal of length=675\n",
      "  warnings.warn(\n",
      "/home/mio/anaconda3/envs/tfvoice/lib/python3.10/site-packages/librosa/core/spectrum.py:266: UserWarning: n_fft=1024 is too large for input signal of length=338\n",
      "  warnings.warn(\n"
     ]
    },
    {
     "name": "stdout",
     "output_type": "stream",
     "text": [
      "Features extracted and saved to data/cleaned/ASD11/3_7_features.txt\n"
     ]
    },
    {
     "name": "stderr",
     "output_type": "stream",
     "text": [
      "/home/mio/anaconda3/envs/tfvoice/lib/python3.10/site-packages/librosa/core/spectrum.py:266: UserWarning: n_fft=1024 is too large for input signal of length=945\n",
      "  warnings.warn(\n",
      "/home/mio/anaconda3/envs/tfvoice/lib/python3.10/site-packages/librosa/core/spectrum.py:266: UserWarning: n_fft=1024 is too large for input signal of length=473\n",
      "  warnings.warn(\n"
     ]
    },
    {
     "name": "stdout",
     "output_type": "stream",
     "text": [
      "Features extracted and saved to data/cleaned/ASD11/6_1_features.txt\n"
     ]
    },
    {
     "name": "stderr",
     "output_type": "stream",
     "text": [
      "/home/mio/anaconda3/envs/tfvoice/lib/python3.10/site-packages/librosa/core/spectrum.py:266: UserWarning: n_fft=1024 is too large for input signal of length=613\n",
      "  warnings.warn(\n"
     ]
    },
    {
     "name": "stdout",
     "output_type": "stream",
     "text": [
      "Features extracted and saved to data/cleaned/ASD11/3_5_features.txt\n",
      "Features extracted and saved to data/cleaned/ASD11/1_1_features.txt\n"
     ]
    },
    {
     "name": "stderr",
     "output_type": "stream",
     "text": [
      "/home/mio/anaconda3/envs/tfvoice/lib/python3.10/site-packages/librosa/core/spectrum.py:266: UserWarning: n_fft=1024 is too large for input signal of length=549\n",
      "  warnings.warn(\n",
      "/home/mio/anaconda3/envs/tfvoice/lib/python3.10/site-packages/librosa/core/spectrum.py:266: UserWarning: n_fft=1024 is too large for input signal of length=275\n",
      "  warnings.warn(\n",
      "/home/mio/anaconda3/envs/tfvoice/lib/python3.10/site-packages/librosa/core/spectrum.py:266: UserWarning: n_fft=1024 is too large for input signal of length=138\n",
      "  warnings.warn(\n"
     ]
    },
    {
     "name": "stdout",
     "output_type": "stream",
     "text": [
      "Features extracted and saved to data/cleaned/ASD11/4_1_features.txt\n",
      "Features extracted and saved to data/cleaned/ASD11/3_1_features.txt\n",
      "Features extracted and saved to data/cleaned/ASD11/5_1_features.txt\n"
     ]
    },
    {
     "name": "stderr",
     "output_type": "stream",
     "text": [
      "/home/mio/anaconda3/envs/tfvoice/lib/python3.10/site-packages/librosa/core/spectrum.py:266: UserWarning: n_fft=1024 is too large for input signal of length=550\n",
      "  warnings.warn(\n"
     ]
    },
    {
     "name": "stdout",
     "output_type": "stream",
     "text": [
      "Features extracted and saved to data/cleaned/ASD11/3_6_features.txt\n",
      "Features extracted and saved to data/cleaned/ASD11/3_4_features.txt\n"
     ]
    },
    {
     "name": "stderr",
     "output_type": "stream",
     "text": [
      "/home/mio/anaconda3/envs/tfvoice/lib/python3.10/site-packages/librosa/core/spectrum.py:266: UserWarning: n_fft=1024 is too large for input signal of length=583\n",
      "  warnings.warn(\n",
      "/home/mio/anaconda3/envs/tfvoice/lib/python3.10/site-packages/librosa/core/spectrum.py:266: UserWarning: n_fft=1024 is too large for input signal of length=292\n",
      "  warnings.warn(\n",
      "/home/mio/anaconda3/envs/tfvoice/lib/python3.10/site-packages/librosa/core/spectrum.py:266: UserWarning: n_fft=1024 is too large for input signal of length=146\n",
      "  warnings.warn(\n"
     ]
    },
    {
     "name": "stdout",
     "output_type": "stream",
     "text": [
      "Features extracted and saved to data/cleaned/ASD11/3_8_features.txt\n"
     ]
    },
    {
     "name": "stderr",
     "output_type": "stream",
     "text": [
      "/home/mio/anaconda3/envs/tfvoice/lib/python3.10/site-packages/librosa/core/spectrum.py:266: UserWarning: n_fft=1024 is too large for input signal of length=620\n",
      "  warnings.warn(\n"
     ]
    },
    {
     "name": "stdout",
     "output_type": "stream",
     "text": [
      "Features extracted and saved to data/cleaned/ASD11/3_2_features.txt\n"
     ]
    },
    {
     "name": "stderr",
     "output_type": "stream",
     "text": [
      "/home/mio/anaconda3/envs/tfvoice/lib/python3.10/site-packages/librosa/core/spectrum.py:266: UserWarning: n_fft=1024 is too large for input signal of length=838\n",
      "  warnings.warn(\n",
      "/home/mio/anaconda3/envs/tfvoice/lib/python3.10/site-packages/librosa/core/spectrum.py:266: UserWarning: n_fft=1024 is too large for input signal of length=419\n",
      "  warnings.warn(\n",
      "/home/mio/anaconda3/envs/tfvoice/lib/python3.10/site-packages/librosa/core/spectrum.py:266: UserWarning: n_fft=1024 is too large for input signal of length=210\n",
      "  warnings.warn(\n"
     ]
    },
    {
     "name": "stdout",
     "output_type": "stream",
     "text": [
      "Features extracted and saved to data/cleaned/ASD11/3_3_features.txt\n",
      "Features extracted and saved to data/cleaned/ASD30/1_1_features.txt\n"
     ]
    },
    {
     "name": "stderr",
     "output_type": "stream",
     "text": [
      "/home/mio/anaconda3/envs/tfvoice/lib/python3.10/site-packages/librosa/core/spectrum.py:266: UserWarning: n_fft=1024 is too large for input signal of length=966\n",
      "  warnings.warn(\n",
      "/home/mio/anaconda3/envs/tfvoice/lib/python3.10/site-packages/librosa/core/spectrum.py:266: UserWarning: n_fft=1024 is too large for input signal of length=121\n",
      "  warnings.warn(\n"
     ]
    },
    {
     "name": "stdout",
     "output_type": "stream",
     "text": [
      "Features extracted and saved to data/cleaned/ASD30/2_1_features.txt\n"
     ]
    },
    {
     "name": "stderr",
     "output_type": "stream",
     "text": [
      "/home/mio/anaconda3/envs/tfvoice/lib/python3.10/site-packages/librosa/core/spectrum.py:266: UserWarning: n_fft=1024 is too large for input signal of length=963\n",
      "  warnings.warn(\n",
      "/home/mio/anaconda3/envs/tfvoice/lib/python3.10/site-packages/librosa/core/spectrum.py:266: UserWarning: n_fft=1024 is too large for input signal of length=482\n",
      "  warnings.warn(\n",
      "/home/mio/anaconda3/envs/tfvoice/lib/python3.10/site-packages/librosa/core/spectrum.py:266: UserWarning: n_fft=1024 is too large for input signal of length=241\n",
      "  warnings.warn(\n"
     ]
    },
    {
     "name": "stdout",
     "output_type": "stream",
     "text": [
      "Features extracted and saved to data/cleaned/ASD21/1_1_features.txt\n",
      "Features extracted and saved to data/cleaned/ASD17/1_1_features.txt\n"
     ]
    },
    {
     "name": "stderr",
     "output_type": "stream",
     "text": [
      "/home/mio/anaconda3/envs/tfvoice/lib/python3.10/site-packages/librosa/core/spectrum.py:266: UserWarning: n_fft=1024 is too large for input signal of length=778\n",
      "  warnings.warn(\n"
     ]
    },
    {
     "name": "stdout",
     "output_type": "stream",
     "text": [
      "Features extracted and saved to data/cleaned/TD20/1_5_features.txt\n"
     ]
    },
    {
     "name": "stderr",
     "output_type": "stream",
     "text": [
      "/home/mio/anaconda3/envs/tfvoice/lib/python3.10/site-packages/librosa/core/spectrum.py:266: UserWarning: n_fft=1024 is too large for input signal of length=639\n",
      "  warnings.warn(\n"
     ]
    },
    {
     "name": "stdout",
     "output_type": "stream",
     "text": [
      "Features extracted and saved to data/cleaned/TD20/1_1_features.txt\n"
     ]
    },
    {
     "name": "stderr",
     "output_type": "stream",
     "text": [
      "/home/mio/anaconda3/envs/tfvoice/lib/python3.10/site-packages/librosa/core/spectrum.py:266: UserWarning: n_fft=1024 is too large for input signal of length=669\n",
      "  warnings.warn(\n",
      "/home/mio/anaconda3/envs/tfvoice/lib/python3.10/site-packages/librosa/core/spectrum.py:266: UserWarning: n_fft=1024 is too large for input signal of length=335\n",
      "  warnings.warn(\n",
      "/home/mio/anaconda3/envs/tfvoice/lib/python3.10/site-packages/librosa/core/spectrum.py:266: UserWarning: n_fft=1024 is too large for input signal of length=168\n",
      "  warnings.warn(\n"
     ]
    },
    {
     "name": "stdout",
     "output_type": "stream",
     "text": [
      "Features extracted and saved to data/cleaned/TD20/1_2_features.txt\n",
      "Features extracted and saved to data/cleaned/TD20/1_4_features.txt\n",
      "Features extracted and saved to data/cleaned/TD20/1_3_features.txt\n",
      "Features extracted and saved to data/cleaned/ASD10/1_1_features.txt\n",
      "Features extracted and saved to data/cleaned/ASD10/3_1_features.txt\n"
     ]
    },
    {
     "name": "stderr",
     "output_type": "stream",
     "text": [
      "/home/mio/anaconda3/envs/tfvoice/lib/python3.10/site-packages/librosa/core/spectrum.py:266: UserWarning: n_fft=1024 is too large for input signal of length=590\n",
      "  warnings.warn(\n",
      "/home/mio/anaconda3/envs/tfvoice/lib/python3.10/site-packages/librosa/core/spectrum.py:266: UserWarning: n_fft=1024 is too large for input signal of length=295\n",
      "  warnings.warn(\n"
     ]
    },
    {
     "name": "stdout",
     "output_type": "stream",
     "text": [
      "Features extracted and saved to data/cleaned/ASD10/2_1_features.txt\n",
      "Features extracted and saved to data/cleaned/ASD10/3_2_features.txt\n"
     ]
    },
    {
     "name": "stderr",
     "output_type": "stream",
     "text": [
      "/home/mio/anaconda3/envs/tfvoice/lib/python3.10/site-packages/librosa/core/spectrum.py:266: UserWarning: n_fft=1024 is too large for input signal of length=902\n",
      "  warnings.warn(\n"
     ]
    },
    {
     "name": "stdout",
     "output_type": "stream",
     "text": [
      "Features extracted and saved to data/cleaned/TD26/1_1_features.txt\n"
     ]
    },
    {
     "name": "stderr",
     "output_type": "stream",
     "text": [
      "/home/mio/anaconda3/envs/tfvoice/lib/python3.10/site-packages/librosa/core/spectrum.py:266: UserWarning: n_fft=1024 is too large for input signal of length=635\n",
      "  warnings.warn(\n"
     ]
    },
    {
     "name": "stdout",
     "output_type": "stream",
     "text": [
      "Features extracted and saved to data/cleaned/TD26/1_2_features.txt\n"
     ]
    },
    {
     "name": "stderr",
     "output_type": "stream",
     "text": [
      "/home/mio/anaconda3/envs/tfvoice/lib/python3.10/site-packages/librosa/core/spectrum.py:266: UserWarning: n_fft=1024 is too large for input signal of length=606\n",
      "  warnings.warn(\n"
     ]
    },
    {
     "name": "stdout",
     "output_type": "stream",
     "text": [
      "Features extracted and saved to data/cleaned/ASD13/1_1_features.txt\n"
     ]
    },
    {
     "name": "stderr",
     "output_type": "stream",
     "text": [
      "/home/mio/anaconda3/envs/tfvoice/lib/python3.10/site-packages/librosa/core/spectrum.py:266: UserWarning: n_fft=1024 is too large for input signal of length=608\n",
      "  warnings.warn(\n",
      "/home/mio/anaconda3/envs/tfvoice/lib/python3.10/site-packages/librosa/core/spectrum.py:266: UserWarning: n_fft=1024 is too large for input signal of length=152\n",
      "  warnings.warn(\n"
     ]
    },
    {
     "name": "stdout",
     "output_type": "stream",
     "text": [
      "Features extracted and saved to data/cleaned/ASD13/1_2_features.txt\n",
      "Features extracted and saved to data/cleaned/ASD13/1_3_features.txt\n"
     ]
    },
    {
     "name": "stderr",
     "output_type": "stream",
     "text": [
      "/home/mio/anaconda3/envs/tfvoice/lib/python3.10/site-packages/librosa/core/spectrum.py:266: UserWarning: n_fft=1024 is too large for input signal of length=88\n",
      "  warnings.warn(\n"
     ]
    },
    {
     "name": "stdout",
     "output_type": "stream",
     "text": [
      "Features extracted and saved to data/cleaned/TD15/1_1_features.txt\n"
     ]
    },
    {
     "name": "stderr",
     "output_type": "stream",
     "text": [
      "/home/mio/anaconda3/envs/tfvoice/lib/python3.10/site-packages/librosa/core/spectrum.py:266: UserWarning: n_fft=1024 is too large for input signal of length=624\n",
      "  warnings.warn(\n",
      "/home/mio/anaconda3/envs/tfvoice/lib/python3.10/site-packages/librosa/core/spectrum.py:266: UserWarning: n_fft=1024 is too large for input signal of length=312\n",
      "  warnings.warn(\n"
     ]
    },
    {
     "name": "stdout",
     "output_type": "stream",
     "text": [
      "Features extracted and saved to data/cleaned/TD15/1_2_features.txt\n"
     ]
    },
    {
     "name": "stderr",
     "output_type": "stream",
     "text": [
      "/home/mio/anaconda3/envs/tfvoice/lib/python3.10/site-packages/librosa/core/spectrum.py:266: UserWarning: n_fft=1024 is too large for input signal of length=698\n",
      "  warnings.warn(\n",
      "/home/mio/anaconda3/envs/tfvoice/lib/python3.10/site-packages/librosa/core/spectrum.py:266: UserWarning: n_fft=1024 is too large for input signal of length=349\n",
      "  warnings.warn(\n"
     ]
    },
    {
     "name": "stdout",
     "output_type": "stream",
     "text": [
      "Features extracted and saved to data/cleaned/TD15/1_4_features.txt\n"
     ]
    },
    {
     "name": "stderr",
     "output_type": "stream",
     "text": [
      "/home/mio/anaconda3/envs/tfvoice/lib/python3.10/site-packages/librosa/core/spectrum.py:266: UserWarning: n_fft=1024 is too large for input signal of length=344\n",
      "  warnings.warn(\n",
      "/home/mio/anaconda3/envs/tfvoice/lib/python3.10/site-packages/librosa/core/spectrum.py:266: UserWarning: n_fft=1024 is too large for input signal of length=86\n",
      "  warnings.warn(\n"
     ]
    },
    {
     "name": "stdout",
     "output_type": "stream",
     "text": [
      "Features extracted and saved to data/cleaned/TD15/1_3_features.txt\n"
     ]
    },
    {
     "name": "stderr",
     "output_type": "stream",
     "text": [
      "/home/mio/anaconda3/envs/tfvoice/lib/python3.10/site-packages/librosa/core/spectrum.py:266: UserWarning: n_fft=1024 is too large for input signal of length=948\n",
      "  warnings.warn(\n"
     ]
    },
    {
     "name": "stdout",
     "output_type": "stream",
     "text": [
      "Features extracted and saved to data/cleaned/ASD31/1_1_features.txt\n",
      "Features extracted and saved to data/cleaned/ASD31/1_7_features.txt\n",
      "Features extracted and saved to data/cleaned/ASD31/1_2_features.txt\n"
     ]
    },
    {
     "name": "stderr",
     "output_type": "stream",
     "text": [
      "/home/mio/anaconda3/envs/tfvoice/lib/python3.10/site-packages/librosa/core/spectrum.py:266: UserWarning: n_fft=1024 is too large for input signal of length=553\n",
      "  warnings.warn(\n"
     ]
    },
    {
     "name": "stdout",
     "output_type": "stream",
     "text": [
      "Features extracted and saved to data/cleaned/ASD31/1_6_features.txt\n",
      "Features extracted and saved to data/cleaned/ASD31/1_4_features.txt\n"
     ]
    },
    {
     "name": "stderr",
     "output_type": "stream",
     "text": [
      "/home/mio/anaconda3/envs/tfvoice/lib/python3.10/site-packages/librosa/core/spectrum.py:266: UserWarning: n_fft=1024 is too large for input signal of length=604\n",
      "  warnings.warn(\n"
     ]
    },
    {
     "name": "stdout",
     "output_type": "stream",
     "text": [
      "Features extracted and saved to data/cleaned/ASD31/1-5_features.txt\n"
     ]
    },
    {
     "name": "stderr",
     "output_type": "stream",
     "text": [
      "/home/mio/anaconda3/envs/tfvoice/lib/python3.10/site-packages/librosa/core/spectrum.py:266: UserWarning: n_fft=1024 is too large for input signal of length=699\n",
      "  warnings.warn(\n"
     ]
    },
    {
     "name": "stdout",
     "output_type": "stream",
     "text": [
      "Features extracted and saved to data/cleaned/ASD31/1_3_features.txt\n"
     ]
    },
    {
     "name": "stderr",
     "output_type": "stream",
     "text": [
      "/home/mio/anaconda3/envs/tfvoice/lib/python3.10/site-packages/librosa/core/spectrum.py:266: UserWarning: n_fft=1024 is too large for input signal of length=896\n",
      "  warnings.warn(\n",
      "/home/mio/anaconda3/envs/tfvoice/lib/python3.10/site-packages/librosa/core/spectrum.py:266: UserWarning: n_fft=1024 is too large for input signal of length=448\n",
      "  warnings.warn(\n"
     ]
    },
    {
     "name": "stdout",
     "output_type": "stream",
     "text": [
      "Features extracted and saved to data/cleaned/TD8/1_1_features.txt\n",
      "Features extracted and saved to data/cleaned/TD8/2_1_features.txt\n",
      "Features extracted and saved to data/cleaned/TD8/2_2_features.txt\n"
     ]
    },
    {
     "name": "stderr",
     "output_type": "stream",
     "text": [
      "/home/mio/anaconda3/envs/tfvoice/lib/python3.10/site-packages/librosa/core/spectrum.py:266: UserWarning: n_fft=1024 is too large for input signal of length=776\n",
      "  warnings.warn(\n",
      "/home/mio/anaconda3/envs/tfvoice/lib/python3.10/site-packages/librosa/core/spectrum.py:266: UserWarning: n_fft=1024 is too large for input signal of length=388\n",
      "  warnings.warn(\n"
     ]
    },
    {
     "name": "stdout",
     "output_type": "stream",
     "text": [
      "Features extracted and saved to data/cleaned/TD17/1_1_features.txt\n"
     ]
    },
    {
     "name": "stderr",
     "output_type": "stream",
     "text": [
      "/home/mio/anaconda3/envs/tfvoice/lib/python3.10/site-packages/librosa/core/spectrum.py:266: UserWarning: n_fft=1024 is too large for input signal of length=1010\n",
      "  warnings.warn(\n",
      "/home/mio/anaconda3/envs/tfvoice/lib/python3.10/site-packages/librosa/core/spectrum.py:266: UserWarning: n_fft=1024 is too large for input signal of length=505\n",
      "  warnings.warn(\n",
      "/home/mio/anaconda3/envs/tfvoice/lib/python3.10/site-packages/librosa/core/spectrum.py:266: UserWarning: n_fft=1024 is too large for input signal of length=253\n",
      "  warnings.warn(\n"
     ]
    },
    {
     "name": "stdout",
     "output_type": "stream",
     "text": [
      "Features extracted and saved to data/cleaned/TD17/1_2_features.txt\n"
     ]
    },
    {
     "name": "stderr",
     "output_type": "stream",
     "text": [
      "/home/mio/anaconda3/envs/tfvoice/lib/python3.10/site-packages/librosa/core/spectrum.py:266: UserWarning: n_fft=1024 is too large for input signal of length=926\n",
      "  warnings.warn(\n",
      "/home/mio/anaconda3/envs/tfvoice/lib/python3.10/site-packages/librosa/core/spectrum.py:266: UserWarning: n_fft=1024 is too large for input signal of length=463\n",
      "  warnings.warn(\n"
     ]
    },
    {
     "name": "stdout",
     "output_type": "stream",
     "text": [
      "Features extracted and saved to data/cleaned/ASD27/1_1_features.txt\n",
      "Features extracted and saved to data/cleaned/ASD27/12_2_features.txt\n"
     ]
    },
    {
     "name": "stderr",
     "output_type": "stream",
     "text": [
      "/home/mio/anaconda3/envs/tfvoice/lib/python3.10/site-packages/librosa/core/spectrum.py:266: UserWarning: n_fft=1024 is too large for input signal of length=665\n",
      "  warnings.warn(\n"
     ]
    },
    {
     "name": "stdout",
     "output_type": "stream",
     "text": [
      "Features extracted and saved to data/cleaned/ASD27/2_1_features.txt\n"
     ]
    },
    {
     "name": "stderr",
     "output_type": "stream",
     "text": [
      "/home/mio/anaconda3/envs/tfvoice/lib/python3.10/site-packages/librosa/core/spectrum.py:266: UserWarning: n_fft=1024 is too large for input signal of length=717\n",
      "  warnings.warn(\n",
      "/home/mio/anaconda3/envs/tfvoice/lib/python3.10/site-packages/librosa/core/spectrum.py:266: UserWarning: n_fft=1024 is too large for input signal of length=359\n",
      "  warnings.warn(\n",
      "/home/mio/anaconda3/envs/tfvoice/lib/python3.10/site-packages/librosa/core/spectrum.py:266: UserWarning: n_fft=1024 is too large for input signal of length=180\n",
      "  warnings.warn(\n"
     ]
    },
    {
     "name": "stdout",
     "output_type": "stream",
     "text": [
      "Features extracted and saved to data/cleaned/TD30/1_1_features.txt\n",
      "Features extracted and saved to data/cleaned/TD30/3_1_features.txt\n",
      "Features extracted and saved to data/cleaned/TD30/1_2_features.txt\n"
     ]
    },
    {
     "name": "stderr",
     "output_type": "stream",
     "text": [
      "/home/mio/anaconda3/envs/tfvoice/lib/python3.10/site-packages/librosa/core/spectrum.py:266: UserWarning: n_fft=1024 is too large for input signal of length=986\n",
      "  warnings.warn(\n"
     ]
    },
    {
     "name": "stdout",
     "output_type": "stream",
     "text": [
      "Features extracted and saved to data/cleaned/TD30/2_1_features.txt\n"
     ]
    },
    {
     "name": "stderr",
     "output_type": "stream",
     "text": [
      "/home/mio/anaconda3/envs/tfvoice/lib/python3.10/site-packages/librosa/core/spectrum.py:266: UserWarning: n_fft=1024 is too large for input signal of length=1023\n",
      "  warnings.warn(\n"
     ]
    },
    {
     "name": "stdout",
     "output_type": "stream",
     "text": [
      "Features extracted and saved to data/cleaned/TD30/2_2_features.txt\n"
     ]
    },
    {
     "name": "stderr",
     "output_type": "stream",
     "text": [
      "/home/mio/anaconda3/envs/tfvoice/lib/python3.10/site-packages/librosa/core/spectrum.py:266: UserWarning: n_fft=1024 is too large for input signal of length=886\n",
      "  warnings.warn(\n",
      "/home/mio/anaconda3/envs/tfvoice/lib/python3.10/site-packages/librosa/core/spectrum.py:266: UserWarning: n_fft=1024 is too large for input signal of length=443\n",
      "  warnings.warn(\n"
     ]
    },
    {
     "name": "stdout",
     "output_type": "stream",
     "text": [
      "Features extracted and saved to data/cleaned/TD30/1_3_features.txt\n"
     ]
    },
    {
     "name": "stderr",
     "output_type": "stream",
     "text": [
      "/home/mio/anaconda3/envs/tfvoice/lib/python3.10/site-packages/librosa/core/spectrum.py:266: UserWarning: n_fft=1024 is too large for input signal of length=723\n",
      "  warnings.warn(\n",
      "/home/mio/anaconda3/envs/tfvoice/lib/python3.10/site-packages/librosa/core/spectrum.py:266: UserWarning: n_fft=1024 is too large for input signal of length=362\n",
      "  warnings.warn(\n"
     ]
    },
    {
     "name": "stdout",
     "output_type": "stream",
     "text": [
      "Features extracted and saved to data/cleaned/TD6/2_3_features.txt\n",
      "Features extracted and saved to data/cleaned/TD6/2_1_features.txt\n"
     ]
    },
    {
     "name": "stderr",
     "output_type": "stream",
     "text": [
      "/home/mio/anaconda3/envs/tfvoice/lib/python3.10/site-packages/librosa/core/spectrum.py:266: UserWarning: n_fft=1024 is too large for input signal of length=975\n",
      "  warnings.warn(\n"
     ]
    },
    {
     "name": "stdout",
     "output_type": "stream",
     "text": [
      "Features extracted and saved to data/cleaned/TD6/2_2_features.txt\n",
      "Features extracted and saved to data/cleaned/TD24/3_7_features.txt\n"
     ]
    },
    {
     "name": "stderr",
     "output_type": "stream",
     "text": [
      "/home/mio/anaconda3/envs/tfvoice/lib/python3.10/site-packages/librosa/core/spectrum.py:266: UserWarning: n_fft=1024 is too large for input signal of length=939\n",
      "  warnings.warn(\n",
      "/home/mio/anaconda3/envs/tfvoice/lib/python3.10/site-packages/librosa/core/spectrum.py:266: UserWarning: n_fft=1024 is too large for input signal of length=470\n",
      "  warnings.warn(\n",
      "/home/mio/anaconda3/envs/tfvoice/lib/python3.10/site-packages/librosa/core/spectrum.py:266: UserWarning: n_fft=1024 is too large for input signal of length=235\n",
      "  warnings.warn(\n"
     ]
    },
    {
     "name": "stdout",
     "output_type": "stream",
     "text": [
      "Features extracted and saved to data/cleaned/TD24/3_5_features.txt\n"
     ]
    },
    {
     "name": "stderr",
     "output_type": "stream",
     "text": [
      "/home/mio/anaconda3/envs/tfvoice/lib/python3.10/site-packages/librosa/core/spectrum.py:266: UserWarning: n_fft=1024 is too large for input signal of length=849\n",
      "  warnings.warn(\n"
     ]
    },
    {
     "name": "stdout",
     "output_type": "stream",
     "text": [
      "Features extracted and saved to data/cleaned/TD24/1_1_features.txt\n",
      "Features extracted and saved to data/cleaned/TD24/4_1_features.txt\n"
     ]
    },
    {
     "name": "stderr",
     "output_type": "stream",
     "text": [
      "/home/mio/anaconda3/envs/tfvoice/lib/python3.10/site-packages/librosa/core/spectrum.py:266: UserWarning: n_fft=1024 is too large for input signal of length=568\n",
      "  warnings.warn(\n",
      "/home/mio/anaconda3/envs/tfvoice/lib/python3.10/site-packages/librosa/core/spectrum.py:266: UserWarning: n_fft=1024 is too large for input signal of length=284\n",
      "  warnings.warn(\n"
     ]
    },
    {
     "name": "stdout",
     "output_type": "stream",
     "text": [
      "Features extracted and saved to data/cleaned/TD24/3_1_features.txt\n",
      "Features extracted and saved to data/cleaned/TD24/3_6_features.txt\n",
      "Features extracted and saved to data/cleaned/TD24/3_4_features.txt\n"
     ]
    },
    {
     "name": "stderr",
     "output_type": "stream",
     "text": [
      "/home/mio/anaconda3/envs/tfvoice/lib/python3.10/site-packages/librosa/core/spectrum.py:266: UserWarning: n_fft=1024 is too large for input signal of length=696\n",
      "  warnings.warn(\n"
     ]
    },
    {
     "name": "stdout",
     "output_type": "stream",
     "text": [
      "Features extracted and saved to data/cleaned/TD24/3_8_features.txt\n"
     ]
    },
    {
     "name": "stderr",
     "output_type": "stream",
     "text": [
      "/home/mio/anaconda3/envs/tfvoice/lib/python3.10/site-packages/librosa/core/spectrum.py:266: UserWarning: n_fft=1024 is too large for input signal of length=605\n",
      "  warnings.warn(\n",
      "/home/mio/anaconda3/envs/tfvoice/lib/python3.10/site-packages/librosa/core/spectrum.py:266: UserWarning: n_fft=1024 is too large for input signal of length=303\n",
      "  warnings.warn(\n"
     ]
    },
    {
     "name": "stdout",
     "output_type": "stream",
     "text": [
      "Features extracted and saved to data/cleaned/TD24/1_4_features.txt\n"
     ]
    },
    {
     "name": "stderr",
     "output_type": "stream",
     "text": [
      "/home/mio/anaconda3/envs/tfvoice/lib/python3.10/site-packages/librosa/core/spectrum.py:266: UserWarning: n_fft=1024 is too large for input signal of length=636\n",
      "  warnings.warn(\n",
      "/home/mio/anaconda3/envs/tfvoice/lib/python3.10/site-packages/librosa/core/spectrum.py:266: UserWarning: n_fft=1024 is too large for input signal of length=318\n",
      "  warnings.warn(\n"
     ]
    },
    {
     "name": "stdout",
     "output_type": "stream",
     "text": [
      "Features extracted and saved to data/cleaned/TD24/3_2_features.txt\n"
     ]
    },
    {
     "name": "stderr",
     "output_type": "stream",
     "text": [
      "/home/mio/anaconda3/envs/tfvoice/lib/python3.10/site-packages/librosa/core/spectrum.py:266: UserWarning: n_fft=1024 is too large for input signal of length=707\n",
      "  warnings.warn(\n"
     ]
    },
    {
     "name": "stdout",
     "output_type": "stream",
     "text": [
      "Features extracted and saved to data/cleaned/TD24/3_3_features.txt\n"
     ]
    },
    {
     "name": "stderr",
     "output_type": "stream",
     "text": [
      "/home/mio/anaconda3/envs/tfvoice/lib/python3.10/site-packages/librosa/core/spectrum.py:266: UserWarning: n_fft=1024 is too large for input signal of length=867\n",
      "  warnings.warn(\n",
      "/home/mio/anaconda3/envs/tfvoice/lib/python3.10/site-packages/librosa/core/spectrum.py:266: UserWarning: n_fft=1024 is too large for input signal of length=434\n",
      "  warnings.warn(\n",
      "/home/mio/anaconda3/envs/tfvoice/lib/python3.10/site-packages/librosa/core/spectrum.py:266: UserWarning: n_fft=1024 is too large for input signal of length=217\n",
      "  warnings.warn(\n"
     ]
    },
    {
     "name": "stdout",
     "output_type": "stream",
     "text": [
      "Features extracted and saved to data/cleaned/TD24/1_3_features.txt\n",
      "Features extracted and saved to data/cleaned/ASD24/6_1_features.txt\n"
     ]
    },
    {
     "name": "stderr",
     "output_type": "stream",
     "text": [
      "/home/mio/anaconda3/envs/tfvoice/lib/python3.10/site-packages/librosa/core/spectrum.py:266: UserWarning: n_fft=1024 is too large for input signal of length=540\n",
      "  warnings.warn(\n"
     ]
    },
    {
     "name": "stdout",
     "output_type": "stream",
     "text": [
      "Features extracted and saved to data/cleaned/ASD24/6_2_features.txt\n",
      "Features extracted and saved to data/cleaned/ASD24/8_1_features.txt\n",
      "Features extracted and saved to data/cleaned/ASD24/3_1_features.txt\n",
      "Features extracted and saved to data/cleaned/ASD24/2_1_features.txt\n",
      "Features extracted and saved to data/cleaned/ASD24/3_2_features.txt\n",
      "Features extracted and saved to data/cleaned/ASD24/3_3_features.txt\n",
      "Features extracted and saved to data/cleaned/ASD23/1_1_features.txt\n"
     ]
    },
    {
     "name": "stderr",
     "output_type": "stream",
     "text": [
      "/home/mio/anaconda3/envs/tfvoice/lib/python3.10/site-packages/librosa/core/spectrum.py:266: UserWarning: n_fft=1024 is too large for input signal of length=678\n",
      "  warnings.warn(\n",
      "/home/mio/anaconda3/envs/tfvoice/lib/python3.10/site-packages/librosa/core/spectrum.py:266: UserWarning: n_fft=1024 is too large for input signal of length=170\n",
      "  warnings.warn(\n"
     ]
    },
    {
     "name": "stdout",
     "output_type": "stream",
     "text": [
      "Features extracted and saved to data/cleaned/ASD23/3_1_features.txt\n",
      "Features extracted and saved to data/cleaned/ASD23/1_2_features.txt\n"
     ]
    },
    {
     "name": "stderr",
     "output_type": "stream",
     "text": [
      "/home/mio/anaconda3/envs/tfvoice/lib/python3.10/site-packages/librosa/core/spectrum.py:266: UserWarning: n_fft=1024 is too large for input signal of length=331\n",
      "  warnings.warn(\n"
     ]
    },
    {
     "name": "stdout",
     "output_type": "stream",
     "text": [
      "Features extracted and saved to data/cleaned/ASD23/3_2_features.txt\n"
     ]
    },
    {
     "name": "stderr",
     "output_type": "stream",
     "text": [
      "/home/mio/anaconda3/envs/tfvoice/lib/python3.10/site-packages/librosa/core/spectrum.py:266: UserWarning: n_fft=1024 is too large for input signal of length=164\n",
      "  warnings.warn(\n"
     ]
    },
    {
     "name": "stdout",
     "output_type": "stream",
     "text": [
      "Features extracted and saved to data/cleaned/ASD23/3_3_features.txt\n",
      "Features extracted and saved to data/cleaned/ASD23/1_3_features.txt\n"
     ]
    },
    {
     "name": "stderr",
     "output_type": "stream",
     "text": [
      "/home/mio/anaconda3/envs/tfvoice/lib/python3.10/site-packages/librosa/core/spectrum.py:266: UserWarning: n_fft=1024 is too large for input signal of length=615\n",
      "  warnings.warn(\n",
      "/home/mio/anaconda3/envs/tfvoice/lib/python3.10/site-packages/librosa/core/spectrum.py:266: UserWarning: n_fft=1024 is too large for input signal of length=154\n",
      "  warnings.warn(\n"
     ]
    },
    {
     "name": "stdout",
     "output_type": "stream",
     "text": [
      "Features extracted and saved to data/cleaned/ASD7/1_5_features.txt\n",
      "Features extracted and saved to data/cleaned/ASD7/1_1_features.txt\n",
      "Features extracted and saved to data/cleaned/ASD7/1_7_features.txt\n"
     ]
    },
    {
     "name": "stderr",
     "output_type": "stream",
     "text": [
      "/home/mio/anaconda3/envs/tfvoice/lib/python3.10/site-packages/librosa/core/spectrum.py:266: UserWarning: n_fft=1024 is too large for input signal of length=904\n",
      "  warnings.warn(\n",
      "/home/mio/anaconda3/envs/tfvoice/lib/python3.10/site-packages/librosa/core/spectrum.py:266: UserWarning: n_fft=1024 is too large for input signal of length=452\n",
      "  warnings.warn(\n"
     ]
    },
    {
     "name": "stdout",
     "output_type": "stream",
     "text": [
      "Features extracted and saved to data/cleaned/ASD7/1_8_features.txt\n"
     ]
    },
    {
     "name": "stderr",
     "output_type": "stream",
     "text": [
      "/home/mio/anaconda3/envs/tfvoice/lib/python3.10/site-packages/librosa/core/spectrum.py:266: UserWarning: n_fft=1024 is too large for input signal of length=632\n",
      "  warnings.warn(\n",
      "/home/mio/anaconda3/envs/tfvoice/lib/python3.10/site-packages/librosa/core/spectrum.py:266: UserWarning: n_fft=1024 is too large for input signal of length=316\n",
      "  warnings.warn(\n"
     ]
    },
    {
     "name": "stdout",
     "output_type": "stream",
     "text": [
      "Features extracted and saved to data/cleaned/ASD7/1_9_features.txt\n"
     ]
    },
    {
     "name": "stderr",
     "output_type": "stream",
     "text": [
      "/home/mio/anaconda3/envs/tfvoice/lib/python3.10/site-packages/librosa/core/spectrum.py:266: UserWarning: n_fft=1024 is too large for input signal of length=983\n",
      "  warnings.warn(\n",
      "/home/mio/anaconda3/envs/tfvoice/lib/python3.10/site-packages/librosa/core/spectrum.py:266: UserWarning: n_fft=1024 is too large for input signal of length=492\n",
      "  warnings.warn(\n",
      "/home/mio/anaconda3/envs/tfvoice/lib/python3.10/site-packages/librosa/core/spectrum.py:266: UserWarning: n_fft=1024 is too large for input signal of length=246\n",
      "  warnings.warn(\n"
     ]
    },
    {
     "name": "stdout",
     "output_type": "stream",
     "text": [
      "Features extracted and saved to data/cleaned/ASD7/1_2_features.txt\n"
     ]
    },
    {
     "name": "stderr",
     "output_type": "stream",
     "text": [
      "/home/mio/anaconda3/envs/tfvoice/lib/python3.10/site-packages/librosa/core/spectrum.py:266: UserWarning: n_fft=1024 is too large for input signal of length=555\n",
      "  warnings.warn(\n"
     ]
    },
    {
     "name": "stdout",
     "output_type": "stream",
     "text": [
      "Features extracted and saved to data/cleaned/ASD7/2_1_features.txt\n"
     ]
    },
    {
     "name": "stderr",
     "output_type": "stream",
     "text": [
      "/home/mio/anaconda3/envs/tfvoice/lib/python3.10/site-packages/librosa/core/spectrum.py:266: UserWarning: n_fft=1024 is too large for input signal of length=670\n",
      "  warnings.warn(\n"
     ]
    },
    {
     "name": "stdout",
     "output_type": "stream",
     "text": [
      "Features extracted and saved to data/cleaned/ASD7/2_2_features.txt\n"
     ]
    },
    {
     "name": "stderr",
     "output_type": "stream",
     "text": [
      "/home/mio/anaconda3/envs/tfvoice/lib/python3.10/site-packages/librosa/core/spectrum.py:266: UserWarning: n_fft=1024 is too large for input signal of length=599\n",
      "  warnings.warn(\n",
      "/home/mio/anaconda3/envs/tfvoice/lib/python3.10/site-packages/librosa/core/spectrum.py:266: UserWarning: n_fft=1024 is too large for input signal of length=300\n",
      "  warnings.warn(\n"
     ]
    },
    {
     "name": "stdout",
     "output_type": "stream",
     "text": [
      "Features extracted and saved to data/cleaned/ASD7/1_6_features.txt\n",
      "Features extracted and saved to data/cleaned/ASD7/1_4_features.txt\n"
     ]
    },
    {
     "name": "stderr",
     "output_type": "stream",
     "text": [
      "/home/mio/anaconda3/envs/tfvoice/lib/python3.10/site-packages/librosa/core/spectrum.py:266: UserWarning: n_fft=1024 is too large for input signal of length=711\n",
      "  warnings.warn(\n",
      "/home/mio/anaconda3/envs/tfvoice/lib/python3.10/site-packages/librosa/core/spectrum.py:266: UserWarning: n_fft=1024 is too large for input signal of length=356\n",
      "  warnings.warn(\n"
     ]
    },
    {
     "name": "stdout",
     "output_type": "stream",
     "text": [
      "Features extracted and saved to data/cleaned/ASD7/1_3_features.txt\n"
     ]
    },
    {
     "name": "stderr",
     "output_type": "stream",
     "text": [
      "/home/mio/anaconda3/envs/tfvoice/lib/python3.10/site-packages/librosa/core/spectrum.py:266: UserWarning: n_fft=1024 is too large for input signal of length=703\n",
      "  warnings.warn(\n"
     ]
    },
    {
     "name": "stdout",
     "output_type": "stream",
     "text": [
      "Features extracted and saved to data/cleaned/ASD14/1_1_features.txt\n",
      "Features extracted and saved to data/cleaned/ASD14/8_1_features.txt\n"
     ]
    },
    {
     "name": "stderr",
     "output_type": "stream",
     "text": [
      "/home/mio/anaconda3/envs/tfvoice/lib/python3.10/site-packages/librosa/core/spectrum.py:266: UserWarning: n_fft=1024 is too large for input signal of length=709\n",
      "  warnings.warn(\n",
      "/home/mio/anaconda3/envs/tfvoice/lib/python3.10/site-packages/librosa/core/spectrum.py:266: UserWarning: n_fft=1024 is too large for input signal of length=355\n",
      "  warnings.warn(\n",
      "/home/mio/anaconda3/envs/tfvoice/lib/python3.10/site-packages/librosa/core/spectrum.py:266: UserWarning: n_fft=1024 is too large for input signal of length=178\n",
      "  warnings.warn(\n"
     ]
    },
    {
     "name": "stdout",
     "output_type": "stream",
     "text": [
      "Features extracted and saved to data/cleaned/ASD14/2_3_features.txt\n"
     ]
    },
    {
     "name": "stderr",
     "output_type": "stream",
     "text": [
      "/home/mio/anaconda3/envs/tfvoice/lib/python3.10/site-packages/librosa/core/spectrum.py:266: UserWarning: n_fft=1024 is too large for input signal of length=569\n",
      "  warnings.warn(\n"
     ]
    },
    {
     "name": "stdout",
     "output_type": "stream",
     "text": [
      "Features extracted and saved to data/cleaned/ASD14/2_1_features.txt\n",
      "Features extracted and saved to data/cleaned/ASD14/2_2_features.txt\n"
     ]
    },
    {
     "name": "stderr",
     "output_type": "stream",
     "text": [
      "/home/mio/anaconda3/envs/tfvoice/lib/python3.10/site-packages/librosa/core/spectrum.py:266: UserWarning: n_fft=1024 is too large for input signal of length=240\n",
      "  warnings.warn(\n"
     ]
    },
    {
     "name": "stdout",
     "output_type": "stream",
     "text": [
      "Features extracted and saved to data/cleaned/ASD9/1_1_features.txt\n",
      "Features extracted and saved to data/cleaned/ASD9/1_2_features.txt\n"
     ]
    },
    {
     "name": "stderr",
     "output_type": "stream",
     "text": [
      "/home/mio/anaconda3/envs/tfvoice/lib/python3.10/site-packages/librosa/core/spectrum.py:266: UserWarning: n_fft=1024 is too large for input signal of length=651\n",
      "  warnings.warn(\n",
      "/home/mio/anaconda3/envs/tfvoice/lib/python3.10/site-packages/librosa/core/spectrum.py:266: UserWarning: n_fft=1024 is too large for input signal of length=326\n",
      "  warnings.warn(\n",
      "/home/mio/anaconda3/envs/tfvoice/lib/python3.10/site-packages/librosa/core/spectrum.py:266: UserWarning: n_fft=1024 is too large for input signal of length=163\n",
      "  warnings.warn(\n"
     ]
    },
    {
     "name": "stdout",
     "output_type": "stream",
     "text": [
      "Features extracted and saved to data/cleaned/ASD9/1_3_features.txt\n"
     ]
    },
    {
     "name": "stderr",
     "output_type": "stream",
     "text": [
      "/home/mio/anaconda3/envs/tfvoice/lib/python3.10/site-packages/librosa/core/spectrum.py:266: UserWarning: n_fft=1024 is too large for input signal of length=147\n",
      "  warnings.warn(\n"
     ]
    },
    {
     "name": "stdout",
     "output_type": "stream",
     "text": [
      "Features extracted and saved to data/cleaned/ASD19/1_1_features.txt\n"
     ]
    },
    {
     "name": "stderr",
     "output_type": "stream",
     "text": [
      "/home/mio/anaconda3/envs/tfvoice/lib/python3.10/site-packages/librosa/core/spectrum.py:266: UserWarning: n_fft=1024 is too large for input signal of length=681\n",
      "  warnings.warn(\n",
      "/home/mio/anaconda3/envs/tfvoice/lib/python3.10/site-packages/librosa/core/spectrum.py:266: UserWarning: n_fft=1024 is too large for input signal of length=341\n",
      "  warnings.warn(\n",
      "/home/mio/anaconda3/envs/tfvoice/lib/python3.10/site-packages/librosa/core/spectrum.py:266: UserWarning: n_fft=1024 is too large for input signal of length=171\n",
      "  warnings.warn(\n"
     ]
    },
    {
     "name": "stdout",
     "output_type": "stream",
     "text": [
      "Features extracted and saved to data/cleaned/TD23/1_1_features.txt\n"
     ]
    },
    {
     "name": "stderr",
     "output_type": "stream",
     "text": [
      "/home/mio/anaconda3/envs/tfvoice/lib/python3.10/site-packages/librosa/core/spectrum.py:266: UserWarning: n_fft=1024 is too large for input signal of length=990\n",
      "  warnings.warn(\n",
      "/home/mio/anaconda3/envs/tfvoice/lib/python3.10/site-packages/librosa/core/spectrum.py:266: UserWarning: n_fft=1024 is too large for input signal of length=495\n",
      "  warnings.warn(\n",
      "/home/mio/anaconda3/envs/tfvoice/lib/python3.10/site-packages/librosa/core/spectrum.py:266: UserWarning: n_fft=1024 is too large for input signal of length=248\n",
      "  warnings.warn(\n"
     ]
    },
    {
     "name": "stdout",
     "output_type": "stream",
     "text": [
      "Features extracted and saved to data/cleaned/TD23/1_2_features.txt\n"
     ]
    },
    {
     "name": "stderr",
     "output_type": "stream",
     "text": [
      "/home/mio/anaconda3/envs/tfvoice/lib/python3.10/site-packages/librosa/core/spectrum.py:266: UserWarning: n_fft=1024 is too large for input signal of length=935\n",
      "  warnings.warn(\n",
      "/home/mio/anaconda3/envs/tfvoice/lib/python3.10/site-packages/librosa/core/spectrum.py:266: UserWarning: n_fft=1024 is too large for input signal of length=468\n",
      "  warnings.warn(\n"
     ]
    },
    {
     "name": "stdout",
     "output_type": "stream",
     "text": [
      "Features extracted and saved to data/cleaned/TD23/1_4_features.txt\n"
     ]
    },
    {
     "name": "stderr",
     "output_type": "stream",
     "text": [
      "/home/mio/anaconda3/envs/tfvoice/lib/python3.10/site-packages/librosa/core/spectrum.py:266: UserWarning: n_fft=1024 is too large for input signal of length=552\n",
      "  warnings.warn(\n",
      "/home/mio/anaconda3/envs/tfvoice/lib/python3.10/site-packages/librosa/core/spectrum.py:266: UserWarning: n_fft=1024 is too large for input signal of length=276\n",
      "  warnings.warn(\n"
     ]
    },
    {
     "name": "stdout",
     "output_type": "stream",
     "text": [
      "Features extracted and saved to data/cleaned/TD23/1_3_features.txt\n"
     ]
    },
    {
     "name": "stderr",
     "output_type": "stream",
     "text": [
      "/home/mio/anaconda3/envs/tfvoice/lib/python3.10/site-packages/librosa/core/spectrum.py:266: UserWarning: n_fft=1024 is too large for input signal of length=581\n",
      "  warnings.warn(\n"
     ]
    },
    {
     "name": "stdout",
     "output_type": "stream",
     "text": [
      "Features extracted and saved to data/cleaned/TD9/1_1_features.txt\n",
      "Features extracted and saved to data/cleaned/TD9/1_2_features.txt\n",
      "Features extracted and saved to data/cleaned/TD28/1_1_features.txt\n"
     ]
    },
    {
     "name": "stderr",
     "output_type": "stream",
     "text": [
      "/home/mio/anaconda3/envs/tfvoice/lib/python3.10/site-packages/librosa/core/spectrum.py:266: UserWarning: n_fft=1024 is too large for input signal of length=1015\n",
      "  warnings.warn(\n",
      "/home/mio/anaconda3/envs/tfvoice/lib/python3.10/site-packages/librosa/core/spectrum.py:266: UserWarning: n_fft=1024 is too large for input signal of length=508\n",
      "  warnings.warn(\n"
     ]
    },
    {
     "name": "stdout",
     "output_type": "stream",
     "text": [
      "Features extracted and saved to data/cleaned/TD28/1_2_features.txt\n"
     ]
    },
    {
     "name": "stderr",
     "output_type": "stream",
     "text": [
      "/home/mio/anaconda3/envs/tfvoice/lib/python3.10/site-packages/librosa/core/spectrum.py:266: UserWarning: n_fft=1024 is too large for input signal of length=831\n",
      "  warnings.warn(\n",
      "/home/mio/anaconda3/envs/tfvoice/lib/python3.10/site-packages/librosa/core/spectrum.py:266: UserWarning: n_fft=1024 is too large for input signal of length=416\n",
      "  warnings.warn(\n"
     ]
    },
    {
     "name": "stdout",
     "output_type": "stream",
     "text": [
      "Features extracted and saved to data/cleaned/ASD1/1_1_features.txt\n"
     ]
    },
    {
     "name": "stderr",
     "output_type": "stream",
     "text": [
      "/home/mio/anaconda3/envs/tfvoice/lib/python3.10/site-packages/librosa/core/spectrum.py:266: UserWarning: n_fft=1024 is too large for input signal of length=543\n",
      "  warnings.warn(\n"
     ]
    },
    {
     "name": "stdout",
     "output_type": "stream",
     "text": [
      "Features extracted and saved to data/cleaned/ASD1/4_1_features.txt\n"
     ]
    },
    {
     "name": "stderr",
     "output_type": "stream",
     "text": [
      "/home/mio/anaconda3/envs/tfvoice/lib/python3.10/site-packages/librosa/core/spectrum.py:266: UserWarning: n_fft=1024 is too large for input signal of length=859\n",
      "  warnings.warn(\n",
      "/home/mio/anaconda3/envs/tfvoice/lib/python3.10/site-packages/librosa/core/spectrum.py:266: UserWarning: n_fft=1024 is too large for input signal of length=430\n",
      "  warnings.warn(\n",
      "/home/mio/anaconda3/envs/tfvoice/lib/python3.10/site-packages/librosa/core/spectrum.py:266: UserWarning: n_fft=1024 is too large for input signal of length=215\n",
      "  warnings.warn(\n"
     ]
    },
    {
     "name": "stdout",
     "output_type": "stream",
     "text": [
      "Features extracted and saved to data/cleaned/ASD1/3_1_features.txt\n"
     ]
    },
    {
     "name": "stderr",
     "output_type": "stream",
     "text": [
      "/home/mio/anaconda3/envs/tfvoice/lib/python3.10/site-packages/librosa/core/spectrum.py:266: UserWarning: n_fft=1024 is too large for input signal of length=638\n",
      "  warnings.warn(\n"
     ]
    },
    {
     "name": "stdout",
     "output_type": "stream",
     "text": [
      "Features extracted and saved to data/cleaned/ASD1/4_2_features.txt\n"
     ]
    },
    {
     "name": "stderr",
     "output_type": "stream",
     "text": [
      "/home/mio/anaconda3/envs/tfvoice/lib/python3.10/site-packages/librosa/core/spectrum.py:266: UserWarning: n_fft=1024 is too large for input signal of length=587\n",
      "  warnings.warn(\n",
      "/home/mio/anaconda3/envs/tfvoice/lib/python3.10/site-packages/librosa/core/spectrum.py:266: UserWarning: n_fft=1024 is too large for input signal of length=294\n",
      "  warnings.warn(\n"
     ]
    },
    {
     "name": "stdout",
     "output_type": "stream",
     "text": [
      "Features extracted and saved to data/cleaned/ASD1/1_2_features.txt\n",
      "Features extracted and saved to data/cleaned/ASD1/2_1_features.txt\n",
      "Features extracted and saved to data/cleaned/ASD1/3_4_features.txt\n",
      "Features extracted and saved to data/cleaned/ASD1/3_2_features.txt\n",
      "Features extracted and saved to data/cleaned/ASD1/3_3_features.txt\n"
     ]
    }
   ],
   "source": [
    "import librosa\n",
    "import numpy as np\n",
    "import os\n",
    "\n",
    "main_folder = \"/home/mio/Documents/code/Infant_Autism_Classification/paperdata/data/Raw_and_cleaned_cry_data/Sounds/cleaned\"\n",
    "\n",
    "\n",
    "output_main_folder = \"data/cleaned\"\n",
    "\n",
    "\n",
    "def process_wav_file(file_path, output_dir):\n",
    "\n",
    "    audio, sample_rate = librosa.load(file_path)\n",
    "\n",
    "    features = {}\n",
    "    features['chroma_stft'] = librosa.feature.chroma_stft(y=audio, sr=sample_rate).T\n",
    "    features['chroma_cqt'] = librosa.feature.chroma_cqt(y=audio, sr=sample_rate).T\n",
    "    features['chroma_cens'] = librosa.feature.chroma_cens(y=audio, sr=sample_rate).T\n",
    "    #features['chroma_vqt'] = librosa.feature.chroma_vqt(y=audio, sr=sample_rate).T\n",
    "    features['melspectrogram'] = librosa.feature.melspectrogram(y=audio, sr=sample_rate).T\n",
    "    features['mfcc'] = librosa.feature.mfcc(y=audio, sr=sample_rate, n_mfcc=40).T\n",
    "    features['rms'] = librosa.feature.rms(y=audio).T\n",
    "    features['spectral_centroid'] = librosa.feature.spectral_centroid(y=audio, sr=sample_rate).T\n",
    "    features['spectral_bandwidth'] = librosa.feature.spectral_bandwidth(y=audio, sr=sample_rate).T\n",
    "    features['spectral_contrast'] = librosa.feature.spectral_contrast(y=audio, sr=sample_rate).T\n",
    "    features['spectral_flatness'] = librosa.feature.spectral_flatness(y=audio).T\n",
    "    features['spectral_rolloff'] = librosa.feature.spectral_rolloff(y=audio, sr=sample_rate).T\n",
    "    features['poly_features'] = librosa.feature.poly_features(y=audio, sr=sample_rate).T\n",
    "    features['tonnetz'] = librosa.feature.tonnetz(y=librosa.effects.harmonic(audio), sr=sample_rate).T\n",
    "    features['zero_crossing_rate'] = librosa.feature.zero_crossing_rate(y=audio).T\n",
    "\n",
    "    file_name = os.path.splitext(os.path.basename(file_path))[0]\n",
    "    output_txt = os.path.join(output_dir, f\"{file_name}_features.txt\")\n",
    "\n",
    "    with open(output_txt, 'w') as f:\n",
    "        for feature_name, feature_values in features.items():\n",
    "            f.write(f\"Feature: {feature_name}\\n\")\n",
    "            np.savetxt(f, feature_values, delimiter=',', header='', comments='')\n",
    "            f.write(\"\\n\")\n",
    "\n",
    "    print(f\"Features extracted and saved to {output_txt}\")\n",
    "\n",
    "for root, dirs, files in os.walk(main_folder):\n",
    "    for file in files:\n",
    "        if file.endswith('.wav'):\n",
    "            file_path = os.path.join(root, file)\n",
    "            patient_folder = os.path.relpath(root, main_folder)\n",
    "            output_dir = os.path.join(output_main_folder, patient_folder)\n",
    "\n",
    "            os.makedirs(output_dir, exist_ok=True)\n",
    "\n",
    "            process_wav_file(file_path, output_dir)\n"
   ]
  },
  {
   "cell_type": "code",
   "execution_count": 2,
   "metadata": {},
   "outputs": [
    {
     "name": "stdout",
     "output_type": "stream",
     "text": [
      "Features extracted and saved to data/original/ASD12/2_features.txt\n",
      "Features extracted and saved to data/original/ASD12/3_features.txt\n",
      "Features extracted and saved to data/original/ASD12/1_features.txt\n",
      "Features extracted and saved to data/original/TD14/2_features.txt\n",
      "Features extracted and saved to data/original/TD14/1_features.txt\n",
      "Features extracted and saved to data/original/TD25/2_features.txt\n",
      "Features extracted and saved to data/original/TD25/1_features.txt\n",
      "Features extracted and saved to data/original/ASD3/50010_39_features.txt\n",
      "Features extracted and saved to data/original/ASD3/50010_14_features.txt\n",
      "Features extracted and saved to data/original/ASD3/50010_5_features.txt\n",
      "Features extracted and saved to data/original/ASD3/50010_20_features.txt\n",
      "Features extracted and saved to data/original/ASD3/50010_31_features.txt\n",
      "Features extracted and saved to data/original/ASD5/8_features.txt\n",
      "Features extracted and saved to data/original/ASD5/7_features.txt\n",
      "Features extracted and saved to data/original/ASD5/5_features.txt\n",
      "Features extracted and saved to data/original/ASD5/2_features.txt\n",
      "Features extracted and saved to data/original/ASD5/6_features.txt\n",
      "Features extracted and saved to data/original/ASD5/4_features.txt\n",
      "Features extracted and saved to data/original/ASD5/3_features.txt\n",
      "Features extracted and saved to data/original/ASD5/1_features.txt\n",
      "Features extracted and saved to data/original/ASD5/9_features.txt\n",
      "Features extracted and saved to data/original/TD19/1_features.txt\n",
      "Features extracted and saved to data/original/ASD4/hir_10_1_features.txt\n",
      "Features extracted and saved to data/original/ASD4/Sound10_features.txt\n",
      "Features extracted and saved to data/original/ASD4/Sound5_features.txt\n",
      "Features extracted and saved to data/original/ASD4/hir_18_1_features.txt\n",
      "Features extracted and saved to data/original/ASD4/Sound8_features.txt\n",
      "Features extracted and saved to data/original/ASD4/Sound1_features.txt\n",
      "Features extracted and saved to data/original/ASD4/Sound11_features.txt\n",
      "Features extracted and saved to data/original/ASD4/Sound23_features.txt\n",
      "Features extracted and saved to data/original/ASD4/Sound9_features.txt\n",
      "Features extracted and saved to data/original/ASD4/Sound19_features.txt\n",
      "Features extracted and saved to data/original/ASD4/Sound7_features.txt\n",
      "Features extracted and saved to data/original/ASD4/hir_12_1_features.txt\n",
      "Features extracted and saved to data/original/ASD4/Sound16_features.txt\n",
      "Features extracted and saved to data/original/ASD4/Sound3_features.txt\n",
      "Features extracted and saved to data/original/ASD4/Sound2_features.txt\n",
      "Features extracted and saved to data/original/ASD4/Sound21_features.txt\n",
      "Features extracted and saved to data/original/ASD4/Sound4_features.txt\n",
      "Features extracted and saved to data/original/ASD4/Sound14_features.txt\n",
      "Features extracted and saved to data/original/ASD4/Sound13_features.txt\n",
      "Features extracted and saved to data/original/ASD4/Sound15_features.txt\n",
      "Features extracted and saved to data/original/ASD4/Sound20_features.txt\n",
      "Features extracted and saved to data/original/ASD4/Sound18_features.txt\n",
      "Features extracted and saved to data/original/ASD4/Sound6_features.txt\n",
      "Features extracted and saved to data/original/ASD4/hir_12_2_features.txt\n",
      "Features extracted and saved to data/original/ASD4/Sound22_features.txt\n",
      "Features extracted and saved to data/original/ASD4/Sound17_features.txt\n",
      "Features extracted and saved to data/original/ASD4/hir_17_1_features.txt\n",
      "Features extracted and saved to data/original/ASD4/Sound12_features.txt\n",
      "Features extracted and saved to data/original/ASD22/5_features.txt\n",
      "Features extracted and saved to data/original/ASD22/2_features.txt\n",
      "Features extracted and saved to data/original/ASD22/6_features.txt\n",
      "Features extracted and saved to data/original/ASD22/4_features.txt\n",
      "Features extracted and saved to data/original/ASD22/3_features.txt\n",
      "Features extracted and saved to data/original/ASD22/1_features.txt\n",
      "Features extracted and saved to data/original/TD27/1_features.txt\n",
      "Features extracted and saved to data/original/TD22/1_features.txt\n",
      "Features extracted and saved to data/original/ASD25/2_features.txt\n",
      "Features extracted and saved to data/original/ASD25/3_features.txt\n",
      "Features extracted and saved to data/original/ASD25/1_features.txt\n",
      "Features extracted and saved to data/original/TD5/1_features.txt\n",
      "Features extracted and saved to data/original/TD10/2_features.txt\n",
      "Features extracted and saved to data/original/TD10/1_features.txt\n",
      "Features extracted and saved to data/original/TD2/2_features.txt\n",
      "Features extracted and saved to data/original/TD2/4_features.txt\n",
      "Features extracted and saved to data/original/TD2/3_features.txt\n",
      "Features extracted and saved to data/original/TD2/1_features.txt\n",
      "Features extracted and saved to data/original/ASD26/2_features.txt\n",
      "Features extracted and saved to data/original/ASD26/1_features.txt\n",
      "Features extracted and saved to data/original/TD18/1_features.txt\n",
      "Features extracted and saved to data/original/ASD6/2_features.txt\n",
      "Features extracted and saved to data/original/ASD6/3_features.txt\n",
      "Features extracted and saved to data/original/ASD6/1_features.txt\n",
      "Features extracted and saved to data/original/TD31/2_features.txt\n",
      "Features extracted and saved to data/original/TD31/1_features.txt\n",
      "Features extracted and saved to data/original/ASD20/30_1_features.txt\n",
      "Features extracted and saved to data/original/ASD20/7_1_features.txt\n",
      "Features extracted and saved to data/original/ASD20/22_1_features.txt\n",
      "Features extracted and saved to data/original/ASD20/21_1_features.txt\n",
      "Features extracted and saved to data/original/ASD20/15_5_features.txt\n",
      "Features extracted and saved to data/original/ASD20/12_13_features.txt\n",
      "Features extracted and saved to data/original/ASD20/1_1_features.txt\n",
      "Features extracted and saved to data/original/ASD20/29_1_features.txt\n",
      "Features extracted and saved to data/original/ASD20/18_1_features.txt\n",
      "Features extracted and saved to data/original/ASD20/19_1_features.txt\n",
      "Features extracted and saved to data/original/ASD20/12_11_features.txt\n",
      "Features extracted and saved to data/original/ASD20/24_1_features.txt\n",
      "Features extracted and saved to data/original/ASD20/10_5_features.txt\n",
      "Features extracted and saved to data/original/ASD20/17_9_features.txt\n",
      "Features extracted and saved to data/original/ASD20/17_7_features.txt\n",
      "Features extracted and saved to data/original/ASD20/8_5_features.txt\n",
      "Features extracted and saved to data/original/ASD20/14_2_features.txt\n",
      "Features extracted and saved to data/original/ASD20/11_2_features.txt\n",
      "Features extracted and saved to data/original/ASD20/13_3_features.txt\n",
      "Features extracted and saved to data/original/ASD20/25_2_features.txt\n",
      "Features extracted and saved to data/original/ASD20/9_2_features.txt\n",
      "Features extracted and saved to data/original/ASD20/11_1_features.txt\n",
      "Features extracted and saved to data/original/ASD20/17_11_features.txt\n",
      "Features extracted and saved to data/original/ASD20/17_1_features.txt\n",
      "Features extracted and saved to data/original/TD4/1_features.txt\n",
      "Features extracted and saved to data/original/ASD8/1_features.txt\n",
      "Features extracted and saved to data/original/ASD30/2_features.txt\n",
      "Features extracted and saved to data/original/ASD30/1_features.txt\n",
      "Features extracted and saved to data/original/ASD21/5_features.txt\n",
      "Features extracted and saved to data/original/ASD21/2_features.txt\n",
      "Features extracted and saved to data/original/ASD21/6_features.txt\n",
      "Features extracted and saved to data/original/ASD21/4_features.txt\n",
      "Features extracted and saved to data/original/ASD21/3_features.txt\n",
      "Features extracted and saved to data/original/ASD21/1_features.txt\n",
      "Features extracted and saved to data/original/ASD17/2_features.txt\n",
      "Features extracted and saved to data/original/ASD17/4_features.txt\n",
      "Features extracted and saved to data/original/ASD17/3_features.txt\n",
      "Features extracted and saved to data/original/ASD17/1_features.txt\n",
      "Features extracted and saved to data/original/TD20/1_features.txt\n",
      "Features extracted and saved to data/original/ASD10/2_features.txt\n",
      "Features extracted and saved to data/original/ASD10/interact#2017_02_11#14_24_42#1(000)_features.txt\n",
      "Features extracted and saved to data/original/ASD10/3_features.txt\n",
      "Features extracted and saved to data/original/ASD10/interact#2017_02_11#14_25_49#1(000)_features.txt\n",
      "Features extracted and saved to data/original/ASD10/1_features.txt\n",
      "Features extracted and saved to data/original/ASD10/interact#2017_02_11#14_27_21#2(000_222)_features.txt\n",
      "Features extracted and saved to data/original/TD26/1_features.txt\n",
      "Features extracted and saved to data/original/ASD13/5_features.txt\n",
      "Features extracted and saved to data/original/ASD13/2_features.txt\n",
      "Features extracted and saved to data/original/ASD13/6_features.txt\n",
      "Features extracted and saved to data/original/ASD13/4_features.txt\n",
      "Features extracted and saved to data/original/ASD13/3_features.txt\n",
      "Features extracted and saved to data/original/ASD13/1_features.txt\n",
      "Features extracted and saved to data/original/TD15/2_features.txt\n",
      "Features extracted and saved to data/original/TD15/1_features.txt\n",
      "Features extracted and saved to data/original/ASD31/2_features.txt\n",
      "Features extracted and saved to data/original/ASD31/1_features.txt\n",
      "Features extracted and saved to data/original/TD8/2_features.txt\n",
      "Features extracted and saved to data/original/TD8/3_features.txt\n",
      "Features extracted and saved to data/original/TD8/1_features.txt\n",
      "Features extracted and saved to data/original/TD17/1_features.txt\n",
      "Features extracted and saved to data/original/ASD27/8_features.txt\n",
      "Features extracted and saved to data/original/ASD27/7_features.txt\n",
      "Features extracted and saved to data/original/ASD27/5_features.txt\n",
      "Features extracted and saved to data/original/ASD27/2_features.txt\n",
      "Features extracted and saved to data/original/ASD27/11_features.txt\n",
      "Features extracted and saved to data/original/ASD27/12_features.txt\n",
      "Features extracted and saved to data/original/ASD27/6_features.txt\n",
      "Features extracted and saved to data/original/ASD27/13_features.txt\n",
      "Features extracted and saved to data/original/ASD27/4_features.txt\n",
      "Features extracted and saved to data/original/ASD27/3_features.txt\n",
      "Features extracted and saved to data/original/ASD27/10_features.txt\n",
      "Features extracted and saved to data/original/ASD27/1_features.txt\n",
      "Features extracted and saved to data/original/ASD27/9_features.txt\n",
      "Features extracted and saved to data/original/TD24/2_features.txt\n",
      "Features extracted and saved to data/original/TD24/4_features.txt\n",
      "Features extracted and saved to data/original/TD24/3_features.txt\n",
      "Features extracted and saved to data/original/TD24/1_features.txt\n",
      "Features extracted and saved to data/original/ASD24/8_features.txt\n",
      "Features extracted and saved to data/original/ASD24/7_features.txt\n",
      "Features extracted and saved to data/original/ASD24/5_features.txt\n",
      "Features extracted and saved to data/original/ASD24/2_features.txt\n",
      "Features extracted and saved to data/original/ASD24/11_features.txt\n",
      "Features extracted and saved to data/original/ASD24/12_features.txt\n",
      "Features extracted and saved to data/original/ASD24/6_features.txt\n",
      "Features extracted and saved to data/original/ASD24/4_features.txt\n",
      "Features extracted and saved to data/original/ASD24/3_features.txt\n",
      "Features extracted and saved to data/original/ASD24/10_features.txt\n",
      "Features extracted and saved to data/original/ASD24/1_features.txt\n",
      "Features extracted and saved to data/original/ASD24/9_features.txt\n",
      "Features extracted and saved to data/original/ASD23/2_features.txt\n",
      "Features extracted and saved to data/original/ASD23/3_features.txt\n",
      "Features extracted and saved to data/original/ASD23/1_features.txt\n",
      "Features extracted and saved to data/original/ASD7/2_features.txt\n",
      "Features extracted and saved to data/original/ASD7/3_features.txt\n",
      "Features extracted and saved to data/original/ASD7/1_features.txt\n",
      "Features extracted and saved to data/original/ASD14/2_features.txt\n",
      "Features extracted and saved to data/original/ASD14/1_features.txt\n",
      "Features extracted and saved to data/original/ASD9/1_features.txt\n",
      "Features extracted and saved to data/original/ASD19/5_features.txt\n",
      "Features extracted and saved to data/original/ASD19/2_features.txt\n",
      "Features extracted and saved to data/original/ASD19/4_features.txt\n",
      "Features extracted and saved to data/original/ASD19/3_features.txt\n",
      "Features extracted and saved to data/original/ASD19/1_features.txt\n",
      "Features extracted and saved to data/original/TD23/1_features.txt\n",
      "Features extracted and saved to data/original/TD9/2_features.txt\n",
      "Features extracted and saved to data/original/TD9/1_features.txt\n",
      "Features extracted and saved to data/original/TD28/1_features.txt\n",
      "Features extracted and saved to data/original/ASD1/8_features.txt\n",
      "Features extracted and saved to data/original/ASD1/7_features.txt\n",
      "Features extracted and saved to data/original/ASD1/5_features.txt\n",
      "Features extracted and saved to data/original/ASD1/2_features.txt\n",
      "Features extracted and saved to data/original/ASD1/6_features.txt\n",
      "Features extracted and saved to data/original/ASD1/4_features.txt\n",
      "Features extracted and saved to data/original/ASD1/3_features.txt\n",
      "Features extracted and saved to data/original/ASD1/1_features.txt\n"
     ]
    }
   ],
   "source": [
    "import librosa\n",
    "import numpy as np\n",
    "import os\n",
    "import warnings \n",
    "warnings.filterwarnings('ignore') \n",
    "\n",
    "main_folder = \"/home/mio/Documents/code/Infant_Autism_Classification/paperdata/data/Raw_and_cleaned_cry_data/Sounds/original\"\n",
    "\n",
    "\n",
    "output_main_folder = \"data/original\"\n",
    "\n",
    "\n",
    "def process_wav_file(file_path, output_dir):\n",
    "\n",
    "    audio, sample_rate = librosa.load(file_path)\n",
    "\n",
    "    features = {}\n",
    "    features['chroma_stft'] = librosa.feature.chroma_stft(y=audio, sr=sample_rate).T\n",
    "    features['chroma_cqt'] = librosa.feature.chroma_cqt(y=audio, sr=sample_rate).T\n",
    "    features['chroma_cens'] = librosa.feature.chroma_cens(y=audio, sr=sample_rate).T\n",
    "    #features['chroma_vqt'] = librosa.feature.chroma_vqt(y=audio, sr=sample_rate).T\n",
    "    features['melspectrogram'] = librosa.feature.melspectrogram(y=audio, sr=sample_rate).T\n",
    "    features['mfcc'] = librosa.feature.mfcc(y=audio, sr=sample_rate, n_mfcc=40).T\n",
    "    features['rms'] = librosa.feature.rms(y=audio).T\n",
    "    features['spectral_centroid'] = librosa.feature.spectral_centroid(y=audio, sr=sample_rate).T\n",
    "    features['spectral_bandwidth'] = librosa.feature.spectral_bandwidth(y=audio, sr=sample_rate).T\n",
    "    features['spectral_contrast'] = librosa.feature.spectral_contrast(y=audio, sr=sample_rate).T\n",
    "    features['spectral_flatness'] = librosa.feature.spectral_flatness(y=audio).T\n",
    "    features['spectral_rolloff'] = librosa.feature.spectral_rolloff(y=audio, sr=sample_rate).T\n",
    "    features['poly_features'] = librosa.feature.poly_features(y=audio, sr=sample_rate).T\n",
    "    features['tonnetz'] = librosa.feature.tonnetz(y=librosa.effects.harmonic(audio), sr=sample_rate).T\n",
    "    features['zero_crossing_rate'] = librosa.feature.zero_crossing_rate(y=audio).T\n",
    "\n",
    "    file_name = os.path.splitext(os.path.basename(file_path))[0]\n",
    "    output_txt = os.path.join(output_dir, f\"{file_name}_features.txt\")\n",
    "\n",
    "    with open(output_txt, 'w') as f:\n",
    "        for feature_name, feature_values in features.items():\n",
    "            f.write(f\"Feature: {feature_name}\\n\")\n",
    "            np.savetxt(f, feature_values, delimiter=',', header='', comments='')\n",
    "            f.write(\"\\n\")\n",
    "\n",
    "    print(f\"Features extracted and saved to {output_txt}\")\n",
    "\n",
    "for root, dirs, files in os.walk(main_folder):\n",
    "    for file in files:\n",
    "        if file.endswith('.wav'):\n",
    "            file_path = os.path.join(root, file)\n",
    "            patient_folder = os.path.relpath(root, main_folder)\n",
    "            output_dir = os.path.join(output_main_folder, patient_folder)\n",
    "\n",
    "            os.makedirs(output_dir, exist_ok=True)\n",
    "\n",
    "            process_wav_file(file_path, output_dir)\n"
   ]
  },
  {
   "cell_type": "code",
   "execution_count": null,
   "metadata": {},
   "outputs": [],
   "source": []
  }
 ],
 "metadata": {
  "kernelspec": {
   "display_name": "tfvoice",
   "language": "python",
   "name": "python3"
  },
  "language_info": {
   "codemirror_mode": {
    "name": "ipython",
    "version": 3
   },
   "file_extension": ".py",
   "mimetype": "text/x-python",
   "name": "python",
   "nbconvert_exporter": "python",
   "pygments_lexer": "ipython3",
   "version": "3.10.14"
  }
 },
 "nbformat": 4,
 "nbformat_minor": 2
}
